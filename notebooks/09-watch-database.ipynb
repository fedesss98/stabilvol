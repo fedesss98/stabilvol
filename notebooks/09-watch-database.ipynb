{
 "cells": [
  {
   "cell_type": "code",
   "execution_count": null,
   "id": "initial_id",
   "metadata": {
    "collapsed": true
   },
   "outputs": [],
   "source": [
    "import sqlite3\n",
    "import pandas as pd\n",
    "import numpy as np\n",
    "from stabilvol.utility import functions as f\n",
    "\n",
    "DATABASE = '../data/processed/trapezoidal_selection/stabilvol.sqlite'"
   ]
  },
  {
   "cell_type": "code",
   "execution_count": null,
   "outputs": [],
   "source": [
    "import os\n",
    "print(os.getcwd())\n",
    "os.path.exists(DATABASE)"
   ],
   "metadata": {
    "collapsed": false
   },
   "id": "7f6fe3d812c480ff"
  },
  {
   "cell_type": "code",
   "execution_count": null,
   "outputs": [],
   "source": [
    "# Connect to the SQLite database\n",
    "conn = sqlite3.connect(DATABASE)\n",
    "cur = conn.cursor()\n",
    "\n",
    "# Query the database to get all table names\n",
    "cur.execute(\"SELECT name FROM sqlite_master WHERE type='table'\")\n",
    "table_names = cur.fetchall()\n",
    "table_names = np.array([x[0] for x in table_names])\n",
    "table_names.shape[0]"
   ],
   "metadata": {
    "collapsed": false
   },
   "id": "cf93af51e1008011"
  },
  {
   "cell_type": "code",
   "execution_count": null,
   "outputs": [],
   "source": [
    "thresholds = f.list_database_thresholds('../data/processed/trapezoidal_selection/stabilvol.sqlite')"
   ],
   "metadata": {
    "collapsed": false
   },
   "id": "6b3054240c548fd4"
  },
  {
   "cell_type": "code",
   "execution_count": null,
   "outputs": [],
   "source": [
    "pd.DataFrame(thresholds, columns=['t1', 't2']).to_csv('data/processed/trapezoidal_selection/thresholds.csv', index=False)"
   ],
   "metadata": {
    "collapsed": false
   },
   "id": "3bd94bdcf1b19771"
  },
  {
   "cell_type": "code",
   "execution_count": null,
   "outputs": [],
   "source": [],
   "metadata": {
    "collapsed": false
   },
   "id": "3800990a0b88dcb6"
  }
 ],
 "metadata": {
  "kernelspec": {
   "display_name": "Python 3",
   "language": "python",
   "name": "python3"
  },
  "language_info": {
   "codemirror_mode": {
    "name": "ipython",
    "version": 2
   },
   "file_extension": ".py",
   "mimetype": "text/x-python",
   "name": "python",
   "nbconvert_exporter": "python",
   "pygments_lexer": "ipython2",
   "version": "2.7.6"
  }
 },
 "nbformat": 4,
 "nbformat_minor": 5
}
