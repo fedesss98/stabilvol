{
 "cells": [
  {
   "cell_type": "markdown",
   "id": "c44dddebf3abc6cc",
   "metadata": {
    "collapsed": false,
    "jupyter": {
     "outputs_hidden": false
    }
   },
   "source": [
    "# MFHT Rolling Windows PDF Comparison\n",
    "\n",
    "A day-by-day comparison is hard to look at, there are too little changes.\n",
    "---\n",
    "To do: \n",
    "1) Only accounts for dates where we must reject the null hypothesis (p-value < 0.05) in favour of the alternative (data were drawn from *different* distributions)\n",
    "2) Increase the distance between the windows to compare:\n",
    "    - 28 days *(one month)* ---OK\n",
    "    - 3 months *(one quarter, 90 days)*  ---OK\n",
    "    - 1 year *(365 days)*  ---OK\n",
    "    - 2 years *(500 days)* "
   ]
  },
  {
   "cell_type": "code",
   "execution_count": 1,
   "id": "d1674e86e0f257dc",
   "metadata": {
    "ExecuteTime": {
     "end_time": "2024-03-28T15:53:24.148680Z",
     "start_time": "2024-03-28T15:53:23.899386Z"
    },
    "collapsed": false,
    "jupyter": {
     "outputs_hidden": false
    }
   },
   "outputs": [
    {
     "name": "stderr",
     "output_type": "stream",
     "text": [
      "<>:13: SyntaxWarning: invalid escape sequence '\\s'\n",
      "<>:13: SyntaxWarning: invalid escape sequence '\\s'\n",
      "E:\\Temp\\ipykernel_27216\\2228032097.py:13: SyntaxWarning: invalid escape sequence '\\s'\n",
      "  sys.path.append(\"..\\stabilvol\")\n"
     ]
    },
    {
     "name": "stdout",
     "output_type": "stream",
     "text": [
      "g:\\UNIPA\\ECONOFISICA\\stabilizing_volatility\\notebooks\n"
     ]
    }
   ],
   "source": [
    "import sqlite3\n",
    "\n",
    "import matplotlib.pyplot as plt\n",
    "import pandas as pd\n",
    "import numpy as np\n",
    "from matplotlib import colors\n",
    "from scipy.stats import ks_2samp\n",
    "from tqdm import tqdm\n",
    "import datetime\n",
    "\n",
    "import seaborn as sns\n",
    "import sys\n",
    "sys.path.append(\"..\\stabilvol\")\n",
    "from utility import functions as f\n",
    "\n",
    "DATABASE = '../data/processed/trapezoidal_selection/stabilvol_filtered.sqlite'\n",
    "# Connect to the SQLite database\n",
    "conn = sqlite3.connect(DATABASE)\n",
    "cur = conn.cursor()\n",
    "import os\n",
    "print(os.getcwd())\n",
    "os.path.exists(DATABASE)\n",
    "\n",
    "MARKETS = [\"UN\", \"UW\", \"LN\", \"JT\"]\n",
    "START_DATE = \"1980-01-01\"\n",
    "END_DATE = \"2022-07-01\"\n",
    "\n",
    "START_LEVELS = [-2.0, -1.0, -0.5, -0.2, -0.1, 0.1, 0.2, 0.5, 1.0, 2.0]\n",
    "DELTAS = [2.0, 1.0, 0.5, 0.2, 0.1, -0.1, -0.2, -0.5, -1.0, -2.0]\n",
    "LEVELS = {\n",
    "    (start, round(start+delta, 2)) for start in START_LEVELS for delta in DELTAS\n",
    "}\n",
    "LEVELS = sorted(LEVELS)\n",
    "\n",
    "VOL_LIMIT= 0.5  # Change this will change all the pickle files, remember to re-generate them\n",
    "TAU_MAX = 30\n",
    "NBINS = 50\n",
    "\n",
    "NDAYS = 365"
   ]
  },
  {
   "cell_type": "code",
   "execution_count": 2,
   "id": "88d2fb62bcaeaccf",
   "metadata": {
    "ExecuteTime": {
     "end_time": "2024-03-28T15:53:24.163870Z",
     "start_time": "2024-03-28T15:53:24.150673Z"
    },
    "collapsed": false,
    "jupyter": {
     "outputs_hidden": false
    }
   },
   "outputs": [],
   "source": [
    "def select_bins(df, nbins=NBINS, max_n=1000):\n",
    "    \n",
    "    while True:\n",
    "        # Use qcut to bin 'Volatility' values\n",
    "        df['Bins'] = pd.qcut(df['Volatility'], nbins, duplicates='drop')\n",
    "        \n",
    "        # Group by the bins and calculate the mean and the number of observations in each bin\n",
    "        grouped = df.groupby('Bins', observed=False)['FHT'].agg(['mean', 'size'])\n",
    "        # Take the lowest count of observations in the bins\n",
    "        count = grouped['size'].min()\n",
    "        \n",
    "        if count < max_n or nbins > 1000:\n",
    "            break\n",
    "        else: \n",
    "            nbins += 100\n",
    "    return grouped, nbins\n",
    "\n",
    "def error_on_the_mean(values):\n",
    "    return np.std(values)/np.sqrt(len(values))"
   ]
  },
  {
   "cell_type": "code",
   "execution_count": 3,
   "id": "2e3d85c019d3aa83",
   "metadata": {
    "ExecuteTime": {
     "end_time": "2024-03-28T15:53:24.179870Z",
     "start_time": "2024-03-28T15:53:24.164878Z"
    },
    "collapsed": false,
    "jupyter": {
     "outputs_hidden": false
    }
   },
   "outputs": [],
   "source": [
    "def query_binned_data(market: str, start_date:str, end_date:str = None, vol_limit:float = 0.5, t1_string:str = \"m0p5\", t2_string:str = \"m1p5\"):\n",
    "    grouped_data = None\n",
    "    end_date = '2023-01-01' if end_date is None else end_date\n",
    "    try:            \n",
    "        # Write the SQL query\n",
    "        query = f'''\n",
    "        SELECT *\n",
    "        FROM stabilvol_{t1_string}_{t2_string}\n",
    "        WHERE Volatility < {vol_limit} \n",
    "        AND Market = \"{market}\"\n",
    "        AND start >= \"{start_date}\"\n",
    "        AND end <= \"{end_date}\"\n",
    "        AND FHT <= \"{TAU_MAX}\"    \n",
    "        '''\n",
    "        # Load the FHT data from the database\n",
    "        df = pd.read_sql_query(query, conn)\n",
    "    except pd.errors.DatabaseError:\n",
    "        print(f'No data for market {market} with thresholds {t1_string}-{t2_string}')\n",
    "        nbins = 0\n",
    "    else:\n",
    "        if len(df) > 50:\n",
    "            return  select_bins(df, NBINS)\n",
    "        else:\n",
    "            raise ValueError(f'Not enough data for market {market} with thresholds {t1_string}-{t2_string} from {start_date} to {end_date}')"
   ]
  },
  {
   "cell_type": "code",
   "execution_count": 4,
   "id": "59184695ac0cefb6",
   "metadata": {
    "ExecuteTime": {
     "end_time": "2024-03-28T15:53:24.194877Z",
     "start_time": "2024-03-28T15:53:24.180870Z"
    },
    "collapsed": false,
    "jupyter": {
     "outputs_hidden": false
    }
   },
   "outputs": [],
   "source": [
    "def create_dataset_old(markets, windows, t1_string, t2_string, vol_limit=VOL_LIMIT):\n",
    "    outcasts = {market: [] for market in markets}\n",
    "    df_list = list()\n",
    "    for market in markets:\n",
    "        for start_date, end_date in tqdm(windows, desc=market):\n",
    "            try:\n",
    "                mfht, nbins = query_binned_data(market, start_date, end_date, vol_limit, t1_string=t1_string, t2_string=t2_string)         \n",
    "            except ValueError:\n",
    "                outcasts[market].append((start_date, end_date))\n",
    "            else:\n",
    "                mfht['start'] = start_date\n",
    "                mfht['end'] = end_date\n",
    "                mfht['market'] = market\n",
    "                df_list.append(mfht.reset_index())\n",
    "                \n",
    "    return pd.concat(df_list), outcasts"
   ]
  },
  {
   "cell_type": "code",
   "execution_count": 5,
   "id": "c0ff6e67-700f-425c-9c44-dbd9745d86cb",
   "metadata": {},
   "outputs": [
    {
     "data": {
      "text/html": [
       "<div>\n",
       "<style scoped>\n",
       "    .dataframe tbody tr th:only-of-type {\n",
       "        vertical-align: middle;\n",
       "    }\n",
       "\n",
       "    .dataframe tbody tr th {\n",
       "        vertical-align: top;\n",
       "    }\n",
       "\n",
       "    .dataframe thead th {\n",
       "        text-align: right;\n",
       "    }\n",
       "</style>\n",
       "<table border=\"1\" class=\"dataframe\">\n",
       "  <thead>\n",
       "    <tr style=\"text-align: right;\">\n",
       "      <th></th>\n",
       "      <th>Bins</th>\n",
       "      <th>mean</th>\n",
       "      <th>size</th>\n",
       "      <th>start</th>\n",
       "      <th>end</th>\n",
       "      <th>market</th>\n",
       "    </tr>\n",
       "  </thead>\n",
       "  <tbody>\n",
       "    <tr>\n",
       "      <th>0</th>\n",
       "      <td>(-0.0001, 1.464e-05]</td>\n",
       "      <td>2.312057</td>\n",
       "      <td>141</td>\n",
       "      <td>1980-01-01</td>\n",
       "      <td>1980-12-30</td>\n",
       "      <td>UN</td>\n",
       "    </tr>\n",
       "    <tr>\n",
       "      <th>1</th>\n",
       "      <td>(1.464e-05, 4.557e-05]</td>\n",
       "      <td>2.085714</td>\n",
       "      <td>35</td>\n",
       "      <td>1980-01-01</td>\n",
       "      <td>1980-12-30</td>\n",
       "      <td>UN</td>\n",
       "    </tr>\n",
       "    <tr>\n",
       "      <th>2</th>\n",
       "      <td>(4.557e-05, 0.0001037]</td>\n",
       "      <td>2.200000</td>\n",
       "      <td>35</td>\n",
       "      <td>1980-01-01</td>\n",
       "      <td>1980-12-30</td>\n",
       "      <td>UN</td>\n",
       "    </tr>\n",
       "    <tr>\n",
       "      <th>3</th>\n",
       "      <td>(0.0001037, 0.0002368]</td>\n",
       "      <td>2.257143</td>\n",
       "      <td>35</td>\n",
       "      <td>1980-01-01</td>\n",
       "      <td>1980-12-30</td>\n",
       "      <td>UN</td>\n",
       "    </tr>\n",
       "    <tr>\n",
       "      <th>4</th>\n",
       "      <td>(0.0002368, 0.001301]</td>\n",
       "      <td>2.257143</td>\n",
       "      <td>35</td>\n",
       "      <td>1980-01-01</td>\n",
       "      <td>1980-12-30</td>\n",
       "      <td>UN</td>\n",
       "    </tr>\n",
       "  </tbody>\n",
       "</table>\n",
       "</div>"
      ],
      "text/plain": [
       "                     Bins      mean  size      start        end market\n",
       "0    (-0.0001, 1.464e-05]  2.312057   141 1980-01-01 1980-12-30     UN\n",
       "1  (1.464e-05, 4.557e-05]  2.085714    35 1980-01-01 1980-12-30     UN\n",
       "2  (4.557e-05, 0.0001037]  2.200000    35 1980-01-01 1980-12-30     UN\n",
       "3  (0.0001037, 0.0002368]  2.257143    35 1980-01-01 1980-12-30     UN\n",
       "4   (0.0002368, 0.001301]  2.257143    35 1980-01-01 1980-12-30     UN"
      ]
     },
     "execution_count": 5,
     "metadata": {},
     "output_type": "execute_result"
    }
   ],
   "source": [
    "df = pd.read_pickle(f'../data/processed/dynamics/UN_rolling_MFHT_peaks_0p5_1p5_200bins_{VOL_LIMIT}.pickle')\n",
    "df.head()"
   ]
  },
  {
   "cell_type": "code",
   "execution_count": 6,
   "id": "b2e37c86-fbb5-477e-a06e-0e999d847918",
   "metadata": {},
   "outputs": [
    {
     "data": {
      "text/plain": [
       "<Axes: xlabel='x', ylabel='mean'>"
      ]
     },
     "execution_count": 6,
     "metadata": {},
     "output_type": "execute_result"
    },
    {
     "data": {
      "image/png": "[encoded data removed]",
      "text/plain": [
       "<Figure size 640x480 with 1 Axes>"
      ]
     },
     "metadata": {},
     "output_type": "display_data"
    }
   ],
   "source": [
    "df['x'] = df[\"Bins\"].apply(lambda x: float(x.left))\n",
    "df.plot.scatter(x='x', y='mean')"
   ]
  },
  {
   "cell_type": "code",
   "execution_count": 7,
   "id": "fc6f2916-12bf-45fe-8fbd-a4c3e2ea2119",
   "metadata": {},
   "outputs": [],
   "source": [
    "plt.close('all')"
   ]
  },
  {
   "cell_type": "code",
   "execution_count": 8,
   "id": "43aab0f5454f5f7c",
   "metadata": {
    "ExecuteTime": {
     "end_time": "2024-03-28T15:53:24.226878Z",
     "start_time": "2024-03-28T15:53:24.196880Z"
    },
    "collapsed": false,
    "jupyter": {
     "outputs_hidden": false
    }
   },
   "outputs": [],
   "source": [
    "from multiprocessing import Pool, current_process\n",
    "\n",
    "def process_market_window(args):\n",
    "    print(f\"Processing {args} on process id {current_process().pid}\")\n",
    "    market, window, t1_string, t2_string = args\n",
    "    try:\n",
    "        mfht, nbins = query_binned_data(market, *window, vol_limit=VOL_LIMIT, t1_string=t1_string, t2_string=t2_string)\n",
    "    except ValueError:\n",
    "        return (market, window)\n",
    "    else:\n",
    "        mfht['start'] = window[0]\n",
    "        mfht['end'] = window[1]\n",
    "        mfht['market'] = market\n",
    "        return mfht.reset_index()\n",
    "\n",
    "def create_dataset(markets, windows, t1_string, t2_string, vol_limit=VOL_LIMIT):\n",
    "    outcasts = {market: [] for market in markets}\n",
    "    df_list = list()\n",
    "\n",
    "    with Pool(processes=10) as pool:\n",
    "        args = [(market, window, t1_string, t2_string) for market in markets for window in windows]\n",
    "        results = pool.map(process_market_window, args)\n",
    "\n",
    "    for result in results:\n",
    "        if isinstance(result, pd.DataFrame):\n",
    "            df_list.append(result)\n",
    "        else:\n",
    "            market, window = result\n",
    "            outcasts[market].append(window)\n",
    "\n",
    "    return pd.concat(df_list), outcasts"
   ]
  },
  {
   "cell_type": "code",
   "execution_count": 9,
   "id": "9228e1548d39044e",
   "metadata": {
    "ExecuteTime": {
     "end_time": "2024-03-28T15:53:24.242881Z",
     "start_time": "2024-03-28T15:53:24.227870Z"
    },
    "collapsed": false,
    "jupyter": {
     "outputs_hidden": false
    }
   },
   "outputs": [],
   "source": [
    "def test_mfhts(market, windows, ndays, coefficients, regenerate=False):\n",
    "    \"\"\"\n",
    "    Perform a KS-test on the MFHT of one window against that shifted ndays later.\n",
    "    \"\"\"\n",
    "    outcasts = {coeff: [] for coeff in coefficients}\n",
    "    # Alllocate space for the p-values and statistics values of the KS-test\n",
    "    p_values = np.zeros((len(coefficients), len(windows) - ndays)) - 1\n",
    "    stats_values = np.zeros((len(coefficients), len(windows) - ndays)) - 1\n",
    "    if not regenerate:\n",
    "        # Load the p-values and statistics values of the KS-test\n",
    "        p_values_list = []\n",
    "        stats_values_list = []\n",
    "        for i, (t1_string, t2_string) in enumerate(coefficients):\n",
    "            p_values[i, :] = np.load(f'../data/processed/kstest/{market}_rolling{ndays}_MFHT_p_{t1_string}_{t2_string}_{VOL_LIMIT}.npy')\n",
    "            # p_values_list.append(p_values)\n",
    "            stats_values[i, :] = np.load(f'../data/processed/kstest/{market}_rolling{ndays}_MFHT_stats_{t1_string}_{t2_string}_{VOL_LIMIT}.npy')\n",
    "            # stats_values_list.append(stats_values)\n",
    "    else:\n",
    "        for i, (t1_string, t2_string) in enumerate(coefficients):\n",
    "            # Load data for given thresholds\n",
    "            df = pd.read_pickle(f'../data/processed/dynamics/{market}_rolling_MFHT_peaks_{t1_string}_{t2_string}_200bins_{VOL_LIMIT}.pickle')\n",
    "\n",
    "            for j, (start_date, end_date) in enumerate(tqdm(windows, desc=market)):\n",
    "                # Take the MFHT at the current window and the shifted one\n",
    "                mfht = df[(df['start'] == start_date) & (df['end'] == end_date)]['mean']\n",
    "                try:\n",
    "                    next_start, next_end = windows[j + ndays]\n",
    "                except IndexError:\n",
    "                    print(f\"Out of range for {start_date} and {end_date}\")\n",
    "                    break\n",
    "                else:\n",
    "                    mfht_next = df[(df['start'] == next_start) & (df['end'] == next_end)]['mean']\n",
    "                    \n",
    "                # Perform the KS-test\n",
    "                if not mfht.empty and not mfht_next.empty:\n",
    "                    p_values[i, j] = ks_2samp(mfht, mfht_next).pvalue\n",
    "                    stats_values[i, j] = ks_2samp(mfht, mfht_next).statistic\n",
    "                else:\n",
    "                    outcasts[(t1_string, t2_string)].append((start_date, end_date))\n",
    "\n",
    "        # Save the p-values and statistics values of the KS-tests\n",
    "        np.save(f'../data/processed/kstest/{market}_rolling_MFHT_stats_variousthresholds_{VOL_LIMIT}.npy', stats_values)\n",
    "        np.save(f'../data/processed/kstest/{market}_rolling_MFHT_p_variousthresholds_{VOL_LIMIT}.npy', p_values)\n",
    "    return p_values, stats_values, outcasts\n",
    "\n",
    "\n",
    "def print_rejections(p_values, windows, ndays, coefficients,):\n",
    "    # Resample windows\n",
    "    windows = [windows[i] for i in range(0, len(windows), ndays)]\n",
    "    # Print the rejection (max 100) \n",
    "    for i, (coeff) in enumerate(coefficients):\n",
    "        max_print = 0\n",
    "        for j, (start_date, end_date) in enumerate(windows[1:]):\n",
    "            if max_print > 100:\n",
    "                break\n",
    "            if 0.05 >= p_values[i, j] > 0:\n",
    "                print(f\"Reject ({start_date.date()}/{end_date.date()}) p-value {p_values[i, j]}\")\n",
    "                max_print += 1\n",
    "        print(f\"There were {max_print} rejections for {coeff}\")"
   ]
  },
  {
   "cell_type": "code",
   "execution_count": 10,
   "id": "3ec9a6e2381db5bc",
   "metadata": {
    "ExecuteTime": {
     "end_time": "2024-03-28T15:53:24.273008Z",
     "start_time": "2024-03-28T15:53:24.249874Z"
    },
    "collapsed": false,
    "jupyter": {
     "outputs_hidden": false
    }
   },
   "outputs": [],
   "source": [
    "def generate_quarters(start_date, end_date, freq='Q'):\n",
    "    # Generate all quarters between start and end date\n",
    "    quarters = list(pd.date_range(start_date, end_date, freq=freq))\n",
    "    if quarters[0].date() > start_date.date():\n",
    "        quarters.insert(0, start_date)\n",
    "    if quarters[-1].date() < end_date.date():\n",
    "        quarters.append(pd.to_datetime(end_date))\n",
    "\n",
    "    return pd.to_datetime(quarters)\n",
    "\n",
    "\n",
    "def add_ticks(ax, windows, coeff, outcasts, highlights=True, **kwargs):\n",
    "    ax.set_title(' '.join([r'$\\theta_i$=', f.numerify_threshold(coeff[0]), r'/ $\\theta_f$=', f.numerify_threshold(coeff[1])]), fontsize=12)\n",
    "    # Remove yticks\n",
    "    ax.yaxis.set_ticks([])\n",
    "    \n",
    "    \n",
    "    if NDAYS != 0:\n",
    "        # Set the xticks to be the start date of each window\n",
    "        label_spacing = kwargs.get('label_spacing', 1)\n",
    "        labels = [win[0].strftime('%Y-%b') for win in windows][::label_spacing]\n",
    "        l = 1\n",
    "        # Add the last date\n",
    "        labels.append(windows[-1][1].strftime('%Y-%b'))\n",
    "        if len(labels) != len(np.arange(0, len(windows) + l, label_spacing)):\n",
    "            # Add last window end\n",
    "            l += label_spacing\n",
    "        ax.set_xticks(np.arange(0, len(windows) + l, label_spacing))\n",
    "        ax.set_xticklabels(labels, rotation=90, va='bottom', fontsize=11, y=-0.9)\n",
    "        ax.tick_params(axis='x', colors='black', direction='out', length=6, width=2)\n",
    "        \n",
    "    else:\n",
    "        print(\"Come back to the heatmap plot\")\n",
    "        return None\n",
    "    \n",
    "    label_dates = [start_date for start_date, end_date in windows]\n",
    "    label_dates.append(windows[-1][1])\n",
    "    label_dates = pd.to_datetime(label_dates)\n",
    "    outcast_dates = [(pd.to_datetime(start), pd.to_datetime(end)) for start, end in outcasts]\n",
    "    for outcast in outcast_dates:\n",
    "        # Find the indices of the start and end labels\n",
    "        try:\n",
    "            start_index = np.where(label_dates <= outcast[0])\n",
    "            # Since only the end date is labeled, if the first start date is an outcast, it must be set manually\n",
    "            start_index = start_index[0][-1] if len(start_index[0]) > 0 else 0\n",
    "            end_index = np.where(label_dates >= outcast[1])[0][0]\n",
    "        except IndexError as e:\n",
    "            print(f'Cannot find end index for date {outcast[1]}')\n",
    "        else:\n",
    "            ax.axvspan(start_index, end_index, color='black')\n",
    "    \n",
    "    if highlights:\n",
    "        try:\n",
    "            # Find the indices of the start and end labels\n",
    "            start_index = np.where(label_dates < pd.to_datetime('2006-12-31'))[0][-1]\n",
    "            end_index = np.where(label_dates > pd.to_datetime('2008-12-31'))[0][0]\n",
    "        except IndexError as e:\n",
    "            print(f'Cannot highlight crisis: ', e)\n",
    "        finally:\n",
    "            # Add vertical lines at the start and end of the region\n",
    "            ax.axvline(start_index, color='k', linestyle='--', linewidth=1.5)\n",
    "            ax.axvline(end_index, color='k', linestyle='--', linewidth=1.5)\n",
    "\n",
    "\n",
    "def plot_rolling_pmesh(coefficients, windows, values, **kwargs):\n",
    "    outcasts = {(t1, t2): [] for t1, t2 in coefficients}\n",
    "\n",
    "    if kwargs.get('latex', False):    \n",
    "        # Use LaTeX for text rendering\n",
    "        plt.rcParams['text.usetex'] = True\n",
    "        plt.rcParams['font.family'] = 'serif'\n",
    "        \n",
    "    # if kwargs.get('ndays', False) or len(values[0]) != len(windows):\n",
    "    #     # Resample windows\n",
    "    #     windows = [windows[i] for i in range(0, len(windows), kwargs.get('ndays', len(windows)//len(values[0])))]\n",
    "    \n",
    "    fig, axs = plt.subplots(len(coefficients), figsize=(12, 2.5), sharex=True, layout='constrained')\n",
    "    flattened_axs = axs.flatten() if len(coefficients) > 1 else [axs]\n",
    "    if kwargs.get('suptitle', False):\n",
    "        fig.suptitle(kwargs.get('suptitle'), fontsize=16)\n",
    "\n",
    "    # Search for outcasts\n",
    "    for i, (coeff, ax) in enumerate(zip(coefficients, flattened_axs)):\n",
    "        for j, (start_date, end_date) in enumerate(windows):\n",
    "                # See where the max is zero and label it as outcast\n",
    "                if values[i, j] < 0:\n",
    "                    outcasts[coeff].append((start_date, end_date))\n",
    "        print(f\"Outcasts for {coeff}: {len(outcasts[coeff])}\")\n",
    "\n",
    "        # Create a TwoSlopeNorm\n",
    "        norm = colors.TwoSlopeNorm(vmin=0, vcenter=0.05, vmax=1)\n",
    "        pmesh = ax.pcolormesh(values[i].reshape(1, -1), \n",
    "                              cmap='coolwarm', norm=norm,\n",
    "                              edgecolors='w', linewidth=kwargs.get('linewidth', 0)\n",
    "                              )\n",
    "        # Add ticks to the plot\n",
    "        add_ticks(ax, windows, coeff, outcasts[coeff], **kwargs)\n",
    "        # Set the colorbar for each plot showing only maximum and minimum values\n",
    "    cbar = fig.colorbar(pmesh, ax=axs, orientation='vertical', pad=0.01, ticks=[0, 0.05, 1], aspect=10)\n",
    "    # cbar.set_ticks([0.0, values[i].mean(), values[i].max()])\n",
    "    cbar.ax.set_yticklabels([0, 'Accept\\n' + r'$\\big\\uparrow$' + '\\nThreshold\\n' + r'$\\big\\downarrow$' + '\\nReject', 1], fontsize=11)\n",
    "    \n",
    "    # axs[0].text(0.57, 1.1, '2006-12-31', fontsize=11, transform=axs[0].transAxes, horizontalalignment='left')\n",
    "    # axs[0].text(0.73, 1.1, '2008-12-31', fontsize=11, transform=axs[0].transAxes, horizontalalignment='right')\n",
    "    \n",
    "    # fig.constrained_layout()\n",
    "\n",
    "    plt.show()\n",
    "    return fig, outcasts"
   ]
  },
  {
   "cell_type": "markdown",
   "id": "c9c144d9dd5cb4c1",
   "metadata": {
    "collapsed": false,
    "jupyter": {
     "outputs_hidden": false
    }
   },
   "source": [
    "## Rolling Windows"
   ]
  },
  {
   "cell_type": "code",
   "execution_count": 11,
   "id": "8154c4c2-9b59-4c64-a1ad-7ec3b79f15ad",
   "metadata": {},
   "outputs": [],
   "source": [
    "# Distance of the two compared windows\n",
    "NDAYS = 1\n",
    "WINDOW_LEN = 30"
   ]
  },
  {
   "cell_type": "code",
   "execution_count": 12,
   "id": "d719cabbead45107",
   "metadata": {
    "ExecuteTime": {
     "end_time": "2024-03-28T15:53:24.289016Z",
     "start_time": "2024-03-28T15:53:24.275009Z"
    },
    "collapsed": false,
    "jupyter": {
     "outputs_hidden": false
    }
   },
   "outputs": [],
   "source": [
    "def roll_windows(duration=250,  start_date=None, end_date=None):\n",
    "    \"\"\"\n",
    "    Create rolling windows of a given duration. \n",
    "    The windows are shifted by one day.\n",
    "    \"\"\"\n",
    "    # Define the start and end dates\n",
    "    start_date = datetime.date(1980, 1, 1) if start_date is None else start_date\n",
    "    end_date = datetime.date(2022, 7, 1) if end_date is None else end_date\n",
    "    \n",
    "    start = start_date + pd.to_timedelta(duration/2, 'D')\n",
    "    end = end_date - pd.to_timedelta(duration/2, 'D')\n",
    "    return [(mid - pd.to_timedelta(duration//2, 'D'), mid + pd.to_timedelta(duration//2, 'D')) for mid in pd.date_range(start, end, freq='D')]"
   ]
  },
  {
   "cell_type": "code",
   "execution_count": 13,
   "id": "46a44323cfea3bf2",
   "metadata": {
    "ExecuteTime": {
     "end_time": "2024-03-28T15:53:24.695527Z",
     "start_time": "2024-03-28T15:53:24.290008Z"
    },
    "collapsed": false,
    "jupyter": {
     "outputs_hidden": false
    }
   },
   "outputs": [
    {
     "data": {
      "text/plain": [
       "15493"
      ]
     },
     "execution_count": 13,
     "metadata": {},
     "output_type": "execute_result"
    }
   ],
   "source": [
    "# We can take 250 the approximate number of business days in a year\n",
    "windows = roll_windows(WINDOW_LEN, start_date=datetime.date(1980, 1, 1), end_date=datetime.date(2022, 7, 1))\n",
    "len(windows)"
   ]
  },
  {
   "cell_type": "code",
   "execution_count": 14,
   "id": "f0471ab9f498531c",
   "metadata": {
    "ExecuteTime": {
     "end_time": "2024-03-28T15:53:24.710777Z",
     "start_time": "2024-03-28T15:53:24.698527Z"
    },
    "collapsed": false,
    "jupyter": {
     "outputs_hidden": false
    }
   },
   "outputs": [],
   "source": [
    "# If change this, remember to re-generate all the max_values (regenerate=True)\n",
    "COEFFICIENTS = [\n",
    "    # (\"m0p5\", \"m1p5\"), \n",
    "    # (\"0p5\", \"m1p5\"), \n",
    "    (\"0p5\", \"1p5\"),\n",
    "    # (\"1p0\", \"3p0\"),\n",
    "]\n"
   ]
  },
  {
   "cell_type": "markdown",
   "id": "8db215e9e4db4b93",
   "metadata": {
    "collapsed": false,
    "jupyter": {
     "outputs_hidden": false
    }
   },
   "source": [
    "### Indexing the Database"
   ]
  },
  {
   "cell_type": "code",
   "execution_count": 15,
   "id": "58e0e0997e8a97b5",
   "metadata": {
    "ExecuteTime": {
     "end_time": "2024-03-28T15:53:24.726776Z",
     "start_time": "2024-03-28T15:53:24.711769Z"
    },
    "collapsed": false,
    "jupyter": {
     "outputs_hidden": false
    }
   },
   "outputs": [
    {
     "ename": "OperationalError",
     "evalue": "no such table: main.stabilvol_0p5_1p5",
     "output_type": "error",
     "traceback": [
      "\u001b[31m---------------------------------------------------------------------------\u001b[39m",
      "\u001b[31mOperationalError\u001b[39m                          Traceback (most recent call last)",
      "\u001b[36mCell\u001b[39m\u001b[36m \u001b[39m\u001b[32mIn[15]\u001b[39m\u001b[32m, line 5\u001b[39m\n\u001b[32m      3\u001b[39m \u001b[38;5;28;01mfor\u001b[39;00m t1, t2 \u001b[38;5;129;01min\u001b[39;00m COEFFICIENTS:\n\u001b[32m      4\u001b[39m     \u001b[38;5;28;01mfor\u001b[39;00m name \u001b[38;5;129;01min\u001b[39;00m index_columns:\n\u001b[32m----> \u001b[39m\u001b[32m5\u001b[39m         \u001b[43mcur\u001b[49m\u001b[43m.\u001b[49m\u001b[43mexecute\u001b[49m\u001b[43m(\u001b[49m\u001b[33;43mf\u001b[39;49m\u001b[33;43m'\u001b[39;49m\u001b[33;43mCREATE INDEX IF NOT EXISTS \u001b[39;49m\u001b[38;5;132;43;01m{\u001b[39;49;00m\u001b[43mname\u001b[49m\u001b[43m.\u001b[49m\u001b[43mlower\u001b[49m\u001b[43m(\u001b[49m\u001b[43m)\u001b[49m\u001b[38;5;132;43;01m}\u001b[39;49;00m\u001b[33;43m_index ON stabilvol_\u001b[39;49m\u001b[38;5;132;43;01m{\u001b[39;49;00m\u001b[43mt1\u001b[49m\u001b[38;5;132;43;01m}\u001b[39;49;00m\u001b[33;43m_\u001b[39;49m\u001b[38;5;132;43;01m{\u001b[39;49;00m\u001b[43mt2\u001b[49m\u001b[38;5;132;43;01m}\u001b[39;49;00m\u001b[33;43m(\u001b[39;49m\u001b[38;5;132;43;01m{\u001b[39;49;00m\u001b[43mname\u001b[49m\u001b[38;5;132;43;01m}\u001b[39;49;00m\u001b[33;43m)\u001b[39;49m\u001b[33;43m'\u001b[39;49m\u001b[43m)\u001b[49m\n\u001b[32m      7\u001b[39m conn.commit()\n",
      "\u001b[31mOperationalError\u001b[39m: no such table: main.stabilvol_0p5_1p5"
     ]
    }
   ],
   "source": [
    "# Index columns in the database\n",
    "index_columns = ['Market', 'start', 'end', 'Volatility']\n",
    "for t1, t2 in COEFFICIENTS:\n",
    "    for name in index_columns:\n",
    "        cur.execute(f'CREATE INDEX IF NOT EXISTS {name.lower()}_index ON stabilvol_{t1}_{t2}({name})')\n",
    "\n",
    "conn.commit()"
   ]
  },
  {
   "cell_type": "markdown",
   "id": "5e9912387f0f9117",
   "metadata": {
    "collapsed": false,
    "jupyter": {
     "outputs_hidden": false
    }
   },
   "source": [
    "## UN"
   ]
  },
  {
   "cell_type": "code",
   "execution_count": null,
   "id": "ffe89d8f67dd767",
   "metadata": {
    "ExecuteTime": {
     "end_time": "2024-03-28T15:53:24.741777Z",
     "start_time": "2024-03-28T15:53:24.728768Z"
    },
    "collapsed": false,
    "jupyter": {
     "outputs_hidden": false
    }
   },
   "outputs": [],
   "source": [
    "market = \"UN\""
   ]
  },
  {
   "cell_type": "code",
   "execution_count": null,
   "id": "171d997b92fc2585",
   "metadata": {
    "ExecuteTime": {
     "end_time": "2024-03-28T15:53:24.757304Z",
     "start_time": "2024-03-28T15:53:24.743784Z"
    },
    "collapsed": false,
    "jupyter": {
     "outputs_hidden": false
    }
   },
   "outputs": [
    {
     "name": "stdout",
     "output_type": "stream",
     "text": [
      "Generating UN with thresholds 0p5-1p5\n"
     ]
    },
    {
     "name": "stderr",
     "output_type": "stream",
     "text": [
      "UN:  14%|██████                                    | 2222/15493 [18:39<1:51:27,  1.98it/s]\n"
     ]
    },
    {
     "ename": "KeyboardInterrupt",
     "evalue": "",
     "output_type": "error",
     "traceback": [
      "\u001b[1;31m---------------------------------------------------------------------------\u001b[0m",
      "\u001b[1;31mKeyboardInterrupt\u001b[0m                         Traceback (most recent call last)",
      "Cell \u001b[1;32mIn[95], line 6\u001b[0m\n\u001b[0;32m      3\u001b[0m \u001b[38;5;28;01mif\u001b[39;00m \u001b[38;5;129;01mnot\u001b[39;00m os\u001b[38;5;241m.\u001b[39mpath\u001b[38;5;241m.\u001b[39mexists(\u001b[38;5;124mf\u001b[39m\u001b[38;5;124m'\u001b[39m\u001b[38;5;124m../data/processed/dynamics/\u001b[39m\u001b[38;5;132;01m{\u001b[39;00mmarket\u001b[38;5;132;01m}\u001b[39;00m\u001b[38;5;124m_rolling_MFHT_peaks_\u001b[39m\u001b[38;5;132;01m{\u001b[39;00mt1_string\u001b[38;5;132;01m}\u001b[39;00m\u001b[38;5;124m_\u001b[39m\u001b[38;5;132;01m{\u001b[39;00mt2_string\u001b[38;5;132;01m}\u001b[39;00m\u001b[38;5;124m_200bins_\u001b[39m\u001b[38;5;132;01m{\u001b[39;00mVOL_LIMIT\u001b[38;5;132;01m}\u001b[39;00m\u001b[38;5;124m.pickle\u001b[39m\u001b[38;5;124m'\u001b[39m) \u001b[38;5;129;01mor\u001b[39;00m regenerate:\n\u001b[0;32m      4\u001b[0m     \u001b[38;5;66;03m# Data must be regenerate\u001b[39;00m\n\u001b[0;32m      5\u001b[0m     \u001b[38;5;28mprint\u001b[39m(\u001b[38;5;124mf\u001b[39m\u001b[38;5;124m\"\u001b[39m\u001b[38;5;124mGenerating \u001b[39m\u001b[38;5;132;01m{\u001b[39;00mmarket\u001b[38;5;132;01m}\u001b[39;00m\u001b[38;5;124m with thresholds \u001b[39m\u001b[38;5;132;01m{\u001b[39;00mt1_string\u001b[38;5;132;01m}\u001b[39;00m\u001b[38;5;124m-\u001b[39m\u001b[38;5;132;01m{\u001b[39;00mt2_string\u001b[38;5;132;01m}\u001b[39;00m\u001b[38;5;124m\"\u001b[39m)\n\u001b[1;32m----> 6\u001b[0m     df, outcasts \u001b[38;5;241m=\u001b[39m create_dataset_old([market], windows, t1_string, t2_string) \n\u001b[0;32m      7\u001b[0m     \u001b[38;5;28mprint\u001b[39m(\u001b[38;5;124mf\u001b[39m\u001b[38;5;124m\"\u001b[39m\u001b[38;5;124mThere are \u001b[39m\u001b[38;5;132;01m{\u001b[39;00m\u001b[38;5;28mlen\u001b[39m(outcasts[market])\u001b[38;5;132;01m}\u001b[39;00m\u001b[38;5;124m outcasts\u001b[39m\u001b[38;5;124m\"\u001b[39m)\n\u001b[0;32m      8\u001b[0m     df\u001b[38;5;241m.\u001b[39mto_pickle(\u001b[38;5;124mf\u001b[39m\u001b[38;5;124m'\u001b[39m\u001b[38;5;124m../data/processed/dynamics/\u001b[39m\u001b[38;5;132;01m{\u001b[39;00mmarket\u001b[38;5;132;01m}\u001b[39;00m\u001b[38;5;124m_rolling_MFHT_peaks_\u001b[39m\u001b[38;5;132;01m{\u001b[39;00mt1_string\u001b[38;5;132;01m}\u001b[39;00m\u001b[38;5;124m_\u001b[39m\u001b[38;5;132;01m{\u001b[39;00mt2_string\u001b[38;5;132;01m}\u001b[39;00m\u001b[38;5;124m_200bins_\u001b[39m\u001b[38;5;132;01m{\u001b[39;00mVOL_LIMIT\u001b[38;5;132;01m}\u001b[39;00m\u001b[38;5;124m.pickle\u001b[39m\u001b[38;5;124m'\u001b[39m)\n",
      "Cell \u001b[1;32mIn[65], line 7\u001b[0m, in \u001b[0;36mcreate_dataset_old\u001b[1;34m(markets, windows, t1_string, t2_string, vol_limit)\u001b[0m\n\u001b[0;32m      5\u001b[0m \u001b[38;5;28;01mfor\u001b[39;00m start_date, end_date \u001b[38;5;129;01min\u001b[39;00m tqdm(windows, desc\u001b[38;5;241m=\u001b[39mmarket):\n\u001b[0;32m      6\u001b[0m     \u001b[38;5;28;01mtry\u001b[39;00m:\n\u001b[1;32m----> 7\u001b[0m         mfht, nbins \u001b[38;5;241m=\u001b[39m query_binned_data(market, start_date, end_date, vol_limit, t1_string\u001b[38;5;241m=\u001b[39mt1_string, t2_string\u001b[38;5;241m=\u001b[39mt2_string)         \n\u001b[0;32m      8\u001b[0m     \u001b[38;5;28;01mexcept\u001b[39;00m \u001b[38;5;167;01mValueError\u001b[39;00m:\n\u001b[0;32m      9\u001b[0m         outcasts[market]\u001b[38;5;241m.\u001b[39mappend((start_date, end_date))\n",
      "Cell \u001b[1;32mIn[64], line 16\u001b[0m, in \u001b[0;36mquery_binned_data\u001b[1;34m(market, start_date, end_date, vol_limit, t1_string, t2_string)\u001b[0m\n\u001b[0;32m      6\u001b[0m     query \u001b[38;5;241m=\u001b[39m \u001b[38;5;124mf\u001b[39m\u001b[38;5;124m'''\u001b[39m\n\u001b[0;32m      7\u001b[0m \u001b[38;5;124m    SELECT *\u001b[39m\n\u001b[0;32m      8\u001b[0m \u001b[38;5;124m    FROM stabilvol_\u001b[39m\u001b[38;5;132;01m{\u001b[39;00mt1_string\u001b[38;5;132;01m}\u001b[39;00m\u001b[38;5;124m_\u001b[39m\u001b[38;5;132;01m{\u001b[39;00mt2_string\u001b[38;5;132;01m}\u001b[39;00m\n\u001b[1;32m   (...)\u001b[0m\n\u001b[0;32m     13\u001b[0m \u001b[38;5;124m    AND FHT <= \u001b[39m\u001b[38;5;124m\"\u001b[39m\u001b[38;5;132;01m{\u001b[39;00mTAU_MAX\u001b[38;5;132;01m}\u001b[39;00m\u001b[38;5;124m\"\u001b[39m\u001b[38;5;124m    \u001b[39m\n\u001b[0;32m     14\u001b[0m \u001b[38;5;124m    \u001b[39m\u001b[38;5;124m'''\u001b[39m\n\u001b[0;32m     15\u001b[0m     \u001b[38;5;66;03m# Load the FHT data from the database\u001b[39;00m\n\u001b[1;32m---> 16\u001b[0m     df \u001b[38;5;241m=\u001b[39m pd\u001b[38;5;241m.\u001b[39mread_sql_query(query, conn)\n\u001b[0;32m     17\u001b[0m \u001b[38;5;28;01mexcept\u001b[39;00m pd\u001b[38;5;241m.\u001b[39merrors\u001b[38;5;241m.\u001b[39mDatabaseError:\n\u001b[0;32m     18\u001b[0m     \u001b[38;5;28mprint\u001b[39m(\u001b[38;5;124mf\u001b[39m\u001b[38;5;124m'\u001b[39m\u001b[38;5;124mNo data for market \u001b[39m\u001b[38;5;132;01m{\u001b[39;00mmarket\u001b[38;5;132;01m}\u001b[39;00m\u001b[38;5;124m with thresholds \u001b[39m\u001b[38;5;132;01m{\u001b[39;00mt1_string\u001b[38;5;132;01m}\u001b[39;00m\u001b[38;5;124m-\u001b[39m\u001b[38;5;132;01m{\u001b[39;00mt2_string\u001b[38;5;132;01m}\u001b[39;00m\u001b[38;5;124m'\u001b[39m)\n",
      "File \u001b[1;32mD:\\anaconda3\\Lib\\site-packages\\pandas\\io\\sql.py:486\u001b[0m, in \u001b[0;36mread_sql_query\u001b[1;34m(sql, con, index_col, coerce_float, params, parse_dates, chunksize, dtype, dtype_backend)\u001b[0m\n\u001b[0;32m    483\u001b[0m \u001b[38;5;28;01massert\u001b[39;00m dtype_backend \u001b[38;5;129;01mis\u001b[39;00m \u001b[38;5;129;01mnot\u001b[39;00m lib\u001b[38;5;241m.\u001b[39mno_default\n\u001b[0;32m    485\u001b[0m \u001b[38;5;28;01mwith\u001b[39;00m pandasSQL_builder(con) \u001b[38;5;28;01mas\u001b[39;00m pandas_sql:\n\u001b[1;32m--> 486\u001b[0m     \u001b[38;5;28;01mreturn\u001b[39;00m pandas_sql\u001b[38;5;241m.\u001b[39mread_query(\n\u001b[0;32m    487\u001b[0m         sql,\n\u001b[0;32m    488\u001b[0m         index_col\u001b[38;5;241m=\u001b[39mindex_col,\n\u001b[0;32m    489\u001b[0m         params\u001b[38;5;241m=\u001b[39mparams,\n\u001b[0;32m    490\u001b[0m         coerce_float\u001b[38;5;241m=\u001b[39mcoerce_float,\n\u001b[0;32m    491\u001b[0m         parse_dates\u001b[38;5;241m=\u001b[39mparse_dates,\n\u001b[0;32m    492\u001b[0m         chunksize\u001b[38;5;241m=\u001b[39mchunksize,\n\u001b[0;32m    493\u001b[0m         dtype\u001b[38;5;241m=\u001b[39mdtype,\n\u001b[0;32m    494\u001b[0m         dtype_backend\u001b[38;5;241m=\u001b[39mdtype_backend,\n\u001b[0;32m    495\u001b[0m     )\n",
      "File \u001b[1;32mD:\\anaconda3\\Lib\\site-packages\\pandas\\io\\sql.py:2341\u001b[0m, in \u001b[0;36mSQLiteDatabase.read_query\u001b[1;34m(self, sql, index_col, coerce_float, parse_dates, params, chunksize, dtype, dtype_backend)\u001b[0m\n\u001b[0;32m   2330\u001b[0m     \u001b[38;5;28;01mreturn\u001b[39;00m \u001b[38;5;28mself\u001b[39m\u001b[38;5;241m.\u001b[39m_query_iterator(\n\u001b[0;32m   2331\u001b[0m         cursor,\n\u001b[0;32m   2332\u001b[0m         chunksize,\n\u001b[1;32m   (...)\u001b[0m\n\u001b[0;32m   2338\u001b[0m         dtype_backend\u001b[38;5;241m=\u001b[39mdtype_backend,\n\u001b[0;32m   2339\u001b[0m     )\n\u001b[0;32m   2340\u001b[0m \u001b[38;5;28;01melse\u001b[39;00m:\n\u001b[1;32m-> 2341\u001b[0m     data \u001b[38;5;241m=\u001b[39m \u001b[38;5;28mself\u001b[39m\u001b[38;5;241m.\u001b[39m_fetchall_as_list(cursor)\n\u001b[0;32m   2342\u001b[0m     cursor\u001b[38;5;241m.\u001b[39mclose()\n\u001b[0;32m   2344\u001b[0m     frame \u001b[38;5;241m=\u001b[39m _wrap_result(\n\u001b[0;32m   2345\u001b[0m         data,\n\u001b[0;32m   2346\u001b[0m         columns,\n\u001b[1;32m   (...)\u001b[0m\n\u001b[0;32m   2351\u001b[0m         dtype_backend\u001b[38;5;241m=\u001b[39mdtype_backend,\n\u001b[0;32m   2352\u001b[0m     )\n",
      "File \u001b[1;32mD:\\anaconda3\\Lib\\site-packages\\pandas\\io\\sql.py:2356\u001b[0m, in \u001b[0;36mSQLiteDatabase._fetchall_as_list\u001b[1;34m(self, cur)\u001b[0m\n\u001b[0;32m   2355\u001b[0m \u001b[38;5;28;01mdef\u001b[39;00m \u001b[38;5;21m_fetchall_as_list\u001b[39m(\u001b[38;5;28mself\u001b[39m, cur):\n\u001b[1;32m-> 2356\u001b[0m     result \u001b[38;5;241m=\u001b[39m cur\u001b[38;5;241m.\u001b[39mfetchall()\n\u001b[0;32m   2357\u001b[0m     \u001b[38;5;28;01mif\u001b[39;00m \u001b[38;5;129;01mnot\u001b[39;00m \u001b[38;5;28misinstance\u001b[39m(result, \u001b[38;5;28mlist\u001b[39m):\n\u001b[0;32m   2358\u001b[0m         result \u001b[38;5;241m=\u001b[39m \u001b[38;5;28mlist\u001b[39m(result)\n",
      "\u001b[1;31mKeyboardInterrupt\u001b[0m: "
     ]
    }
   ],
   "source": [
    "regenerate = True\n",
    "for t1_string, t2_string in COEFFICIENTS:\n",
    "    if not os.path.exists(f'../data/processed/dynamics/{market}_rolling_MFHT_peaks_{t1_string}_{t2_string}_200bins_{VOL_LIMIT}.pickle') or regenerate:\n",
    "        # Data must be regenerate\n",
    "        print(f\"Generating {market} with thresholds {t1_string}-{t2_string}\")\n",
    "        df, outcasts = create_dataset_old([market], windows, t1_string, t2_string) \n",
    "        print(f\"There are {len(outcasts[market])} outcasts\")\n",
    "        df.to_pickle(f'../data/processed/dynamics/{market}_rolling_MFHT_peaks_{t1_string}_{t2_string}_200bins_{VOL_LIMIT}.pickle')\n",
    "regenerate = False"
   ]
  },
  {
   "cell_type": "code",
   "execution_count": null,
   "id": "b07a5fd60f2c9dc4",
   "metadata": {
    "ExecuteTime": {
     "end_time": "2024-03-28T15:53:24.773314Z",
     "start_time": "2024-03-28T15:53:24.759308Z"
    },
    "collapsed": false,
    "jupyter": {
     "outputs_hidden": false
    }
   },
   "outputs": [],
   "source": [
    "p_values, stat_values, outcasts = test_mfhts(market, windows, NDAYS, COEFFICIENTS, regenerate=True)\n",
    "actual_windows = windows if regenerate else windows[:-NDAYS]\n",
    "# print_rejections(p_values, windows, NDAYS, COEFFICIENTS) "
   ]
  },
  {
   "cell_type": "code",
   "execution_count": null,
   "id": "81f2c341-cafe-4e49-bb5a-250c6f693be1",
   "metadata": {},
   "outputs": [],
   "source": [
    "actual_windows = windows[:-1]"
   ]
  },
  {
   "cell_type": "code",
   "execution_count": null,
   "id": "fd33d2403ecbbef7",
   "metadata": {
    "ExecuteTime": {
     "end_time": "2024-03-28T16:58:35.071610Z",
     "start_time": "2024-03-28T16:58:35.058602Z"
    },
    "collapsed": false,
    "jupyter": {
     "outputs_hidden": false
    }
   },
   "outputs": [],
   "source": [
    "print(p_values.T.shape)\n",
    "print(len(windows) - NDAYS)\n",
    "\n",
    "ks_df = pd.DataFrame(p_values.T, index=actual_windows, columns=pd.MultiIndex.from_tuples([(market, '_'.join(coeff)) for coeff in COEFFICIENTS]))\n",
    "ks_df = ks_df.reset_index(drop=False, names=('Window'))\n",
    "ks_df.head()"
   ]
  },
  {
   "cell_type": "code",
   "execution_count": null,
   "id": "1fb79f4e0350af95",
   "metadata": {
    "ExecuteTime": {
     "end_time": "2024-03-28T16:59:04.415584Z",
     "start_time": "2024-03-28T16:59:04.394584Z"
    },
    "collapsed": false,
    "jupyter": {
     "outputs_hidden": false
    }
   },
   "outputs": [
    {
     "data": {
      "text/html": [
       "<div>\n",
       "<style scoped>\n",
       "    .dataframe tbody tr th:only-of-type {\n",
       "        vertical-align: middle;\n",
       "    }\n",
       "\n",
       "    .dataframe tbody tr th {\n",
       "        vertical-align: top;\n",
       "    }\n",
       "\n",
       "    .dataframe thead th {\n",
       "        text-align: right;\n",
       "    }\n",
       "</style>\n",
       "<table border=\"1\" class=\"dataframe\">\n",
       "  <thead>\n",
       "    <tr style=\"text-align: right;\">\n",
       "      <th></th>\n",
       "      <th>Window_</th>\n",
       "      <th>UN_m0p5_m1p5</th>\n",
       "    </tr>\n",
       "  </thead>\n",
       "  <tbody>\n",
       "    <tr>\n",
       "      <th>0</th>\n",
       "      <td>(1980-01-01 00:00:00, 1980-01-31 00:00:00)</td>\n",
       "      <td>0.548685</td>\n",
       "    </tr>\n",
       "    <tr>\n",
       "      <th>1</th>\n",
       "      <td>(1980-01-02 00:00:00, 1980-02-01 00:00:00)</td>\n",
       "      <td>0.997711</td>\n",
       "    </tr>\n",
       "    <tr>\n",
       "      <th>2</th>\n",
       "      <td>(1980-01-03 00:00:00, 1980-02-02 00:00:00)</td>\n",
       "      <td>-1.000000</td>\n",
       "    </tr>\n",
       "    <tr>\n",
       "      <th>3</th>\n",
       "      <td>(1980-01-04 00:00:00, 1980-02-03 00:00:00)</td>\n",
       "      <td>-1.000000</td>\n",
       "    </tr>\n",
       "    <tr>\n",
       "      <th>4</th>\n",
       "      <td>(1980-01-05 00:00:00, 1980-02-04 00:00:00)</td>\n",
       "      <td>-1.000000</td>\n",
       "    </tr>\n",
       "  </tbody>\n",
       "</table>\n",
       "</div>"
      ],
      "text/plain": [
       "                                      Window_  UN_m0p5_m1p5\n",
       "0  (1980-01-01 00:00:00, 1980-01-31 00:00:00)      0.548685\n",
       "1  (1980-01-02 00:00:00, 1980-02-01 00:00:00)      0.997711\n",
       "2  (1980-01-03 00:00:00, 1980-02-02 00:00:00)     -1.000000\n",
       "3  (1980-01-04 00:00:00, 1980-02-03 00:00:00)     -1.000000\n",
       "4  (1980-01-05 00:00:00, 1980-02-04 00:00:00)     -1.000000"
      ]
     },
     "execution_count": 88,
     "metadata": {},
     "output_type": "execute_result"
    }
   ],
   "source": [
    "ks_df.columns = ['_'.join(col) for col in ks_df.columns.values]\n",
    "ks_df.head()"
   ]
  },
  {
   "cell_type": "code",
   "execution_count": null,
   "id": "110f8179aa0a94f5",
   "metadata": {
    "ExecuteTime": {
     "end_time": "2024-03-28T16:59:44.345505Z",
     "start_time": "2024-03-28T16:59:44.326497Z"
    },
    "collapsed": false,
    "jupyter": {
     "outputs_hidden": false
    }
   },
   "outputs": [
    {
     "data": {
      "text/html": [
       "<div>\n",
       "<style scoped>\n",
       "    .dataframe tbody tr th:only-of-type {\n",
       "        vertical-align: middle;\n",
       "    }\n",
       "\n",
       "    .dataframe tbody tr th {\n",
       "        vertical-align: top;\n",
       "    }\n",
       "\n",
       "    .dataframe thead th {\n",
       "        text-align: right;\n",
       "    }\n",
       "</style>\n",
       "<table border=\"1\" class=\"dataframe\">\n",
       "  <thead>\n",
       "    <tr style=\"text-align: right;\">\n",
       "      <th></th>\n",
       "      <th>UN_m0p5_m1p5</th>\n",
       "    </tr>\n",
       "  </thead>\n",
       "  <tbody>\n",
       "    <tr>\n",
       "      <th>0</th>\n",
       "      <td>0.548685</td>\n",
       "    </tr>\n",
       "    <tr>\n",
       "      <th>1</th>\n",
       "      <td>0.997711</td>\n",
       "    </tr>\n",
       "    <tr>\n",
       "      <th>2</th>\n",
       "      <td>-1.000000</td>\n",
       "    </tr>\n",
       "    <tr>\n",
       "      <th>3</th>\n",
       "      <td>-1.000000</td>\n",
       "    </tr>\n",
       "    <tr>\n",
       "      <th>4</th>\n",
       "      <td>-1.000000</td>\n",
       "    </tr>\n",
       "    <tr>\n",
       "      <th>...</th>\n",
       "      <td>...</td>\n",
       "    </tr>\n",
       "    <tr>\n",
       "      <th>15487</th>\n",
       "      <td>0.716647</td>\n",
       "    </tr>\n",
       "    <tr>\n",
       "      <th>15488</th>\n",
       "      <td>0.548685</td>\n",
       "    </tr>\n",
       "    <tr>\n",
       "      <th>15489</th>\n",
       "      <td>0.178587</td>\n",
       "    </tr>\n",
       "    <tr>\n",
       "      <th>15490</th>\n",
       "      <td>0.716647</td>\n",
       "    </tr>\n",
       "    <tr>\n",
       "      <th>15491</th>\n",
       "      <td>0.271914</td>\n",
       "    </tr>\n",
       "  </tbody>\n",
       "</table>\n",
       "<p>15492 rows × 1 columns</p>\n",
       "</div>"
      ],
      "text/plain": [
       "       UN_m0p5_m1p5\n",
       "0          0.548685\n",
       "1          0.997711\n",
       "2         -1.000000\n",
       "3         -1.000000\n",
       "4         -1.000000\n",
       "...             ...\n",
       "15487      0.716647\n",
       "15488      0.548685\n",
       "15489      0.178587\n",
       "15490      0.716647\n",
       "15491      0.271914\n",
       "\n",
       "[15492 rows x 1 columns]"
      ]
     },
     "execution_count": 89,
     "metadata": {},
     "output_type": "execute_result"
    }
   ],
   "source": [
    "ks_df.drop('Window_', axis=1)"
   ]
  },
  {
   "cell_type": "code",
   "execution_count": null,
   "id": "1f144f8b23567fca",
   "metadata": {
    "ExecuteTime": {
     "end_time": "2024-03-28T16:59:51.099810Z",
     "start_time": "2024-03-28T16:59:50.709809Z"
    },
    "collapsed": false,
    "jupyter": {
     "outputs_hidden": false
    },
    "scrolled": true
   },
   "outputs": [
    {
     "name": "stderr",
     "output_type": "stream",
     "text": [
      "D:\\anaconda3\\Lib\\site-packages\\seaborn\\_oldcore.py:1119: FutureWarning: use_inf_as_na option is deprecated and will be removed in a future version. Convert inf values to NaN before operating instead.\n",
      "  with pd.option_context('mode.use_inf_as_na', True):\n",
      "D:\\anaconda3\\Lib\\site-packages\\seaborn\\_oldcore.py:1119: FutureWarning: use_inf_as_na option is deprecated and will be removed in a future version. Convert inf values to NaN before operating instead.\n",
      "  with pd.option_context('mode.use_inf_as_na', True):\n"
     ]
    },
    {
     "data": {
      "text/plain": [
       "<Axes: >"
      ]
     },
     "execution_count": 90,
     "metadata": {},
     "output_type": "execute_result"
    },
    {
     "data": {
      "image/png": "[encoded data removed]",
      "text/plain": [
       "<Figure size 640x480 with 1 Axes>"
      ]
     },
     "metadata": {},
     "output_type": "display_data"
    }
   ],
   "source": [
    "sns.lineplot(data=ks_df.drop('Window_', axis=1), palette='tab10')"
   ]
  },
  {
   "cell_type": "code",
   "execution_count": null,
   "id": "29aab472b5884f6e",
   "metadata": {
    "ExecuteTime": {
     "end_time": "2024-03-27T13:52:49.319036Z",
     "start_time": "2024-03-27T13:52:48.544414Z"
    },
    "collapsed": false,
    "jupyter": {
     "outputs_hidden": false
    }
   },
   "outputs": [
    {
     "name": "stdout",
     "output_type": "stream",
     "text": [
      "Outcasts for ('m0p5', 'm1p5'): 6507\n"
     ]
    },
    {
     "data": {
      "image/png": "[encoded data removed]",
      "text/plain": [
       "<Figure size 1200x250 with 2 Axes>"
      ]
     },
     "metadata": {},
     "output_type": "display_data"
    }
   ],
   "source": [
    " # With a confidence level of 95%, we must reject the hypothesis that the distributions are the same if the p-value is less than 0.05\n",
    "fig, errors = plot_rolling_pmesh(COEFFICIENTS, actual_windows, p_values, latex=True, suptitle=market, ndays=NDAYS, label_spacing=365)"
   ]
  },
  {
   "cell_type": "code",
   "execution_count": null,
   "id": "3b4bff72-adfc-4f2f-881d-93b0bdfcbb48",
   "metadata": {},
   "outputs": [
    {
     "data": {
      "text/plain": [
       "array([[ 0.54527135,  1.        , -1.        , ...,  0.00609442,\n",
       "         0.08783828,  0.39352743],\n",
       "       [-1.        , -1.        , -1.        , ..., -1.        ,\n",
       "        -1.        , -1.        ]])"
      ]
     },
     "execution_count": 26,
     "metadata": {},
     "output_type": "execute_result"
    }
   ],
   "source": [
    "p_values"
   ]
  },
  {
   "cell_type": "code",
   "execution_count": null,
   "id": "40b99f84-10c4-481f-9b25-40ab8dcd8907",
   "metadata": {},
   "outputs": [
    {
     "ename": "NameError",
     "evalue": "name 'ax' is not defined",
     "output_type": "error",
     "traceback": [
      "\u001b[1;31m---------------------------------------------------------------------------\u001b[0m",
      "\u001b[1;31mNameError\u001b[0m                                 Traceback (most recent call last)",
      "Cell \u001b[1;32mIn[27], line 7\u001b[0m\n\u001b[0;32m      4\u001b[0m fig, errors \u001b[38;5;241m=\u001b[39m plt\u001b[38;5;241m.\u001b[39msubplots()\n\u001b[0;32m      6\u001b[0m norm \u001b[38;5;241m=\u001b[39m colors\u001b[38;5;241m.\u001b[39mTwoSlopeNorm(vmin\u001b[38;5;241m=\u001b[39m\u001b[38;5;241m0\u001b[39m, vcenter\u001b[38;5;241m=\u001b[39m\u001b[38;5;241m0.05\u001b[39m, vmax\u001b[38;5;241m=\u001b[39m\u001b[38;5;241m1\u001b[39m)\n\u001b[1;32m----> 7\u001b[0m pmesh \u001b[38;5;241m=\u001b[39m ax\u001b[38;5;241m.\u001b[39mpcolormesh(values[\u001b[38;5;241m0\u001b[39m]\u001b[38;5;241m.\u001b[39mreshape(\u001b[38;5;241m1\u001b[39m, \u001b[38;5;241m-\u001b[39m\u001b[38;5;241m1\u001b[39m), \n\u001b[0;32m      8\u001b[0m                       cmap\u001b[38;5;241m=\u001b[39m\u001b[38;5;124m'\u001b[39m\u001b[38;5;124mcoolwarm\u001b[39m\u001b[38;5;124m'\u001b[39m, norm\u001b[38;5;241m=\u001b[39mnorm,\n\u001b[0;32m      9\u001b[0m                       edgecolors\u001b[38;5;241m=\u001b[39m\u001b[38;5;124m'\u001b[39m\u001b[38;5;124mw\u001b[39m\u001b[38;5;124m'\u001b[39m, linewidth\u001b[38;5;241m=\u001b[39m\u001b[38;5;241m0\u001b[39m\n\u001b[0;32m     10\u001b[0m                       )\n",
      "\u001b[1;31mNameError\u001b[0m: name 'ax' is not defined"
     ]
    },
    {
     "data": {
      "image/png": "[encoded data removed]",
      "text/plain": [
       "<Figure size 640x480 with 1 Axes>"
      ]
     },
     "metadata": {},
     "output_type": "display_data"
    }
   ],
   "source": [
    "vix = pd.read_csv(\"../data/external/VIX_History.csv\", parse_dates=True, index_col='DATE')\n",
    "vix.columns = [cl.title() for cl in vix.columns]\n",
    "values = np.array([vix['Close'].values, vix['Close'].values])\n",
    "fig, errors = plt.subplots()\n",
    "\n",
    "norm = colors.TwoSlopeNorm(vmin=0, vcenter=0.05, vmax=1)\n",
    "pmesh = ax.pcolormesh(values[0].reshape(1, -1), \n",
    "                      cmap='coolwarm', norm=norm,\n",
    "                      edgecolors='w', linewidth=0\n",
    "                      )"
   ]
  },
  {
   "cell_type": "code",
   "execution_count": null,
   "id": "6089305ab007ab4c",
   "metadata": {
    "ExecuteTime": {
     "end_time": "2024-03-27T13:52:54.698949Z",
     "start_time": "2024-03-27T13:52:49.320036Z"
    },
    "collapsed": false,
    "jupyter": {
     "outputs_hidden": false
    }
   },
   "outputs": [],
   "source": [
    "fig.savefig(f'../visualization/dynamics/rolling_windows/{market}_rolling_MFHT_p_{NDAYS}days_variousthresholds_{VOL_LIMIT}.png', bbox_inches='tight')\n",
    "fig.savefig(f'../visualization/dynamics/rolling_windows/{market}_rolling_MFHT_p_{NDAYS}days_variousthresholds_{VOL_LIMIT}.eps', bbox_inches='tight')\n",
    "fig.savefig(f'../visualization/dynamics/rolling_windows/{market}_rolling_MFHT_p_{NDAYS}days_variousthresholds_{VOL_LIMIT}.pdf', bbox_inches='tight')"
   ]
  },
  {
   "cell_type": "code",
   "execution_count": null,
   "id": "fc36e92f-d45c-427e-a1ba-7db075aff5ca",
   "metadata": {},
   "outputs": [],
   "source": []
  },
  {
   "cell_type": "markdown",
   "id": "5f27b802506f367c",
   "metadata": {
    "collapsed": false,
    "jupyter": {
     "outputs_hidden": false
    }
   },
   "source": [
    "## UW"
   ]
  },
  {
   "cell_type": "code",
   "execution_count": null,
   "id": "86afe12978b29e75",
   "metadata": {
    "ExecuteTime": {
     "end_time": "2024-03-27T13:52:54.715123Z",
     "start_time": "2024-03-27T13:52:54.699944Z"
    },
    "collapsed": false,
    "jupyter": {
     "outputs_hidden": false
    }
   },
   "outputs": [],
   "source": [
    "market = \"UW\""
   ]
  },
  {
   "cell_type": "code",
   "execution_count": null,
   "id": "3ad87a51740a2560",
   "metadata": {
    "ExecuteTime": {
     "end_time": "2024-03-27T13:52:54.730979Z",
     "start_time": "2024-03-27T13:52:54.717114Z"
    },
    "collapsed": false,
    "jupyter": {
     "outputs_hidden": false
    }
   },
   "outputs": [],
   "source": [
    "regenerate = True\n",
    "for t1_string, t2_string in COEFFICIENTS:\n",
    "    if not os.path.exists(f'../data/processed/dynamics/{market}_rolling_MFHT_peaks_{t1_string}_{t2_string}_200bins_{VOL_LIMIT}.pickle') or regenerate:\n",
    "        print(f\"Generating {market} with thresholds {t1_string}-{t2_string}\")\n",
    "        # Data must be regenerate\n",
    "        df, outcasts = create_dataset([market], windows, t1_string, t2_string)\n",
    "        print(f\"There are {len(outcasts[market])} outcasts\")\n",
    "        # df['thresholds'] = f'{t1_string}_{t2_string}'\n",
    "        df.to_pickle(f'../data/processed/dynamics/{market}_rolling_MFHT_peaks_{t1_string}_{t2_string}_200bins_{VOL_LIMIT}.pickle')\n"
   ]
  },
  {
   "cell_type": "code",
   "execution_count": null,
   "id": "fe63b38f224ac3e6",
   "metadata": {
    "ExecuteTime": {
     "end_time": "2024-03-27T13:52:54.746390Z",
     "start_time": "2024-03-27T13:52:54.731975Z"
    },
    "collapsed": false,
    "jupyter": {
     "outputs_hidden": false
    }
   },
   "outputs": [],
   "source": [
    "p_values, stat_values, outcasts = test_mfhts(market, windows, NDAYS, COEFFICIENTS, regenerate=False)\n",
    "# print_rejections(p_values, windows, NDAYS, COEFFICIENTS)"
   ]
  },
  {
   "cell_type": "code",
   "execution_count": null,
   "id": "2f1974869b2cfa3c",
   "metadata": {
    "ExecuteTime": {
     "end_time": "2024-03-27T13:52:56.086770Z",
     "start_time": "2024-03-27T13:52:54.747384Z"
    },
    "collapsed": false,
    "jupyter": {
     "outputs_hidden": false
    }
   },
   "outputs": [],
   "source": [
    " # With a confidence level of 95%, we must reject the hypothesis that the distributions are the same if the p-value is less than 0.05\n",
    "fig, errors = plot_rolling_pmesh(COEFFICIENTS, actual_windows, p_values, latex=True, suptitle=market, ndays=NDAYS, label_spacing=365)"
   ]
  },
  {
   "cell_type": "code",
   "execution_count": null,
   "id": "9bf8387f7d4583a8",
   "metadata": {
    "ExecuteTime": {
     "end_time": "2024-03-27T13:53:01.775806Z",
     "start_time": "2024-03-27T13:52:56.087763Z"
    },
    "collapsed": false,
    "jupyter": {
     "outputs_hidden": false
    }
   },
   "outputs": [],
   "source": [
    "fig.savefig(f'../visualization/dynamics/rolling_windows/{market}_rolling_MFHT_p_{NDAYS}days_variousthresholds_{VOL_LIMIT}.png', bbox_inches='tight')\n",
    "fig.savefig(f'../visualization/dynamics/rolling_windows/{market}_rolling_MFHT_p_{NDAYS}days_variousthresholds_{VOL_LIMIT}.eps', bbox_inches='tight')\n",
    "fig.savefig(f'../visualization/dynamics/rolling_windows/{market}_rolling_MFHT_p_{NDAYS}days_variousthresholds_{VOL_LIMIT}.pdf', bbox_inches='tight')"
   ]
  },
  {
   "cell_type": "markdown",
   "id": "fc7d086929334459",
   "metadata": {
    "collapsed": false,
    "jupyter": {
     "outputs_hidden": false
    }
   },
   "source": [
    "## LN"
   ]
  },
  {
   "cell_type": "code",
   "execution_count": null,
   "id": "20f94c651cfe135",
   "metadata": {
    "ExecuteTime": {
     "end_time": "2024-03-27T13:53:01.791306Z",
     "start_time": "2024-03-27T13:53:01.776799Z"
    },
    "collapsed": false,
    "jupyter": {
     "outputs_hidden": false
    }
   },
   "outputs": [],
   "source": [
    "market = \"LN\""
   ]
  },
  {
   "cell_type": "code",
   "execution_count": null,
   "id": "6c546b5faa12301d",
   "metadata": {
    "ExecuteTime": {
     "end_time": "2024-03-27T13:53:01.806401Z",
     "start_time": "2024-03-27T13:53:01.792306Z"
    },
    "collapsed": false,
    "jupyter": {
     "outputs_hidden": false
    }
   },
   "outputs": [],
   "source": [
    "regenerate = False\n",
    "for t1_string, t2_string in COEFFICIENTS:\n",
    "        df = pd.DataFrame()\n",
    "        if not os.path.exists(f'../data/processed/dynamics/{market}_rolling_MFHT_peaks_{t1_string}_{t2_string}_200bins_{VOL_LIMIT}.pickle') or regenerate:\n",
    "            print(f\"Generating {market} with thresholds {t1_string}-{t2_string}\")\n",
    "            # Data must be regenerate\n",
    "            df, outcasts = create_dataset([market], windows, t1_string, t2_string)\n",
    "            print(f\"There are {len(outcasts[market])} outcasts\")\n",
    "            # df['thresholds'] = f'{t1_string}_{t2_string}'\n",
    "            df.to_pickle(f'../data/processed/dynamics/{market}_rolling_MFHT_peaks_{t1_string}_{t2_string}_200bins_{VOL_LIMIT}.pickle')\n",
    "regenerate = False"
   ]
  },
  {
   "cell_type": "code",
   "execution_count": null,
   "id": "7b643f163aefe545",
   "metadata": {
    "ExecuteTime": {
     "end_time": "2024-03-27T13:53:01.821529Z",
     "start_time": "2024-03-27T13:53:01.807396Z"
    },
    "collapsed": false,
    "jupyter": {
     "outputs_hidden": false
    }
   },
   "outputs": [],
   "source": [
    "p_values, stat_values, outcasts = test_mfhts(market, windows, NDAYS, COEFFICIENTS, regenerate=regenerate)\n",
    "# print_rejections(p_values, windows, NDAYS, COEFFICIENTS)"
   ]
  },
  {
   "cell_type": "code",
   "execution_count": null,
   "id": "a0bca0c6a42fee72",
   "metadata": {
    "ExecuteTime": {
     "end_time": "2024-03-27T13:53:06.396462Z",
     "start_time": "2024-03-27T13:53:01.822524Z"
    },
    "collapsed": false,
    "jupyter": {
     "outputs_hidden": false
    }
   },
   "outputs": [],
   "source": [
    "# With a confidence level of 95%, we must reject the hypothesis that the distributions are the same if the p-value is less than 0.05\n",
    "fig, errors = plot_rolling_pmesh(COEFFICIENTS, actual_windows, p_values, latex=True, suptitle=market, ndays=NDAYS, label_spacing=365)"
   ]
  },
  {
   "cell_type": "code",
   "execution_count": null,
   "id": "496687e33c871f0d",
   "metadata": {
    "ExecuteTime": {
     "end_time": "2024-03-27T13:53:14.219570Z",
     "start_time": "2024-03-27T13:53:06.397457Z"
    },
    "collapsed": false,
    "jupyter": {
     "outputs_hidden": false
    }
   },
   "outputs": [],
   "source": [
    "fig.savefig(f'../visualization/dynamics/rolling_windows/{market}_rolling_MFHT_p_{NDAYS}days_variousthresholds_{VOL_LIMIT}.png', bbox_inches='tight')\n",
    "fig.savefig(f'../visualization/dynamics/rolling_windows/{market}_rolling_MFHT_p_{NDAYS}days_variousthresholds_{VOL_LIMIT}.eps', bbox_inches='tight')\n",
    "fig.savefig(f'../visualization/dynamics/rolling_windows/{market}_rolling_MFHT_p_{NDAYS}days_variousthresholds_{VOL_LIMIT}.pdf', bbox_inches='tight')"
   ]
  },
  {
   "cell_type": "markdown",
   "id": "7785b7c49f57db61",
   "metadata": {
    "collapsed": false,
    "jupyter": {
     "outputs_hidden": false
    }
   },
   "source": [
    "## JT"
   ]
  },
  {
   "cell_type": "code",
   "execution_count": null,
   "id": "3a179d57a393c748",
   "metadata": {
    "ExecuteTime": {
     "end_time": "2024-03-27T13:53:14.235517Z",
     "start_time": "2024-03-27T13:53:14.220570Z"
    },
    "collapsed": false,
    "jupyter": {
     "outputs_hidden": false
    }
   },
   "outputs": [],
   "source": [
    "market = \"JT\""
   ]
  },
  {
   "cell_type": "code",
   "execution_count": null,
   "id": "716433c105fa3593",
   "metadata": {
    "ExecuteTime": {
     "end_time": "2024-03-27T13:53:14.250900Z",
     "start_time": "2024-03-27T13:53:14.236433Z"
    },
    "collapsed": false,
    "jupyter": {
     "outputs_hidden": false
    }
   },
   "outputs": [],
   "source": [
    "regenerate = False\n",
    "for t1_string, t2_string in COEFFICIENTS:\n",
    "    df = pd.DataFrame()\n",
    "    if not os.path.exists(f'../data/processed/dynamics/{market}_rolling_MFHT_peaks_{t1_string}_{t2_string}_200bins_{VOL_LIMIT}.pickle') or regenerate:\n",
    "        print(f\"Generating {market} with thresholds {t1_string}-{t2_string}\")\n",
    "        # Data must be regenerate\n",
    "        df, outcasts = create_dataset([market], windows, t1_string, t2_string)\n",
    "        print(f\"There are {len(outcasts[market])} outcasts\")\n",
    "        # df['thresholds'] = f'{t1_string}_{t2_string}'\n",
    "        df.to_pickle(f'../data/processed/dynamics/{market}_rolling_MFHT_peaks_{t1_string}_{t2_string}_200bins_{VOL_LIMIT}.pickle')\n",
    "regenerate = False"
   ]
  },
  {
   "cell_type": "code",
   "execution_count": null,
   "id": "1004a6c4b8bc43a0",
   "metadata": {
    "ExecuteTime": {
     "end_time": "2024-03-27T13:53:14.266441Z",
     "start_time": "2024-03-27T13:53:14.251899Z"
    },
    "collapsed": false,
    "jupyter": {
     "outputs_hidden": false
    }
   },
   "outputs": [],
   "source": [
    "p_values, stat_values, outcasts = test_mfhts(market, windows, NDAYS, COEFFICIENTS, regenerate=regenerate)\n",
    "# print_rejections(p_values, windows, NDAYS, COEFFICIENTS)"
   ]
  },
  {
   "cell_type": "code",
   "execution_count": null,
   "id": "120d86f7b0c807e9",
   "metadata": {
    "ExecuteTime": {
     "end_time": "2024-03-27T13:53:14.983487Z",
     "start_time": "2024-03-27T13:53:14.267441Z"
    },
    "collapsed": false,
    "jupyter": {
     "outputs_hidden": false
    }
   },
   "outputs": [],
   "source": [
    "# With a confidence level of 95%, we must reject the hypothesis that the distributions are the same if the p-value is less than 0.05\n",
    "fig, errors = plot_rolling_pmesh(COEFFICIENTS, actual_windows, p_values, latex=True, suptitle=market, ndays=NDAYS, label_spacing=365)"
   ]
  },
  {
   "cell_type": "code",
   "execution_count": null,
   "id": "ded73644d9d9975f",
   "metadata": {
    "ExecuteTime": {
     "end_time": "2024-03-27T13:53:20.232641Z",
     "start_time": "2024-03-27T13:53:14.985998Z"
    },
    "collapsed": false,
    "jupyter": {
     "outputs_hidden": false
    }
   },
   "outputs": [],
   "source": [
    "fig.savefig(f'../visualization/dynamics/rolling_windows/{market}_rolling_MFHT_p_{NDAYS}days_variousthresholds_{VOL_LIMIT}.png', bbox_inches='tight')\n",
    "fig.savefig(f'../visualization/dynamics/rolling_windows/{market}_rolling_MFHT_p_{NDAYS}days_variousthresholds_{VOL_LIMIT}.eps', bbox_inches='tight')\n",
    "fig.savefig(f'../visualization/dynamics/rolling_windows/{market}_rolling_MFHT_p_{NDAYS}days_variousthresholds_{VOL_LIMIT}.pdf', bbox_inches='tight')"
   ]
  },
  {
   "cell_type": "code",
   "execution_count": null,
   "id": "5fe1060df3b84adf",
   "metadata": {
    "ExecuteTime": {
     "end_time": "2024-03-27T13:53:20.248721Z",
     "start_time": "2024-03-27T13:53:20.236560Z"
    },
    "collapsed": false,
    "jupyter": {
     "outputs_hidden": false
    }
   },
   "outputs": [],
   "source": []
  }
 ],
 "metadata": {
  "kernelspec": {
   "display_name": ".venv",
   "language": "python",
   "name": "python3"
  },
  "language_info": {
   "codemirror_mode": {
    "name": "ipython",
    "version": 3
   },
   "file_extension": ".py",
   "mimetype": "text/x-python",
   "name": "python",
   "nbconvert_exporter": "python",
   "pygments_lexer": "ipython3",
   "version": "3.12.3"
  }
 },
 "nbformat": 4,
 "nbformat_minor": 5
}
