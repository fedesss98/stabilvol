{
 "cells": [
  {
   "cell_type": "code",
   "execution_count": null,
   "metadata": {
    "collapsed": true
   },
   "outputs": [],
   "source": [
    "%matplotlib inline\n",
    "import matplotlib.pyplot as plt\n",
    "import random\n",
    "import numpy as np\n",
    "import pandas as pd\n",
    "import seaborn as sns"
   ]
  },
  {
   "cell_type": "code",
   "execution_count": null,
   "outputs": [],
   "source": [
    "# Thresholds\n",
    "start = 5.8\n",
    "end = 1.2"
   ],
   "metadata": {
    "collapsed": false
   }
  },
  {
   "cell_type": "code",
   "execution_count": null,
   "outputs": [],
   "source": [
    "rng = np.random.default_rng(seed=10)\n",
    "X = np.arange(0, 31, dtype=int)\n",
    "Y = rng.integers(10, size=31)\n",
    "returns = pd.DataFrame(np.vstack((X, Y)).T, columns=['x', 'y'])\n",
    "returns.set_index('x', inplace=True)\n",
    "returns"
   ],
   "metadata": {
    "collapsed": false
   }
  },
  {
   "cell_type": "code",
   "execution_count": null,
   "outputs": [],
   "source": [
    "state_color = {0:'red', 1:'red',\n",
    "          6:'green', 7:'green', 8:'green', 9:'green', 10:'green'}\n",
    "plt.figure(figsize=(10, 4))\n",
    "\n",
    "plt.grid(True)\n",
    "plt.plot(X, Y,)\n",
    "for x, y in zip(X, Y):\n",
    "    plt.scatter(x, y, color=state_color.get(y, 'black'), zorder=100)\n",
    "plt.xticks(X)\n",
    "plt.hlines(start, xmin=X.min(), xmax=X.max(), colors='green', ls='--')\n",
    "plt.hlines(end, xmin=X.min(), xmax=X.max(), colors='red', ls='--')\n",
    "plt.show()"
   ],
   "metadata": {
    "collapsed": false
   }
  },
  {
   "cell_type": "markdown",
   "source": [
    "## Select States\n",
    "### Starting and Ending"
   ],
   "metadata": {
    "collapsed": false
   }
  },
  {
   "cell_type": "code",
   "execution_count": null,
   "outputs": [],
   "source": [
    "def set_states(series):\n",
    "    X = np.zeros(series.shape, dtype=np.int8)\n",
    "    counting = False\n",
    "    for i, x in series.items():\n",
    "        if x > start and not counting:\n",
    "            X[i] = 1\n",
    "            counting = True\n",
    "        elif x < end and counting:\n",
    "            X[i] = -1\n",
    "            counting = False\n",
    "    return X\n",
    "\n",
    "states = returns.apply(set_states)\n",
    "states.reset_index().plot(x='x', y='y', kind='scatter')\n",
    "plt.show()"
   ],
   "metadata": {
    "collapsed": false
   }
  },
  {
   "cell_type": "code",
   "execution_count": null,
   "outputs": [],
   "source": [
    "sns.heatmap(states.T, cmap='gray')"
   ],
   "metadata": {
    "collapsed": false
   }
  },
  {
   "cell_type": "markdown",
   "source": [
    "## Select Ranges between Start and End"
   ],
   "metadata": {
    "collapsed": false
   }
  },
  {
   "cell_type": "code",
   "execution_count": null,
   "outputs": [],
   "source": [
    "index = pd.date_range(start='2002', periods=len(returns))\n",
    "returns.index = index\n",
    "\n",
    "def select_ranges(series):\n",
    "    date_ranges = []\n",
    "    counting = False\n",
    "    for i, x in series.items():\n",
    "        if x > start and not counting:\n",
    "            start_date = i\n",
    "            counting = True\n",
    "        elif x < end and counting:\n",
    "            end_date = i\n",
    "            date_ranges.append((start_date, end_date))\n",
    "            counting = False\n",
    "    return date_ranges\n",
    "\n",
    "dates = returns.apply(select_ranges)\n",
    "for interval in dates.itertuples():\n",
    "    left = interval[1][0]\n",
    "    right = interval[1][1]\n",
    "    print(left, right, '\\n', returns.loc[left: right].mean())"
   ],
   "metadata": {
    "collapsed": false
   }
  },
  {
   "cell_type": "markdown",
   "source": [
    "# FHT Test"
   ],
   "metadata": {
    "collapsed": false
   }
  },
  {
   "cell_type": "code",
   "execution_count": null,
   "outputs": [],
   "source": [
    "start = 0.5\n",
    "end = -0.5\n",
    "\n",
    "rng = np.random.default_rng(seed=10)\n",
    "Y1 = np.array([1, -1, 0, 1, 0, -1, 1, -1, 0, -1])\n",
    "Y2 = np.array([1, 0, 0, 0, -1, -1, 1, 0, 0, -1])\n",
    "Y3 = np.array([1, np.nan, np.nan, 0, 0, -1, 1, -1, 0, -1])\n",
    "data = pd.DataFrame(np.vstack((Y1, Y2, Y3)).T, columns=['y1', 'y2', 'y3'])"
   ],
   "metadata": {
    "collapsed": false
   }
  },
  {
   "cell_type": "code",
   "execution_count": null,
   "outputs": [],
   "source": [
    "def select_date_ranges(series, start, end):\n",
    "    date_ranges = list()\n",
    "    counting = False\n",
    "    for i, x in series.items():\n",
    "        if x > start and not counting:\n",
    "            start_index = i\n",
    "            counting = True\n",
    "        elif x < end and counting:\n",
    "            end_index = i\n",
    "            date_ranges.append((start_index, end_index))\n",
    "            counting = False\n",
    "    return date_ranges\n",
    "\n",
    "# Take date ranges for starting and ending counts\n",
    "date_ranges = data.apply(select_date_ranges, start=start, end=end)\n",
    "date_ranges"
   ],
   "metadata": {
    "collapsed": false
   }
  },
  {
   "cell_type": "markdown",
   "source": [
    "### Y1 Stabilvol"
   ],
   "metadata": {
    "collapsed": false
   }
  },
  {
   "cell_type": "code",
   "execution_count": null,
   "outputs": [],
   "source": [
    "column = 'y1'\n",
    "series = data[column]"
   ],
   "metadata": {
    "collapsed": false
   }
  },
  {
   "cell_type": "code",
   "execution_count": null,
   "outputs": [],
   "source": [
    "interval1 = date_ranges[column][0]\n",
    "chunk1 = series.loc[interval1[0]:interval1[1]].dropna()\n",
    "volatility1 = chunk1.std()\n",
    "time1 = len(chunk1)\n",
    "display(chunk1)\n",
    "mean = chunk1.mean()\n",
    "std = sum([(x-mean)**2 for _, x in chunk1.items()]) / (len(chunk1)-1)\n",
    "print(f\"FHT: {volatility1} - {time1}\")\n",
    "assert volatility1 == np.sqrt(std), \"Should be sqrt(((1-0)**2 + (-1-0)**2)/1)\""
   ],
   "metadata": {
    "collapsed": false
   }
  },
  {
   "cell_type": "code",
   "execution_count": null,
   "outputs": [],
   "source": [
    "interval2 = date_ranges[column][1]\n",
    "chunk2 = series.loc[interval2[0]:interval2[1]].dropna()\n",
    "volatility2 = chunk2.std()\n",
    "time2 = len(chunk2)\n",
    "display(chunk2)\n",
    "print(f\"FHT: {volatility2} - {time2}\")\n",
    "mean = chunk2.mean()\n",
    "std = sum([(x-mean)**2 for _, x in chunk2.items()]) / (len(chunk2)-1)\n",
    "assert volatility2 == np.sqrt(std), \"Should be sqrt(((1-0)**2 + (0-0)**2 + (-1-0)**2)/2)\""
   ],
   "metadata": {
    "collapsed": false
   }
  },
  {
   "cell_type": "code",
   "execution_count": null,
   "outputs": [],
   "source": [
    "interval3 = date_ranges[column][2]\n",
    "chunk3 = series.loc[interval3[0]:interval3[1]].dropna()\n",
    "volatility3 = chunk3.std()\n",
    "time3 = len(chunk3)\n",
    "display(chunk3)\n",
    "mean = chunk3.mean()\n",
    "std = sum([(x-mean)**2 for _, x in chunk3.items()]) / (len(chunk3)-1)\n",
    "print(f\"FHT: {volatility3} - {time3}\")\n",
    "assert volatility3 == np.sqrt(std), \"Should be sqrt(((1-0)**2 + (-1-0)**2)/1)\""
   ],
   "metadata": {
    "collapsed": false
   }
  },
  {
   "cell_type": "markdown",
   "source": [
    "### Y2 Stabilvol"
   ],
   "metadata": {
    "collapsed": false
   }
  },
  {
   "cell_type": "code",
   "execution_count": null,
   "outputs": [],
   "source": [
    "column = 'y2'\n",
    "series = data[column]"
   ],
   "metadata": {
    "collapsed": false
   }
  },
  {
   "cell_type": "code",
   "execution_count": null,
   "outputs": [],
   "source": [
    "interval1 = date_ranges[column][0]\n",
    "chunk1 = series.loc[interval1[0]:interval1[1]].dropna()\n",
    "volatility1 = chunk1.std()\n",
    "time1 = len(chunk1)\n",
    "display(chunk1)\n",
    "mean = chunk1.mean()\n",
    "std = sum([(x-mean)**2 for _, x in chunk1.items()]) / (len(chunk1)-1)\n",
    "print(f\"FHT: {volatility1} - {time1}\")\n",
    "assert volatility1 == np.sqrt(std), \"Should be sqrt(((1-0)**2 + (-1-0)**2)/4)\""
   ],
   "metadata": {
    "collapsed": false
   }
  },
  {
   "cell_type": "code",
   "execution_count": null,
   "outputs": [],
   "source": [
    "interval2 = date_ranges[column][1]\n",
    "chunk2 = series.loc[interval2[0]:interval2[1]].dropna()\n",
    "volatility2 = chunk2.std()\n",
    "time2 = len(chunk2)\n",
    "display(chunk2)\n",
    "print(f\"FHT: {volatility2} - {time2}\")\n",
    "mean = chunk2.mean()\n",
    "std = sum([(x-mean)**2 for _, x in chunk2.items()]) / (len(chunk2)-1)\n",
    "assert volatility2 == np.sqrt(std), \"Should be sqrt(((1-0)**2 + (-1-0)**2)/3)\""
   ],
   "metadata": {
    "collapsed": false
   }
  },
  {
   "cell_type": "markdown",
   "source": [
    "### Y3 Stabilvol"
   ],
   "metadata": {
    "collapsed": false
   }
  },
  {
   "cell_type": "code",
   "execution_count": null,
   "outputs": [],
   "source": [
    "column = 'y3'\n",
    "series = data[column]"
   ],
   "metadata": {
    "collapsed": false
   }
  },
  {
   "cell_type": "code",
   "execution_count": null,
   "outputs": [],
   "source": [
    "interval1 = date_ranges[column][0]\n",
    "chunk1 = series.loc[interval1[0]:interval1[1]].dropna()\n",
    "volatility1 = chunk1.std()\n",
    "time1 = len(chunk1)\n",
    "display(chunk1)\n",
    "mean = chunk1.mean()\n",
    "std = sum([(x-mean)**2 for _, x in chunk1.items()]) / (len(chunk1)-1)\n",
    "print(f\"FHT: {volatility1} - {time1}\")\n",
    "assert volatility1 == np.sqrt(std), \"Should be sqrt(((1-0)**2 + (-1-0)**2)/3)\""
   ],
   "metadata": {
    "collapsed": false
   }
  },
  {
   "cell_type": "code",
   "execution_count": null,
   "outputs": [],
   "source": [
    "interval2 = date_ranges[column][1]\n",
    "chunk2 = series.loc[interval2[0]:interval2[1]].dropna()\n",
    "volatility2 = chunk2.std()\n",
    "time2 = len(chunk2)\n",
    "display(chunk2)\n",
    "print(f\"FHT: {volatility2} - {time2}\")\n",
    "mean = chunk2.mean()\n",
    "std = sum([(x-mean)**2 for _, x in chunk2.items()]) / (len(chunk2)-1)\n",
    "assert volatility2 == np.sqrt(std), \"Should be sqrt(((1-0)**2 + (-1-0)**2)/1)\""
   ],
   "metadata": {
    "collapsed": false
   }
  },
  {
   "cell_type": "markdown",
   "source": [
    "### Total Stabilvol"
   ],
   "metadata": {
    "collapsed": false
   }
  },
  {
   "cell_type": "code",
   "execution_count": null,
   "outputs": [],
   "source": [
    "stabilvol_list = list()\n",
    "for stock, series in data.items():\n",
    "    for interval in date_ranges[stock]:\n",
    "        chunk = series.loc[interval[0]: interval[1]].dropna()\n",
    "        volatility = chunk.std()\n",
    "        fht = len(chunk)\n",
    "        stabilvol_list.append((volatility, fht))\n",
    "stabilvol = pd.DataFrame.from_records(\n",
    "    stabilvol_list, columns=['Volatility', 'FHT']\n",
    ")\n",
    "stabilvol.values"
   ],
   "metadata": {
    "collapsed": false
   }
  },
  {
   "cell_type": "code",
   "execution_count": null,
   "outputs": [],
   "source": [
    "given_stabilvol = np.array([\n",
    "    [np.sqrt(2), 2],\n",
    "    [np.sqrt(2/2), 3],\n",
    "    [np.sqrt(2), 2],\n",
    "    [np.sqrt(2/4), 5],\n",
    "    [np.sqrt(2/3), 4],\n",
    "    [np.sqrt(2/3), 4],\n",
    "    [np.sqrt(2/1), 2]\n",
    "])\n",
    "assert np.array_equal(stabilvol.values, given_stabilvol), \"Something Wrong\""
   ],
   "metadata": {
    "collapsed": false
   }
  }
 ],
 "metadata": {
  "kernelspec": {
   "display_name": "Python 3",
   "language": "python",
   "name": "python3"
  },
  "language_info": {
   "codemirror_mode": {
    "name": "ipython",
    "version": 2
   },
   "file_extension": ".py",
   "mimetype": "text/x-python",
   "name": "python",
   "nbconvert_exporter": "python",
   "pygments_lexer": "ipython2",
   "version": "2.7.6"
  }
 },
 "nbformat": 4,
 "nbformat_minor": 0
}
