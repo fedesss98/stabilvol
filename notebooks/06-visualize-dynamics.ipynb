{
 "cells": [
  {
   "cell_type": "code",
   "execution_count": null,
   "metadata": {
    "collapsed": true
   },
   "outputs": [],
   "source": [
    "%matplotlib inline\n",
    "import matplotlib.pyplot as plt\n",
    "import pandas as pd\n",
    "import seaborn as sns\n",
    "import os\n",
    "os.getcwd()"
   ]
  },
  {
   "cell_type": "markdown",
   "source": [
    "# Background Global Financial Crisis (GFC)\n",
    "**[From Wikipedia](https://en.wikipedia.org/wiki/2007%E2%80%932008_financial_crisis):**\n",
    "- ***Milestone 1: May 19, 2005***: Fund manager Michael Burry closed a credit default swap against subprime mortgage bonds with Deutsche Bank valued at 60 million dollars - the first such CDS. He projected they would become volatile within two years of the low \"teaser rate\" of the mortgages expiring.\n",
    "\n",
    "- ***Milestone 2: September 15, 2008***: After the Federal Reserve declined to guarantee its loans as it did for Bear Stearns, the Bankruptcy of Lehman Brothers led to a 504.48-point (4.42%) drop in the DJIA, its worst decline in seven years. To avoid bankruptcy, Merrill Lynch was acquired by Bank of America for $50 billion in a transaction facilitated by the government. Lehman had been in talks to be sold to either Bank of America or Barclays but neither bank wanted to acquire the entire company."
   ],
   "metadata": {
    "collapsed": false
   }
  },
  {
   "cell_type": "code",
   "execution_count": null,
   "outputs": [],
   "source": [
    "milestone1 = pd.to_datetime('2005-05-19')  # Michael Burry close a credit default swap against subprime mortgage bonds\n",
    "milestone2 = pd.to_datetime('2008-09-15')  # Lehman Brothers bankruptcy"
   ],
   "metadata": {
    "collapsed": false
   }
  },
  {
   "cell_type": "markdown",
   "source": [
    "## Stability vs Volatility Dynamics"
   ],
   "metadata": {
    "collapsed": false
   }
  },
  {
   "cell_type": "code",
   "execution_count": null,
   "outputs": [],
   "source": [
    "MARKETS = {\n",
    "    'UN': 'New York Stock Exchange',\n",
    "    'UW': 'NASDAQ Global Select Market',\n",
    "    'LN': 'London Stock Exchange',\n",
    "    'JT': 'Tokyo Stock Exchange'\n",
    "}\n",
    "\n",
    "EXPERIMENTS = [\n",
    "    {'UN': '003865Y', 'LN': '653851X', 'UW': '643630M', 'JT': '102939K'},\n",
    "    {'UN': '365374G', 'LN': '655972O', 'UW': '941047N', 'JT': '019647Q'},\n",
    "    {'UN': '928387S', 'LN': '774892E', 'UW': '960223U', 'JT': '897643T'},\n",
    "    {'UN': '242769F', 'LN': '963882T', 'UW': '088988V', 'JT': '711534E'},\n",
    "    {'UN': '565988I', 'LN': '899299O', 'UW': '368353O', 'JT': '668904O'},\n",
    "    {'UN': '852031O', 'LN': '605850U', 'UW': '021340F', 'JT': '482288K'},\n",
    "    {'UN': '242914S', 'LN': '565750N', 'UW': '429252I', 'JT': '943908F'},\n",
    "    {'UN': '709338D', 'LN': '927491K', 'UW': '289657I', 'JT': '902600X'},\n",
    "    {'UN': '042109Z', 'LN': '715743X', 'UW': '062485K', 'JT': '927218C'},\n",
    "    {'UN': '855945R', 'LN': '877537K', 'UW': '775312L', 'JT': '637990M'},\n",
    "    {'UN': '720192X', 'LN': '811006M', 'UW': '739420C', 'JT': '223400A'},\n",
    "    {'UN': '329900I', 'LN': '971711C', 'UW': '129109Y', 'JT': '864193Z'},\n",
    "    {'UN': '331719B', 'LN': '927049F', 'UW': '222677X', 'JT': '737397X'},\n",
    "    {'UN': '992991E', 'LN': '883178B', 'UW': '225521B', 'JT': '091567J'},\n",
    "    {'UN': '107340Q', 'LN': '258743T', 'UW': '926899H', 'JT': '781892G'},\n",
    "]\n",
    "# Experiments with same shifting window\n",
    "ROLLING_CHUNKS = {\n",
    "    '4M-4Y': (1, 7, 8, 9),\n",
    "    # '4M-2Y': (2, 6, 10),\n",
    "    # '4M-1Y': (3, 4, 5),\n",
    "    # '2M-2Y': (11, 12, 13),\n",
    "    # '2M-1Y': (14, 15),\n",
    "}\n",
    "\n",
    "ROLLING_FREE_PARAMETERS = {\n",
    "    1: ('[-0.1, -2.0]', 2000),\n",
    "    2: ('[-0.1, -2.0]', 2000),\n",
    "    3: ('[-0.1, -2.0]', 2000),\n",
    "    4: ('[-0.1, -2.0]', 1000),\n",
    "    5: ('[-0.1, -2.0]', 500),\n",
    "    6: ('[-0.1, -1.5]', 2000),\n",
    "    7: ('[-0.1, -1.5]', 2000),\n",
    "    8: ('[-0.1, -1.5]', 5000),\n",
    "    9: ('[-0.1, -1.5]', 500),\n",
    "    10: ('[-0.1, -1.5]', 500),\n",
    "    11: ('[-0.1, -2.0]', 500),\n",
    "    12: ('[-0.0, -1.0]', 1000),\n",
    "    13: ('[-0.1, -2.0]', 1000),\n",
    "    14: ('[-0.0, -1.0]', 1000),\n",
    "    15: ('[-0.1, -2.5]', 1000),\n",
    "}"
   ],
   "metadata": {
    "collapsed": false
   }
  },
  {
   "cell_type": "code",
   "execution_count": null,
   "outputs": [],
   "source": [
    "def read_pickle(run_id, market):\n",
    "    df = pd.read_pickle(f'../data/processed/dynamics/{run_id}.pickle')\n",
    "    df.index.name = 'Day'\n",
    "    df['Market'] = market\n",
    "    return df\n",
    "\n",
    "\n",
    "def plot_indicators(df):\n",
    "    axes = df.plot(subplots=True, figsize=(8,16), sharex=False, grid=True)\n",
    "    for ax in axes:\n",
    "        ax.axvline('2008-01-01', color='red')\n",
    "    plt.show()\n",
    "\n",
    "\n",
    "def plot_indicators_grid(data):\n",
    "    melted_data = pd.melt(data.reset_index(),\n",
    "                      id_vars=['Day', 'Market'],\n",
    "                      value_vars=['Max', 'Peak', 'FWHM'],\n",
    "                      var_name='indicator', value_name='value')\n",
    "    # Seaborn FacetGrid plot\n",
    "    g = sns.relplot(\n",
    "        data=melted_data,\n",
    "        x='Day',\n",
    "        y='value',\n",
    "        col='Market',\n",
    "        row='indicator',\n",
    "        kind='line',\n",
    "        facet_kws={'sharey': False},\n",
    "        aspect=1.4,\n",
    "    )\n",
    "    # Add vertical lines for milestones\n",
    "    g.map(lambda **kwargs: plt.axvline(milestone1, color='orange'))\n",
    "    g.map(lambda **kwargs: plt.axvline(milestone2, color='red'))\n",
    "    return g\n",
    "\n",
    "def save_figure(facet, experiment):\n",
    "    facet.savefig(f'../visualization/dynamics/grid_plots/experiment_{experiment}.png')"
   ],
   "metadata": {
    "collapsed": false
   }
  },
  {
   "cell_type": "markdown",
   "source": [
    "### Experiment 1"
   ],
   "metadata": {
    "collapsed": false
   }
  },
  {
   "cell_type": "code",
   "execution_count": null,
   "outputs": [],
   "source": [
    "experiment_number = 1\n",
    "INFO = \"\"\"1990 to 2020 every 4 month, 4-years windows,\n",
    "    thresholds [-0.1; -2.0],\n",
    "    2000 bins\"\"\"\n",
    "RUN_IDS = {\n",
    "    'UN': '003865Y',\n",
    "    'UW': '643630M',\n",
    "    'LN': '653851X',\n",
    "    'JT': '102939K',\n",
    "}\n",
    "data = pd.DataFrame()\n",
    "for market, run_id in RUN_IDS.items():\n",
    "    df = read_pickle(run_id, market)\n",
    "    data = pd.concat([data, df])\n",
    "# Plot Seaborn FacetGrid\n",
    "g = plot_indicators_grid(data)\n",
    "g.figure.suptitle(INFO, fontsize=20)\n",
    "plt.tight_layout()\n",
    "plt.subplots_adjust(top=0.88)\n",
    "save_figure(g, experiment_number)\n",
    "plt.show()"
   ],
   "metadata": {
    "collapsed": false
   }
  },
  {
   "cell_type": "markdown",
   "source": [
    "### Experiment 2"
   ],
   "metadata": {
    "collapsed": false
   }
  },
  {
   "cell_type": "code",
   "execution_count": null,
   "outputs": [],
   "source": [
    "experiment_number = 2\n",
    "INFO = \"\"\"1990 to 2020 every 4 month, 2-years windows,\n",
    "    thresholds [-0.1; -2.0],\n",
    "    2000 bins\"\"\"\n",
    "RUN_IDS = {\n",
    "    'UN': '365374G',\n",
    "    'UW': '655972O',\n",
    "    'LN': '941047N',\n",
    "    'JT': '019647Q',\n",
    "}\n",
    "data = pd.DataFrame()\n",
    "for market, run_id in RUN_IDS.items():\n",
    "    df = read_pickle(run_id, market)\n",
    "    data = pd.concat([data, df])\n",
    "# Plot Seaborn FacetGrid\n",
    "g = plot_indicators_grid(data)\n",
    "g.figure.suptitle(INFO, fontsize=20)\n",
    "plt.tight_layout()\n",
    "plt.subplots_adjust(top=0.88)\n",
    "save_figure(g, experiment_number)\n",
    "plt.show()"
   ],
   "metadata": {
    "collapsed": false
   }
  },
  {
   "cell_type": "markdown",
   "source": [
    "### Experiment 3"
   ],
   "metadata": {
    "collapsed": false
   }
  },
  {
   "cell_type": "code",
   "execution_count": null,
   "outputs": [],
   "source": [
    "experiment_number = 3\n",
    "INFO = \"\"\"1990 to 2020 every 4 month, 1-year windows,\n",
    "    thresholds [-0.1; -2.0],\n",
    "    2000 bins\"\"\"\n",
    "RUN_IDS = {\n",
    "    'UN': '928387S',\n",
    "    'UW': '774892E',\n",
    "    'LN': '960223U',\n",
    "    'JT': '897643T',\n",
    "}\n",
    "data = pd.DataFrame()\n",
    "for market, run_id in RUN_IDS.items():\n",
    "    df = read_pickle(run_id, market)\n",
    "    data = pd.concat([data, df])\n",
    "# Plot Seaborn FacetGrid\n",
    "g = plot_indicators_grid(data)\n",
    "g.figure.suptitle(INFO, fontsize=20)\n",
    "plt.tight_layout()\n",
    "plt.subplots_adjust(top=0.88)\n",
    "save_figure(g, experiment_number)\n",
    "plt.show()"
   ],
   "metadata": {
    "collapsed": false
   }
  },
  {
   "cell_type": "markdown",
   "source": [
    "### Experiment 4"
   ],
   "metadata": {
    "collapsed": false
   }
  },
  {
   "cell_type": "code",
   "execution_count": null,
   "outputs": [],
   "source": [
    "experiment_number = 4\n",
    "INFO = \"\"\"1990 to 2020 every 4 month, 1-year windows,\n",
    "    thresholds [-0.1; -2.0],\n",
    "    1000 bins\"\"\"\n",
    "RUN_IDS = {\n",
    "    'UN': '242769F',\n",
    "    'UW': '963882T',\n",
    "    'LN': '088988V',\n",
    "    'JT': '711534E',\n",
    "}\n",
    "data = pd.DataFrame()\n",
    "for market, run_id in RUN_IDS.items():\n",
    "    df = read_pickle(run_id, market)\n",
    "    data = pd.concat([data, df])\n",
    "# Plot Seaborn FacetGrid\n",
    "g = plot_indicators_grid(data)\n",
    "g.figure.suptitle(INFO, fontsize=20)\n",
    "plt.tight_layout()\n",
    "plt.subplots_adjust(top=0.88)\n",
    "save_figure(g, experiment_number)\n",
    "plt.show()"
   ],
   "metadata": {
    "collapsed": false
   }
  },
  {
   "cell_type": "markdown",
   "source": [
    "### Experiment 5"
   ],
   "metadata": {
    "collapsed": false
   }
  },
  {
   "cell_type": "code",
   "execution_count": null,
   "outputs": [],
   "source": [
    "experiment_number = 5\n",
    "INFO = \"\"\"1990 to 2020 every 4 month, 1-year windows,\n",
    "    thresholds [-0.1; -2.0],\n",
    "    500 bins\"\"\"\n",
    "RUN_IDS = {\n",
    "    'UN': '565988I',\n",
    "    'UW': '899299O',\n",
    "    'LN': '368353O',\n",
    "    'JT': '668904O',\n",
    "}\n",
    "data = pd.DataFrame()\n",
    "for market, run_id in RUN_IDS.items():\n",
    "    df = read_pickle(run_id, market)\n",
    "    data = pd.concat([data, df])\n",
    "# Plot Seaborn FacetGrid\n",
    "g = plot_indicators_grid(data)\n",
    "g.figure.suptitle(INFO, fontsize=20)\n",
    "plt.tight_layout()\n",
    "plt.subplots_adjust(top=0.88)\n",
    "save_figure(g, experiment_number)\n",
    "plt.show()"
   ],
   "metadata": {
    "collapsed": false
   }
  },
  {
   "cell_type": "markdown",
   "source": [
    "### Experiment 6"
   ],
   "metadata": {
    "collapsed": false
   }
  },
  {
   "cell_type": "code",
   "execution_count": null,
   "outputs": [],
   "source": [
    "experiment_number = 6\n",
    "INFO = \"\"\"1990 to 2020 every 4 month, 2-years windows,\n",
    "    thresholds [-0.1; -1.5],\n",
    "    2000 bins\"\"\"\n",
    "RUN_IDS = {\n",
    "    'UN': '852031O',\n",
    "    'UW': '605850U',\n",
    "    'LN': '021340F',\n",
    "    'JT': '482288K',\n",
    "}\n",
    "data = pd.DataFrame()\n",
    "for market, run_id in RUN_IDS.items():\n",
    "    df = read_pickle(run_id, market)\n",
    "    data = pd.concat([data, df])\n",
    "# Plot Seaborn FacetGrid\n",
    "g = plot_indicators_grid(data)\n",
    "g.figure.suptitle(INFO, fontsize=20)\n",
    "plt.tight_layout()\n",
    "plt.subplots_adjust(top=0.88)\n",
    "save_figure(g, experiment_number)\n",
    "plt.show()"
   ],
   "metadata": {
    "collapsed": false
   }
  },
  {
   "cell_type": "markdown",
   "source": [
    "### Experiment 7"
   ],
   "metadata": {
    "collapsed": false
   }
  },
  {
   "cell_type": "code",
   "execution_count": null,
   "outputs": [],
   "source": [
    "experiment_number = 7\n",
    "INFO = \"\"\"1990 to 2020 every 4 month, 4-years windows,\n",
    "    thresholds [-0.1; -1.5],\n",
    "    2000 bins\"\"\"\n",
    "RUN_IDS = {\n",
    "    'UN': '242914S',\n",
    "    'UW': '565750N',\n",
    "    'LN': '429252I',\n",
    "    'JT': '943908F',\n",
    "}\n",
    "data = pd.DataFrame()\n",
    "for market, run_id in RUN_IDS.items():\n",
    "    df = read_pickle(run_id, market)\n",
    "    data = pd.concat([data, df])\n",
    "# Plot Seaborn FacetGrid\n",
    "g = plot_indicators_grid(data)\n",
    "g.figure.suptitle(INFO, fontsize=20)\n",
    "plt.tight_layout()\n",
    "plt.subplots_adjust(top=0.88)\n",
    "save_figure(g, experiment_number)\n",
    "plt.show()"
   ],
   "metadata": {
    "collapsed": false
   }
  },
  {
   "cell_type": "markdown",
   "source": [
    "### Experiment 8"
   ],
   "metadata": {
    "collapsed": false
   }
  },
  {
   "cell_type": "code",
   "execution_count": null,
   "outputs": [],
   "source": [
    "experiment_number = 8\n",
    "INFO = \"\"\"1990 to 2020 every 4 month, 4-years windows,\n",
    "    thresholds [-0.1; -1.5],\n",
    "    5000 bins\"\"\"\n",
    "RUN_IDS = {\n",
    "    'UN': '709338D',\n",
    "    'UW': '927491K',\n",
    "    'LN': '289657I',\n",
    "    'JT': '902600X',\n",
    "}\n",
    "data = pd.DataFrame()\n",
    "for market, run_id in RUN_IDS.items():\n",
    "    df = read_pickle(run_id, market)\n",
    "    data = pd.concat([data, df])\n",
    "# Plot Seaborn FacetGrid\n",
    "g = plot_indicators_grid(data)\n",
    "g.figure.suptitle(INFO, fontsize=20)\n",
    "plt.tight_layout()\n",
    "plt.subplots_adjust(top=0.88)\n",
    "save_figure(g, experiment_number)\n",
    "plt.show()"
   ],
   "metadata": {
    "collapsed": false
   }
  },
  {
   "cell_type": "markdown",
   "source": [
    "### Experiment 9"
   ],
   "metadata": {
    "collapsed": false
   }
  },
  {
   "cell_type": "code",
   "execution_count": null,
   "outputs": [],
   "source": [
    "experiment_number = 9\n",
    "INFO = \"\"\"1990 to 2020 every 4 month, 4-years windows,\n",
    "    thresholds [-0.1; -1.5],\n",
    "    500 bins\"\"\"\n",
    "RUN_IDS = {\n",
    "    'UN': '042109Z',\n",
    "    'UW': '715743X',\n",
    "    'LN': '062485K',\n",
    "    'JT': '927218C',\n",
    "}\n",
    "data = pd.DataFrame()\n",
    "for market, run_id in RUN_IDS.items():\n",
    "    df = read_pickle(run_id, market)\n",
    "    data = pd.concat([data, df])\n",
    "# Plot Seaborn FacetGrid\n",
    "g = plot_indicators_grid(data)\n",
    "g.figure.suptitle(INFO, fontsize=20)\n",
    "plt.tight_layout()\n",
    "plt.subplots_adjust(top=0.88)\n",
    "save_figure(g, experiment_number)\n",
    "plt.show()"
   ],
   "metadata": {
    "collapsed": false
   }
  },
  {
   "cell_type": "markdown",
   "source": [
    "### Experiment 10"
   ],
   "metadata": {
    "collapsed": false
   }
  },
  {
   "cell_type": "code",
   "execution_count": null,
   "outputs": [],
   "source": [
    "experiment_number = 10\n",
    "INFO = \"\"\"1990 to 2020 every 4 month, 2-years windows,\n",
    "    thresholds [-0.1; -1.5],\n",
    "    500 bins\"\"\"\n",
    "RUN_IDS = {\n",
    "    'UN': '855945R',\n",
    "    'UW': '877537K',\n",
    "    'LN': '775312L',\n",
    "    'JT': '637990M',\n",
    "}\n",
    "data = pd.DataFrame()\n",
    "for market, run_id in RUN_IDS.items():\n",
    "    df = read_pickle(run_id, market)\n",
    "    data = pd.concat([data, df])\n",
    "# Plot Seaborn FacetGrid\n",
    "g = plot_indicators_grid(data)\n",
    "g.figure.suptitle(INFO, fontsize=20)\n",
    "plt.tight_layout()\n",
    "plt.subplots_adjust(top=0.88)\n",
    "save_figure(g, experiment_number)\n",
    "plt.show()"
   ],
   "metadata": {
    "collapsed": false
   }
  },
  {
   "cell_type": "markdown",
   "source": [
    "### Experiment 11"
   ],
   "metadata": {
    "collapsed": false
   }
  },
  {
   "cell_type": "code",
   "execution_count": null,
   "outputs": [],
   "source": [
    "experiment_number = 11\n",
    "INFO = \"\"\"1990 to 2020 every 2 months, 2-years windows,\n",
    "    thresholds [-0.1; -2.0],\n",
    "    2000 bins\"\"\"\n",
    "RUN_IDS = {\n",
    "    'UN': '720192X',\n",
    "    'UW': '811006M',\n",
    "    'LN': '739420C',\n",
    "    'JT': '223400A',\n",
    "}\n",
    "data = pd.DataFrame()\n",
    "for market, run_id in RUN_IDS.items():\n",
    "    df = read_pickle(run_id, market)\n",
    "    data = pd.concat([data, df])\n",
    "# Plot Seaborn FacetGrid\n",
    "g = plot_indicators_grid(data)\n",
    "g.figure.suptitle(INFO, fontsize=20)\n",
    "plt.tight_layout()\n",
    "plt.subplots_adjust(top=0.88)\n",
    "save_figure(g, experiment_number)\n",
    "plt.show()"
   ],
   "metadata": {
    "collapsed": false
   }
  },
  {
   "cell_type": "markdown",
   "source": [
    "### Experiment 12"
   ],
   "metadata": {
    "collapsed": false
   }
  },
  {
   "cell_type": "code",
   "execution_count": null,
   "outputs": [],
   "source": [
    "experiment_number = 12\n",
    "INFO = \"\"\"1990 to 2020 every 2 months, 2-years windows,\n",
    "    thresholds [0.0; -1.0],\n",
    "    1000 bins\"\"\"\n",
    "RUN_IDS = {\n",
    "    'UN': '329900I',\n",
    "    'UW': '971711C',\n",
    "    'LN': '129109Y',\n",
    "    'JT': '864193Z',\n",
    "}\n",
    "data = pd.DataFrame()\n",
    "for market, run_id in RUN_IDS.items():\n",
    "    df = read_pickle(run_id, market)\n",
    "    data = pd.concat([data, df])\n",
    "# Plot Seaborn FacetGrid\n",
    "g = plot_indicators_grid(data)\n",
    "g.figure.suptitle(INFO, fontsize=20)\n",
    "plt.tight_layout()\n",
    "plt.subplots_adjust(top=0.88)\n",
    "save_figure(g, experiment_number)\n",
    "plt.show()"
   ],
   "metadata": {
    "collapsed": false
   }
  },
  {
   "cell_type": "markdown",
   "source": [
    "### Experiment 13"
   ],
   "metadata": {
    "collapsed": false
   }
  },
  {
   "cell_type": "code",
   "execution_count": null,
   "outputs": [],
   "source": [
    "experiment_number = 13\n",
    "INFO = \"\"\"1990 to 2020 every 2 months, 2-years windows,\n",
    "    thresholds [-0.1; -2.0],\n",
    "    1000 bins\"\"\"\n",
    "RUN_IDS = {\n",
    "    'UN': '331719B',\n",
    "    'UW': '927049F',\n",
    "    'LN': '222677X',\n",
    "    'JT': '737397X',\n",
    "}\n",
    "data = pd.DataFrame()\n",
    "for market, run_id in RUN_IDS.items():\n",
    "    df = read_pickle(run_id, market)\n",
    "    data = pd.concat([data, df])\n",
    "# Plot Seaborn FacetGrid\n",
    "g = plot_indicators_grid(data)\n",
    "g.figure.suptitle(INFO, fontsize=20)\n",
    "plt.tight_layout()\n",
    "plt.subplots_adjust(top=0.88)\n",
    "save_figure(g, experiment_number)\n",
    "plt.show()"
   ],
   "metadata": {
    "collapsed": false
   }
  },
  {
   "cell_type": "markdown",
   "source": [
    "### Experiment 14"
   ],
   "metadata": {
    "collapsed": false
   }
  },
  {
   "cell_type": "code",
   "execution_count": null,
   "outputs": [],
   "source": [
    "experiment_number = 14\n",
    "INFO = \"\"\"1990 to 2020 every 2 months, 1-years windows,\n",
    "    thresholds [0.0; -1.0],\n",
    "    1000 bins\"\"\"\n",
    "RUN_IDS = {\n",
    "    'UN': '992991E',\n",
    "    'UW': '883178B',\n",
    "    'LN': '225521B',\n",
    "    'JT': '091567J',\n",
    "}\n",
    "data = pd.DataFrame()\n",
    "for market, run_id in RUN_IDS.items():\n",
    "    df = read_pickle(run_id, market)\n",
    "    data = pd.concat([data, df])\n",
    "# Plot Seaborn FacetGrid\n",
    "g = plot_indicators_grid(data)\n",
    "g.figure.suptitle(INFO, fontsize=20)\n",
    "plt.tight_layout()\n",
    "plt.subplots_adjust(top=0.88)\n",
    "save_figure(g, experiment_number)\n",
    "plt.show()"
   ],
   "metadata": {
    "collapsed": false
   }
  },
  {
   "cell_type": "markdown",
   "source": [
    "### Experiment 15"
   ],
   "metadata": {
    "collapsed": false
   }
  },
  {
   "cell_type": "code",
   "execution_count": null,
   "outputs": [],
   "source": [
    "experiment_number = 15\n",
    "INFO = \"\"\"1990 to 2020 every 2 months, 1-years windows,\n",
    "    thresholds [-0.1; -2.5],\n",
    "    1000 bins\"\"\"\n",
    "RUN_IDS = {\n",
    "    'UN': '107340Q',\n",
    "    'UW': '258743T',\n",
    "    'LN': '926899H',\n",
    "    'JT': '781892G',\n",
    "}\n",
    "data = pd.DataFrame()\n",
    "for market, run_id in RUN_IDS.items():\n",
    "    df = read_pickle(run_id, market)\n",
    "    data = pd.concat([data, df])\n",
    "# Plot Seaborn FacetGrid\n",
    "g = plot_indicators_grid(data)\n",
    "g.figure.suptitle(INFO, fontsize=20)\n",
    "plt.tight_layout()\n",
    "plt.subplots_adjust(top=0.88)\n",
    "save_figure(g, experiment_number)\n",
    "plt.show()"
   ],
   "metadata": {
    "collapsed": false
   }
  },
  {
   "cell_type": "markdown",
   "source": [
    "### 4 Months Steps - 4 Years Windows"
   ],
   "metadata": {
    "collapsed": false
   }
  },
  {
   "cell_type": "code",
   "execution_count": null,
   "outputs": [],
   "source": [
    "data = pd.DataFrame()\n",
    "\n",
    "for rolling_chunk, experiments in ROLLING_CHUNKS.items():\n",
    "    for n in experiments:\n",
    "        for market, run_id in  EXPERIMENTS[n-1].items():\n",
    "            df = read_pickle(run_id, market)\n",
    "            df['Thresholds'] = ROLLING_FREE_PARAMETERS[n][0]\n",
    "            df['Bins'] = ROLLING_FREE_PARAMETERS[n][1]\n",
    "            df['Rolling'] = rolling_chunk\n",
    "            data = pd.concat([data, df])\n",
    "data = data.reset_index()\n",
    "data.describe()"
   ],
   "metadata": {
    "collapsed": false
   }
  },
  {
   "cell_type": "markdown",
   "source": [
    "### Superplots Plot"
   ],
   "metadata": {
    "collapsed": false
   }
  },
  {
   "cell_type": "code",
   "execution_count": null,
   "outputs": [],
   "source": [
    "def superplot(variable):\n",
    "    g = sns.relplot(data,\n",
    "                    x='Day', y=variable,\n",
    "                    hue='Thresholds',\n",
    "                    size='Bins',\n",
    "                    col='Market',\n",
    "                    kind='line',\n",
    "                    aspect=1.3,\n",
    "                    )\n",
    "    g.map(lambda **kwargs: plt.axvline(milestone1, color='green', linestyle='--'))\n",
    "    g.map(lambda **kwargs: plt.axvline(milestone2, color='red', linestyle='--'))\n",
    "    return g\n",
    "\n",
    "for variable in ['Max', 'Peak', 'FWHM']:\n",
    "    g = superplot(variable)\n",
    "    g.savefig(f'../visualization/dynamics/superplots/{variable}.png')\n",
    "    plt.show()"
   ],
   "metadata": {
    "collapsed": false
   }
  },
  {
   "cell_type": "code",
   "execution_count": null,
   "outputs": [],
   "source": [
    "variable = 'Peak'\n",
    "g = superplot(variable)\n",
    "g.axes[0][0].set_ylim(0.0, 0.025)\n",
    "g.savefig(f'../visualization/dynamics/superplots/{variable}_zoom.png')\n",
    "plt.show()"
   ],
   "metadata": {
    "collapsed": false
   }
  },
  {
   "cell_type": "code",
   "execution_count": null,
   "outputs": [],
   "source": [
    "variable = 'FWHM'\n",
    "g = superplot(variable)\n",
    "g.axes[0][0].set_ylim(-0.001, 0.022)\n",
    "g.savefig(f'../visualization/dynamics/superplots/{variable}_zoom.png')\n",
    "plt.show()"
   ],
   "metadata": {
    "collapsed": false
   }
  }
 ],
 "metadata": {
  "kernelspec": {
   "display_name": "Python 3",
   "language": "python",
   "name": "python3"
  },
  "language_info": {
   "codemirror_mode": {
    "name": "ipython",
    "version": 2
   },
   "file_extension": ".py",
   "mimetype": "text/x-python",
   "name": "python",
   "nbconvert_exporter": "python",
   "pygments_lexer": "ipython2",
   "version": "2.7.6"
  }
 },
 "nbformat": 4,
 "nbformat_minor": 0
}
