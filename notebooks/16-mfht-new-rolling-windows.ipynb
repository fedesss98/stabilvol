{
 "cells": [
  {
   "cell_type": "markdown",
   "source": [
    "# MFHT Rolling Windows Plot"
   ],
   "metadata": {
    "collapsed": false
   },
   "id": "c44dddebf3abc6cc"
  },
  {
   "cell_type": "code",
   "execution_count": 1,
   "outputs": [],
   "source": [
    "import sqlite3\n",
    "\n",
    "import matplotlib.pyplot as plt\n",
    "import pandas as pd\n",
    "import numpy as np\n",
    "from tqdm import tqdm\n",
    "import datetime\n",
    "\n",
    "from stabilvol.utility import functions as f\n",
    "\n",
    "DATABASE = '../data/processed/trapezoidal_selection/stabilvol.sqlite'\n",
    "# Connect to the SQLite database\n",
    "conn = sqlite3.connect(DATABASE)\n",
    "cur = conn.cursor()"
   ],
   "metadata": {
    "collapsed": false,
    "ExecuteTime": {
     "end_time": "2024-04-15T09:13:52.346697Z",
     "start_time": "2024-04-15T09:13:52.205697Z"
    }
   },
   "id": "d1674e86e0f257dc"
  },
  {
   "cell_type": "code",
   "execution_count": 2,
   "outputs": [
    {
     "name": "stdout",
     "output_type": "stream",
     "text": [
      "G:\\UNIPA\\ECONOFISICA\\stabilizing_volatility\\notebooks\n"
     ]
    },
    {
     "data": {
      "text/plain": "True"
     },
     "execution_count": 2,
     "metadata": {},
     "output_type": "execute_result"
    }
   ],
   "source": [
    "import os\n",
    "print(os.getcwd())\n",
    "os.path.exists(DATABASE)"
   ],
   "metadata": {
    "collapsed": false,
    "ExecuteTime": {
     "end_time": "2024-04-15T09:13:52.392701Z",
     "start_time": "2024-04-15T09:13:52.347697Z"
    }
   },
   "id": "862facc766c4eaa8"
  },
  {
   "cell_type": "code",
   "execution_count": 3,
   "outputs": [],
   "source": [
    "MARKETS = [\"UN\", \"UW\", \"LN\", \"JT\"]\n",
    "START_DATE = \"1980-01-01\"\n",
    "END_DATE = \"2022-07-01\"\n",
    "\n",
    "START_LEVELS = [-2.0, -1.0, -0.5, -0.2, -0.1, 0.1, 0.2, 0.5, 1.0, 2.0]\n",
    "DELTAS = [2.0, 1.0, 0.5, 0.2, 0.1, -0.1, -0.2, -0.5, -1.0, -2.0]\n",
    "LEVELS = {\n",
    "    (start, round(start+delta, 2)) for start in START_LEVELS for delta in DELTAS\n",
    "}\n",
    "LEVELS = sorted(LEVELS)\n",
    "\n",
    "VOL_LIMIT= 0.5  # Change this will change all the pickle files, remember to re-generate them"
   ],
   "metadata": {
    "collapsed": false,
    "ExecuteTime": {
     "end_time": "2024-04-15T09:13:52.408698Z",
     "start_time": "2024-04-15T09:13:52.394697Z"
    }
   },
   "id": "82bc80ada8b46388"
  },
  {
   "cell_type": "code",
   "execution_count": 4,
   "outputs": [],
   "source": [
    "def select_bins(df, max_n=1000):\n",
    "    nbins = 25\n",
    "    \n",
    "    while True:\n",
    "        # Use qcut to bin 'Volatility' values\n",
    "        df['Bins'] = pd.qcut(df['Volatility'], nbins, duplicates='drop')\n",
    "        \n",
    "        # Group by the bins and calculate the mean and standard error of 'value'\n",
    "        grouped = df.groupby('Bins')['FHT'].agg(['mean', error_on_the_mean, 'size'])\n",
    "        count = grouped['size'].min()\n",
    "        \n",
    "        if count < max_n or nbins > 1000:\n",
    "            break\n",
    "        else:\n",
    "            nbins += 20\n",
    "    return grouped, nbins\n",
    "\n",
    "def error_on_the_mean(values):\n",
    "    return np.std(values)/np.sqrt(len(values))"
   ],
   "metadata": {
    "collapsed": false,
    "ExecuteTime": {
     "end_time": "2024-04-15T09:13:52.424705Z",
     "start_time": "2024-04-15T09:13:52.410697Z"
    }
   },
   "id": "88d2fb62bcaeaccf"
  },
  {
   "cell_type": "code",
   "execution_count": 5,
   "outputs": [],
   "source": [
    "def query_binned_data(market: str, start_date:str, end_date:str = None, vol_limit:float = 0.5, t1_string:str = \"m0p5\", t2_string:str = \"m1p5\"):\n",
    "    grouped_data = None\n",
    "    end_date = '2023-01-01' if end_date is None else end_date\n",
    "    try:            \n",
    "        # Write the SQL query\n",
    "        query = f'''\n",
    "        SELECT *\n",
    "        FROM stabilvol_{t1_string}_{t2_string}\n",
    "        WHERE Volatility < {vol_limit} \n",
    "        AND Market = \"{market}\"\n",
    "        AND start >= \"{start_date}\"\n",
    "        AND end <= \"{end_date}\"    \n",
    "        '''\n",
    "        # Load the FHT data from the database\n",
    "        df = pd.read_sql_query(query, conn)\n",
    "    except pd.errors.DatabaseError:\n",
    "        print(f'No data for market {market} with thresholds {t1_string}-{t2_string}')\n",
    "        nbins = 0\n",
    "    else:\n",
    "        if len(df) > 50:\n",
    "            return  select_bins(df)\n",
    "        else:\n",
    "            raise ValueError(f'Not enough data for market {market} with thresholds {t1_string}-{t2_string} from {start_date} to {end_date}')"
   ],
   "metadata": {
    "collapsed": false,
    "ExecuteTime": {
     "end_time": "2024-04-15T09:13:52.440707Z",
     "start_time": "2024-04-15T09:13:52.425697Z"
    }
   },
   "id": "2e3d85c019d3aa83"
  },
  {
   "cell_type": "code",
   "execution_count": 6,
   "outputs": [],
   "source": [
    "def create_dataset(markets, windows, t1_string, t2_string):\n",
    "    outcasts = {market: [] for market in markets}\n",
    "    df = pd.DataFrame()\n",
    "    for market in markets:\n",
    "        for start_date, end_date in tqdm(windows, desc=market):\n",
    "            try:\n",
    "                mfht, nbins = query_binned_data(market, start_date, end_date, VOL_LIMIT, t1_string=t1_string, t2_string=t2_string)         \n",
    "            except ValueError:\n",
    "                outcasts[market].append((start_date, end_date))\n",
    "            else:\n",
    "                mfht['start'] = start_date\n",
    "                mfht['end'] = end_date\n",
    "                mfht['market'] = market\n",
    "                df = pd.concat([df, mfht.reset_index()])\n",
    "                \n",
    "    return df, outcasts"
   ],
   "metadata": {
    "collapsed": false,
    "ExecuteTime": {
     "end_time": "2024-04-15T09:13:52.456697Z",
     "start_time": "2024-04-15T09:13:52.441697Z"
    }
   },
   "id": "59184695ac0cefb6"
  },
  {
   "cell_type": "code",
   "execution_count": 7,
   "outputs": [],
   "source": [
    "def take_maxs(market, windows, coefficients, regenerate=False):\n",
    "    if regenerate:  \n",
    "        max_values = np.zeros((len(coefficients), len(windows)))\n",
    "        for i, (t1_string, t2_string) in enumerate(coefficients):\n",
    "            df = pd.read_pickle(f'../data/processed/dynamics/{market}_rolling_MFHT_peaks_{t1_string}_{t2_string}_{VOL_LIMIT}.pickle')\n",
    "            for j, (start_date, end_date) in tqdm(enumerate(windows), desc=market):\n",
    "                mfht = df[(df['start'] == start_date) & (df['end'] == end_date)]       \n",
    "                if not mfht.empty:            \n",
    "                    max_values[i, j] = mfht['mean'].max()\n",
    "                        \n",
    "        np.save(f'../data/processed/dynamics/{market}_rolling_MFHT_peaks_variousthresholds_{VOL_LIMIT}.npy', max_values)\n",
    "    else:\n",
    "        max_values = np.load(f'../data/processed/dynamics/{market}_rolling_MFHT_peaks_variousthresholds_{VOL_LIMIT}.npy')\n",
    "    return max_values"
   ],
   "metadata": {
    "collapsed": false,
    "ExecuteTime": {
     "end_time": "2024-04-15T09:13:52.472698Z",
     "start_time": "2024-04-15T09:13:52.457697Z"
    }
   },
   "id": "9228e1548d39044e"
  },
  {
   "cell_type": "code",
   "execution_count": 8,
   "outputs": [],
   "source": [
    "def generate_quarters(start_date, end_date, freq='Q'):\n",
    "    # Generate all quarters between start and end date\n",
    "    quarters = list(pd.date_range(start_date, end_date, freq=freq))\n",
    "    if quarters[0].date() > start_date.date():\n",
    "        quarters.insert(0, start_date)\n",
    "    if quarters[-1].date() < end_date.date():\n",
    "        quarters.append(pd.to_datetime(end_date))\n",
    "\n",
    "    return pd.to_datetime(quarters)\n",
    "\n",
    "\n",
    "def add_ticks(ax, windows, coeff, outcasts, highlights=True):\n",
    "    label_dates = [start_date for start_date, end_date in windows]\n",
    "    label_dates.append(windows[-1][1])\n",
    "    label_dates = pd.to_datetime(label_dates)\n",
    "    quarters = generate_quarters(label_dates[0], label_dates[-1], 'Y')\n",
    "    tick_coords = []\n",
    "    for qdate in quarters:\n",
    "        if np.where(label_dates == qdate)[0].size > 0:\n",
    "            tick_coords.append(np.where(label_dates == qdate)[0][0])\n",
    "    ax.set_xticks(tick_coords, labels=[label_dates[j].strftime('%Y-%m-%d') for j in tick_coords], minor=False, \n",
    "                  fontsize=11, rotation=90, rotation_mode='anchor', ha='right', va='center_baseline')\n",
    "    ax.set_title(' '.join([r'$\\theta_i$=', f.numerify_threshold(coeff[0]), r'/ $\\theta_f$=', f.numerify_threshold(coeff[1])]), fontsize=12)\n",
    "    # Remove yticks\n",
    "    ax.yaxis.set_ticks([])\n",
    "    \n",
    "    outcast_dates = [(pd.to_datetime(start), pd.to_datetime(end)) for start, end in outcasts]\n",
    "    for outcast in outcast_dates:\n",
    "        # Find the indices of the start and end labels\n",
    "        start_index = np.where(label_dates <= outcast[0])\n",
    "        # Since only the end date is labeled, if the first start date is an outcast, it must be set manually\n",
    "        start_index = start_index[0][-1] if len(start_index[0]) > 0 else 0\n",
    "        end_index = np.where(label_dates >= outcast[1])[0][0]\n",
    "        ax.axvspan(start_index-0.5, end_index-0.5, color='black')\n",
    "    \n",
    "    if highlights:\n",
    "        # Find the indices of the start and end labels\n",
    "        start_index = np.where(label_dates <= pd.to_datetime('2006-12-31'))[0][-1]\n",
    "        end_index = np.where(label_dates >= pd.to_datetime('2008-12-31'))[0][0]\n",
    "    \n",
    "        # Add vertical lines at the start and end of the region\n",
    "        ax.axvline(start_index, color='k', linestyle='--', linewidth=1.5)\n",
    "        ax.axvline(end_index, color='k', linestyle='--', linewidth=1.5)\n",
    "\n",
    "\n",
    "def plot_rolling_heatmap(coefficients, windows, maxs=None, outcasts=None, **kwargs):\n",
    "    if outcasts is None:\n",
    "        outcasts = {(t1, t2): [] for t1, t2 in coefficients}\n",
    "        search_outcasts = True\n",
    "    else:\n",
    "        search_outcasts = False\n",
    "    if kwargs.get('latex', False):    \n",
    "        # Use LaTeX for text rendering\n",
    "        plt.rcParams['text.usetex'] = True\n",
    "        plt.rcParams['font.family'] = 'serif'\n",
    "    \n",
    "    fig, axs = plt.subplots(len(coefficients), figsize=(12, 4.5), sharex=True)\n",
    "    if kwargs.get('suptitle', None) is not None:\n",
    "        fig.suptitle(kwargs.get('suptitle'), fontsize=16)\n",
    "\n",
    "    max_values = np.zeros((len(coefficients), len(windows))) if maxs is None else maxs\n",
    "    \n",
    "\n",
    "    for i, (coeff, ax) in enumerate(zip(coefficients, axs.flatten())):\n",
    "        for j, (start_date, end_date) in enumerate(windows):\n",
    "            if maxs is None:\n",
    "                data = pd.read_pickle(f'../data/processed/dynamics/{market}_rolling_MFHT_peaks_{coeff[0]}_{coeff[1]}_{VOL_LIMIT}.pickle')\n",
    "                # Calculate the peaks\n",
    "                mfht = data[(data['start'] == start_date) & (data['end'] == end_date)]       \n",
    "                if mfht.empty:            \n",
    "                    outcasts[coeff].append((start_date, end_date))\n",
    "                else:\n",
    "                    max_values[i, j] = mfht['mean'].max()\n",
    "            elif search_outcasts:\n",
    "                # See where the max is zero and label it as outcast\n",
    "                if max_values[i, j] == 0:\n",
    "                    outcasts[coeff].append((start_date, end_date))\n",
    "                \n",
    "\n",
    "        im = ax.imshow(max_values[i].reshape(1, -1), cmap='coolwarm', aspect='auto', vmin=max_values[i].min(), vmax=max_values[i].max())\n",
    "        # Add ticks to the plot\n",
    "        add_ticks(ax, windows, coeff, outcasts[coeff])\n",
    "        # Set the colorbar for each plot showing only maximum and minimum values\n",
    "        cbar = fig.colorbar(im, ax=ax, orientation='vertical', pad=0.01, aspect=8)\n",
    "        cbar.set_ticks([max_values[i].min(), max_values[i].mean(), max_values[i].max()])\n",
    "    \n",
    "    # axs[0].text(0.57, 1.1, '2006-12-31', fontsize=11, transform=axs[0].transAxes, horizontalalignment='left')\n",
    "    # axs[0].text(0.73, 1.1, '2008-12-31', fontsize=11, transform=axs[0].transAxes, horizontalalignment='right')\n",
    "    \n",
    "    fig.tight_layout()\n",
    "    \n",
    "    # Add a colorbar\n",
    "    # cbar = fig.colorbar(im, ax=axs.ravel().tolist(), pad=0.01)\n",
    "    # cbar.set_label('Maximum MFHT', rotation=270, labelpad=15)\n",
    "\n",
    "    plt.show()\n",
    "    return fig, outcasts"
   ],
   "metadata": {
    "collapsed": false,
    "ExecuteTime": {
     "end_time": "2024-04-15T09:13:53.051735Z",
     "start_time": "2024-04-15T09:13:53.029735Z"
    }
   },
   "id": "3ec9a6e2381db5bc"
  },
  {
   "cell_type": "markdown",
   "source": [
    "## Rolling Windows"
   ],
   "metadata": {
    "collapsed": false
   },
   "id": "c9c144d9dd5cb4c1"
  },
  {
   "cell_type": "code",
   "execution_count": 9,
   "outputs": [],
   "source": [
    "def roll_windows(duration=90,  start_date=None, end_date=None):\n",
    "    # Define the start and end dates\n",
    "    start_date = datetime.date(1980, 1, 1) if start_date is None else start_date\n",
    "    end_date = datetime.date(2022, 7, 1) if end_date is None else end_date\n",
    "    \n",
    "    start = start_date + pd.to_timedelta(duration/2, 'D')\n",
    "    end = end_date - pd.to_timedelta(duration/2, 'D')\n",
    "    return [(mid - pd.to_timedelta(duration//2, 'D'), mid + pd.to_timedelta(duration//2, 'D')) for mid in pd.date_range(start, end, freq='D')]"
   ],
   "metadata": {
    "collapsed": false,
    "ExecuteTime": {
     "end_time": "2024-04-15T09:13:54.199879Z",
     "start_time": "2024-04-15T09:13:54.186880Z"
    }
   },
   "id": "d719cabbead45107"
  },
  {
   "cell_type": "code",
   "execution_count": 10,
   "outputs": [
    {
     "data": {
      "text/plain": "15616"
     },
     "execution_count": 10,
     "metadata": {},
     "output_type": "execute_result"
    }
   ],
   "source": [
    "windows = roll_windows(90, start_date=datetime.date(1980, 1, 1), end_date=datetime.date(2022, 12, 31))\n",
    "len(windows)"
   ],
   "metadata": {
    "collapsed": false,
    "ExecuteTime": {
     "end_time": "2024-04-15T09:13:54.849862Z",
     "start_time": "2024-04-15T09:13:54.614857Z"
    }
   },
   "id": "46a44323cfea3bf2"
  },
  {
   "cell_type": "code",
   "execution_count": 93,
   "outputs": [],
   "source": [
    "# If change this, remember to re-generate all the max_values (regenerate=True)\n",
    "coefficients = [\n",
    "    # (\"m1p0\", \"m3p0\"), \n",
    "    (\"m0p5\", \"m1p5\"), \n",
    "    (\"0p5\", \"m1p5\"), \n",
    "    (\"0p5\", \"1p0\"),\n",
    "    (\"1p0\", \"3p0\"),\n",
    "]\n",
    "\n",
    "df_maxs = []"
   ],
   "metadata": {
    "collapsed": false,
    "ExecuteTime": {
     "end_time": "2024-04-15T09:51:22.439803Z",
     "start_time": "2024-04-15T09:51:22.428194Z"
    }
   },
   "id": "f0471ab9f498531c"
  },
  {
   "cell_type": "markdown",
   "source": [
    "## UN"
   ],
   "metadata": {
    "collapsed": false
   },
   "id": "5e9912387f0f9117"
  },
  {
   "cell_type": "code",
   "execution_count": 97,
   "outputs": [],
   "source": [
    "market = \"UN\""
   ],
   "metadata": {
    "collapsed": false,
    "ExecuteTime": {
     "end_time": "2024-04-15T09:52:13.049589Z",
     "start_time": "2024-04-15T09:52:13.031418Z"
    }
   },
   "id": "ffe89d8f67dd767"
  },
  {
   "cell_type": "code",
   "execution_count": 98,
   "outputs": [],
   "source": [
    "regenerate = False\n",
    "for t1_string, t2_string in coefficients:\n",
    "    if not os.path.exists(f'../data/processed/dynamics/{market}_rolling_MFHT_peaks_{t1_string}_{t2_string}_{VOL_LIMIT}.pickle') or regenerate:\n",
    "        print(f\"Generating {market} with thresholds {t1_string}-{t2_string}\")\n",
    "        # Data must be regenerate\n",
    "        df, outcasts = create_dataset([market], windows, t1_string, t2_string)\n",
    "        print(f\"There are {len(outcasts[market])} outcasts\")\n",
    "        # df['thresholds'] = f'{t1_string}_{t2_string}'\n",
    "        df.to_pickle(f'../data/processed/dynamics/{market}_rolling_MFHT_peaks_{t1_string}_{t2_string}_{VOL_LIMIT}.pickle')\n",
    "regenerate = False"
   ],
   "metadata": {
    "collapsed": false,
    "ExecuteTime": {
     "end_time": "2024-04-15T09:52:13.251314Z",
     "start_time": "2024-04-15T09:52:13.233219Z"
    }
   },
   "id": "171d997b92fc2585"
  },
  {
   "cell_type": "code",
   "execution_count": 99,
   "outputs": [
    {
     "name": "stdout",
     "output_type": "stream",
     "text": [
      "(4, 15616)\n",
      "MAX VALUES\n",
      "\tUN -0.5/-1.5: 1989-05-05 00:00:00 - 1989-08-03 00:00:00\n",
      "\tUN 0.5/-1.5: 1989-02-19 00:00:00 - 1989-05-20 00:00:00\n",
      "\tUN 0.5/1.0: 2014-07-13 00:00:00 - 2014-10-11 00:00:00\n",
      "\tUN 1.0/3.0: 1985-02-09 00:00:00 - 1985-05-10 00:00:00\n",
      "MIN VALUES\n",
      "\tUN -0.5/-1.5: 1985-05-02 00:00:00 - 1985-07-31 00:00:00\n",
      "\tUN 0.5/-1.5: 1985-03-22 00:00:00 - 1985-06-20 00:00:00\n",
      "\tUN 0.5/1.0: 2022-06-30 00:00:00 - 2022-09-28 00:00:00\n",
      "\tUN 1.0/3.0: 2022-06-29 00:00:00 - 2022-09-27 00:00:00\n"
     ]
    }
   ],
   "source": [
    "max_values = take_maxs(market, windows, coefficients, regenerate=False)\n",
    "print(max_values.shape)\n",
    "print(\"MAX VALUES\")\n",
    "for coeffs, win in zip(coefficients, np.array(windows)[list(max_values.argmax(axis=1))]):\n",
    "    print(f\"\\t{market} {f.numerify_threshold(coeffs[0])}/{f.numerify_threshold(coeffs[1])}: {win[0]} - {win[1]}\")\n",
    "print(\"MIN VALUES\")\n",
    "for coeffs, win in zip(coefficients, np.array(windows)[list(max_values.argmin(axis=1))]):\n",
    "    print(f\"\\t{market} {f.numerify_threshold(coeffs[0])}/{f.numerify_threshold(coeffs[1])}: {win[0]} - {win[1]}\")\n",
    "    \n",
    "maxs = np.array(windows)[max_values.argmax(axis=1)]\n",
    "mins = np.array(windows)[max_values.argmin(axis=1)]\n",
    "for i in range(len(maxs)):\n",
    "    row = {\n",
    "        'market': market,\n",
    "        'thresholds': f'{coefficients[i][0]}_{coefficients[i][1]}',\n",
    "        'start_max': maxs[i][0],\n",
    "        'end_max': maxs[i][1],\n",
    "        'start_min': mins[i][0],\n",
    "        'end_min': mins[i][1],\n",
    "    }\n",
    "    df_maxs.append(row)"
   ],
   "metadata": {
    "collapsed": false,
    "ExecuteTime": {
     "end_time": "2024-04-15T09:52:13.637944Z",
     "start_time": "2024-04-15T09:52:13.471030Z"
    }
   },
   "id": "b07a5fd60f2c9dc4"
  },
  {
   "cell_type": "code",
   "execution_count": 15,
   "outputs": [
    {
     "data": {
      "text/plain": "<Figure size 1200x450 with 8 Axes>",
      "image/png": "[encoded data removed]"
     },
     "metadata": {},
     "output_type": "display_data"
    }
   ],
   "source": [
    "fig, errors = plot_rolling_heatmap(coefficients, windows[:-95], max_values[:, :-95], outcasts if regenerate else None, latex=True, suptitle=market)"
   ],
   "metadata": {
    "collapsed": false,
    "ExecuteTime": {
     "end_time": "2024-04-15T09:14:42.172682Z",
     "start_time": "2024-04-15T09:14:07.695262Z"
    }
   },
   "id": "29aab472b5884f6e"
  },
  {
   "cell_type": "code",
   "execution_count": null,
   "outputs": [],
   "source": [
    "fig.savefig(f'../visualization/dynamics/rolling_windows/{market}_rolling_MFHT_peaks_variousthresholds_{VOL_LIMIT}.png', bbox_inches='tight')\n",
    "fig.savefig(f'../visualization/dynamics/rolling_windows/{market}_rolling_MFHT_peaks_variousthresholds_{VOL_LIMIT}.eps', bbox_inches='tight')\n",
    "fig.savefig(f'../visualization/dynamics/rolling_windows/{market}_rolling_MFHT_peaks_variousthresholds_{VOL_LIMIT}.pdf', bbox_inches='tight')"
   ],
   "metadata": {
    "collapsed": false
   },
   "id": "6089305ab007ab4c"
  },
  {
   "cell_type": "markdown",
   "source": [
    "## UW"
   ],
   "metadata": {
    "collapsed": false
   },
   "id": "5f27b802506f367c"
  },
  {
   "cell_type": "code",
   "execution_count": 100,
   "outputs": [],
   "source": [
    "market = \"UW\""
   ],
   "metadata": {
    "collapsed": false,
    "ExecuteTime": {
     "end_time": "2024-04-15T09:52:16.784140Z",
     "start_time": "2024-04-15T09:52:16.770051Z"
    }
   },
   "id": "86afe12978b29e75"
  },
  {
   "cell_type": "code",
   "execution_count": 101,
   "outputs": [],
   "source": [
    "regenerate = False\n",
    "for t1_string, t2_string in coefficients:\n",
    "    if not os.path.exists(f'../data/processed/dynamics/{market}_rolling_MFHT_peaks_{t1_string}_{t2_string}_{VOL_LIMIT}.pickle') or regenerate:\n",
    "        print(f\"Generating {market} with thresholds {t1_string}-{t2_string}\")\n",
    "        # Data must be regenerate\n",
    "        df, outcasts = create_dataset([market], windows, t1_string, t2_string)\n",
    "        print(f\"There are {len(outcasts[market])} outcasts\")\n",
    "        # df['thresholds'] = f'{t1_string}_{t2_string}'\n",
    "        df.to_pickle(f'../data/processed/dynamics/{market}_rolling_MFHT_peaks_{t1_string}_{t2_string}_{VOL_LIMIT}.pickle')\n",
    "regenerate = False"
   ],
   "metadata": {
    "collapsed": false,
    "ExecuteTime": {
     "end_time": "2024-04-15T09:52:17.094148Z",
     "start_time": "2024-04-15T09:52:17.087148Z"
    }
   },
   "id": "3ad87a51740a2560"
  },
  {
   "cell_type": "code",
   "execution_count": 102,
   "outputs": [
    {
     "name": "stdout",
     "output_type": "stream",
     "text": [
      "(4, 15616)\n",
      "MAX VALUES\n",
      "\tUW -0.5/-1.5: 1986-03-21 00:00:00 - 1986-06-19 00:00:00\n",
      "\tUW 0.5/-1.5: 2005-07-10 00:00:00 - 2005-10-08 00:00:00\n",
      "\tUW 0.5/1.0: 1983-06-18 00:00:00 - 1983-09-16 00:00:00\n",
      "\tUW 1.0/3.0: 1983-12-15 00:00:00 - 1984-03-14 00:00:00\n",
      "MIN VALUES\n",
      "\tUW -0.5/-1.5: 1980-01-01 00:00:00 - 1980-03-31 00:00:00\n",
      "\tUW 0.5/-1.5: 1980-01-01 00:00:00 - 1980-03-31 00:00:00\n",
      "\tUW 0.5/1.0: 1980-01-01 00:00:00 - 1980-03-31 00:00:00\n",
      "\tUW 1.0/3.0: 1980-01-01 00:00:00 - 1980-03-31 00:00:00\n"
     ]
    }
   ],
   "source": [
    "max_values = take_maxs(market, windows, coefficients, regenerate=False)\n",
    "print(max_values.shape)\n",
    "print(\"MAX VALUES\")\n",
    "for coeffs, win in zip(coefficients, np.array(windows)[list(max_values.argmax(axis=1))]):\n",
    "    print(f\"\\t{market} {f.numerify_threshold(coeffs[0])}/{f.numerify_threshold(coeffs[1])}: {win[0]} - {win[1]}\")\n",
    "print(\"MIN VALUES\")\n",
    "for coeffs, win in zip(coefficients, np.array(windows)[list(max_values.argmin(axis=1))]):\n",
    "    print(f\"\\t{market} {f.numerify_threshold(coeffs[0])}/{f.numerify_threshold(coeffs[1])}: {win[0]} - {win[1]}\")\n",
    "    \n",
    "maxs = np.array(windows)[max_values.argmax(axis=1)]\n",
    "mins = np.array(windows)[max_values.argmin(axis=1)]\n",
    "for i in range(len(maxs)):\n",
    "    row = {\n",
    "        'market': market,\n",
    "        'thresholds': f'{coefficients[i][0]}_{coefficients[i][1]}',\n",
    "        'start_max': maxs[i][0],\n",
    "        'end_max': maxs[i][1],\n",
    "        'start_min': mins[i][0],\n",
    "        'end_min': mins[i][1],\n",
    "    }\n",
    "    df_maxs.append(row)"
   ],
   "metadata": {
    "collapsed": false,
    "ExecuteTime": {
     "end_time": "2024-04-15T09:52:17.786005Z",
     "start_time": "2024-04-15T09:52:17.615293Z"
    }
   },
   "id": "32f1cb4bb3d8e0e8"
  },
  {
   "cell_type": "code",
   "execution_count": 46,
   "outputs": [
    {
     "data": {
      "text/plain": "<Figure size 1200x450 with 8 Axes>",
      "image/png": "[encoded data removed]"
     },
     "metadata": {},
     "output_type": "display_data"
    }
   ],
   "source": [
    "fig, errors = plot_rolling_heatmap(coefficients, windows[:-95], max_values[:, :-95], outcasts if regenerate else None, latex=True, suptitle=market)"
   ],
   "metadata": {
    "collapsed": false,
    "ExecuteTime": {
     "end_time": "2024-04-15T09:24:22.434551Z",
     "start_time": "2024-04-15T09:24:16.941554Z"
    }
   },
   "id": "26db685be3471f49"
  },
  {
   "cell_type": "code",
   "execution_count": null,
   "outputs": [],
   "source": [
    "fig.savefig(f'../visualization/dynamics/rolling_windows/{market}_rolling_MFHT_peaks_variousthresholds_{VOL_LIMIT}.png', bbox_inches='tight')\n",
    "fig.savefig(f'../visualization/dynamics/rolling_windows/{market}_rolling_MFHT_peaks_variousthresholds_{VOL_LIMIT}.eps', bbox_inches='tight')\n",
    "fig.savefig(f'../visualization/dynamics/rolling_windows/{market}_rolling_MFHT_peaks_variousthresholds_{VOL_LIMIT}.pdf', bbox_inches='tight')"
   ],
   "metadata": {
    "collapsed": false
   },
   "id": "32615f7c76a4eed6"
  },
  {
   "cell_type": "markdown",
   "source": [
    "## LN"
   ],
   "metadata": {
    "collapsed": false
   },
   "id": "fc7d086929334459"
  },
  {
   "cell_type": "code",
   "execution_count": 103,
   "outputs": [],
   "source": [
    "market = \"LN\""
   ],
   "metadata": {
    "collapsed": false,
    "ExecuteTime": {
     "end_time": "2024-04-15T09:52:20.549431Z",
     "start_time": "2024-04-15T09:52:20.543409Z"
    }
   },
   "id": "20f94c651cfe135"
  },
  {
   "cell_type": "code",
   "execution_count": 104,
   "outputs": [],
   "source": [
    "regenerate = False\n",
    "for t1_string, t2_string in coefficients:\n",
    "        df = pd.DataFrame()\n",
    "        if not os.path.exists(f'../data/processed/dynamics/{market}_rolling_MFHT_peaks_{t1_string}_{t2_string}_{VOL_LIMIT}.pickle') or regenerate:\n",
    "            print(f\"Generating {market} with thresholds {t1_string}-{t2_string}\")\n",
    "            # Data must be regenerate\n",
    "            df, outcasts = create_dataset([market], windows, t1_string, t2_string)\n",
    "            print(f\"There are {len(outcasts[market])} outcasts\")\n",
    "            # df['thresholds'] = f'{t1_string}_{t2_string}'\n",
    "            df.to_pickle(f'../data/processed/dynamics/{market}_rolling_MFHT_peaks_{t1_string}_{t2_string}_{VOL_LIMIT}.pickle')\n",
    "regenerate = False"
   ],
   "metadata": {
    "collapsed": false,
    "ExecuteTime": {
     "end_time": "2024-04-15T09:52:20.767946Z",
     "start_time": "2024-04-15T09:52:20.758432Z"
    }
   },
   "id": "6c546b5faa12301d"
  },
  {
   "cell_type": "code",
   "execution_count": 105,
   "outputs": [
    {
     "name": "stdout",
     "output_type": "stream",
     "text": [
      "MAX VALUES\n",
      "\tLN -0.5/-1.5: 1993-08-25 00:00:00 - 1993-11-23 00:00:00\n",
      "\tLN 0.5/-1.5: 1993-09-12 00:00:00 - 1993-12-11 00:00:00\n",
      "\tLN 0.5/1.0: 1994-04-22 00:00:00 - 1994-07-21 00:00:00\n",
      "\tLN 1.0/3.0: 1989-12-29 00:00:00 - 1990-03-29 00:00:00\n",
      "MIN VALUES\n",
      "\tLN -0.5/-1.5: 1980-01-01 00:00:00 - 1980-03-31 00:00:00\n",
      "\tLN 0.5/-1.5: 1980-01-01 00:00:00 - 1980-03-31 00:00:00\n",
      "\tLN 0.5/1.0: 1980-01-01 00:00:00 - 1980-03-31 00:00:00\n",
      "\tLN 1.0/3.0: 1980-01-01 00:00:00 - 1980-03-31 00:00:00\n"
     ]
    }
   ],
   "source": [
    "max_values = take_maxs(market, windows, coefficients, regenerate=False)\n",
    "print(\"MAX VALUES\")\n",
    "for coeffs, win in zip(coefficients, np.array(windows)[list(max_values.argmax(axis=1))]):\n",
    "    print(f\"\\t{market} {f.numerify_threshold(coeffs[0])}/{f.numerify_threshold(coeffs[1])}: {win[0]} - {win[1]}\")\n",
    "print(\"MIN VALUES\")\n",
    "for coeffs, win in zip(coefficients, np.array(windows)[list(max_values.argmin(axis=1))]):\n",
    "    print(f\"\\t{market} {f.numerify_threshold(coeffs[0])}/{f.numerify_threshold(coeffs[1])}: {win[0]} - {win[1]}\")\n",
    "\n",
    "maxs = np.array(windows)[max_values.argmax(axis=1)]\n",
    "mins = np.array(windows)[max_values.argmin(axis=1)]\n",
    "for i in range(len(maxs)):\n",
    "    row = {\n",
    "        'market': market,\n",
    "        'thresholds': f'{coefficients[i][0]}_{coefficients[i][1]}',\n",
    "        'start_max': maxs[i][0],\n",
    "        'end_max': maxs[i][1],\n",
    "        'start_min': mins[i][0],\n",
    "        'end_min': mins[i][1],\n",
    "    }\n",
    "    df_maxs.append(row)"
   ],
   "metadata": {
    "collapsed": false,
    "ExecuteTime": {
     "end_time": "2024-04-15T09:52:21.314267Z",
     "start_time": "2024-04-15T09:52:21.143054Z"
    }
   },
   "id": "bf5b2c03da661406"
  },
  {
   "cell_type": "code",
   "execution_count": null,
   "outputs": [],
   "source": [
    "fig, errors = plot_rolling_heatmap(coefficients, windows[:-95], max_values[:, :-95], outcasts if regenerate else None, latex=True, suptitle=market)"
   ],
   "metadata": {
    "collapsed": false
   },
   "id": "c4e4e83e8279cce0"
  },
  {
   "cell_type": "code",
   "execution_count": null,
   "outputs": [],
   "source": [
    "fig.savefig(f'../visualization/dynamics/rolling_windows/{market}_rolling_MFHT_peaks_variousthresholds_{VOL_LIMIT}.png', bbox_inches='tight')\n",
    "fig.savefig(f'../visualization/dynamics/rolling_windows/{market}_rolling_MFHT_peaks_variousthresholds_{VOL_LIMIT}.eps', bbox_inches='tight')\n",
    "fig.savefig(f'../visualization/dynamics/rolling_windows/{market}_rolling_MFHT_peaks_variousthresholds_{VOL_LIMIT}.pdf', bbox_inches='tight')"
   ],
   "metadata": {
    "collapsed": false
   },
   "id": "d59577316afd5e18"
  },
  {
   "cell_type": "markdown",
   "source": [
    "## JT"
   ],
   "metadata": {
    "collapsed": false
   },
   "id": "7785b7c49f57db61"
  },
  {
   "cell_type": "code",
   "execution_count": 106,
   "outputs": [],
   "source": [
    "market = \"JT\""
   ],
   "metadata": {
    "collapsed": false,
    "ExecuteTime": {
     "end_time": "2024-04-15T09:52:24.240164Z",
     "start_time": "2024-04-15T09:52:24.232142Z"
    }
   },
   "id": "3a179d57a393c748"
  },
  {
   "cell_type": "code",
   "execution_count": 107,
   "outputs": [],
   "source": [
    "regenerate = False\n",
    "for t1_string, t2_string in coefficients:\n",
    "    df = pd.DataFrame()\n",
    "    if not os.path.exists(f'../data/processed/dynamics/{market}_rolling_MFHT_peaks_{t1_string}_{t2_string}_{VOL_LIMIT}.pickle') or regenerate:\n",
    "        print(f\"Generating {market} with thresholds {t1_string}-{t2_string}\")\n",
    "        # Data must be regenerate\n",
    "        df, outcasts = create_dataset([market], windows, t1_string, t2_string)\n",
    "        print(f\"There are {len(outcasts[market])} outcasts\")\n",
    "        # df['thresholds'] = f'{t1_string}_{t2_string}'\n",
    "        df.to_pickle(f'../data/processed/dynamics/{market}_rolling_MFHT_peaks_{t1_string}_{t2_string}_{VOL_LIMIT}.pickle')\n",
    "regenerate = False"
   ],
   "metadata": {
    "collapsed": false,
    "ExecuteTime": {
     "end_time": "2024-04-15T09:52:24.424358Z",
     "start_time": "2024-04-15T09:52:24.413465Z"
    }
   },
   "id": "716433c105fa3593"
  },
  {
   "cell_type": "code",
   "execution_count": 108,
   "outputs": [
    {
     "name": "stdout",
     "output_type": "stream",
     "text": [
      "MAX VALUES\n",
      "\tJT -0.5/-1.5: 1981-10-17 00:00:00 - 1982-01-15 00:00:00\n",
      "\tJT 0.5/-1.5: 1989-03-10 00:00:00 - 1989-06-08 00:00:00\n",
      "\tJT 0.5/1.0: 1994-07-23 00:00:00 - 1994-10-21 00:00:00\n",
      "\tJT 1.0/3.0: 1982-07-09 00:00:00 - 1982-10-07 00:00:00\n",
      "MIN VALUES\n",
      "\tJT -0.5/-1.5: 1981-10-21 00:00:00 - 1982-01-19 00:00:00\n",
      "\tJT 0.5/-1.5: 1981-10-22 00:00:00 - 1982-01-20 00:00:00\n",
      "\tJT 0.5/1.0: 2022-06-29 00:00:00 - 2022-09-27 00:00:00\n",
      "\tJT 1.0/3.0: 2022-06-25 00:00:00 - 2022-09-23 00:00:00\n"
     ]
    }
   ],
   "source": [
    "max_values = take_maxs(market, windows, coefficients, regenerate=False)\n",
    "print(\"MAX VALUES\")\n",
    "for coeffs, win in zip(coefficients, np.array(windows)[list(max_values.argmax(axis=1))]):\n",
    "    print(f\"\\t{market} {f.numerify_threshold(coeffs[0])}/{f.numerify_threshold(coeffs[1])}: {win[0]} - {win[1]}\")\n",
    "print(\"MIN VALUES\")\n",
    "for coeffs, win in zip(coefficients, np.array(windows)[list(max_values.argmin(axis=1))]):\n",
    "    print(f\"\\t{market} {f.numerify_threshold(coeffs[0])}/{f.numerify_threshold(coeffs[1])}: {win[0]} - {win[1]}\")\n",
    "        \n",
    "maxs = np.array(windows)[max_values.argmax(axis=1)]\n",
    "mins = np.array(windows)[max_values.argmin(axis=1)]\n",
    "for i in range(len(maxs)):\n",
    "    row = {\n",
    "        'market': market,\n",
    "        'thresholds': f'{coefficients[i][0]}_{coefficients[i][1]}',\n",
    "        'start_max': maxs[i][0],\n",
    "        'end_max': maxs[i][1],\n",
    "        'start_min': mins[i][0],\n",
    "        'end_min': mins[i][1],\n",
    "    }\n",
    "    df_maxs.append(row)"
   ],
   "metadata": {
    "collapsed": false,
    "ExecuteTime": {
     "end_time": "2024-04-15T09:52:25.298116Z",
     "start_time": "2024-04-15T09:52:25.136534Z"
    }
   },
   "id": "3519682d41252120"
  },
  {
   "cell_type": "code",
   "execution_count": 42,
   "outputs": [
    {
     "data": {
      "text/plain": "<Figure size 1200x450 with 8 Axes>",
      "image/png": "[encoded data removed]"
     },
     "metadata": {},
     "output_type": "display_data"
    }
   ],
   "source": [
    "fig, errors = plot_rolling_heatmap(coefficients, windows[:-95], max_values[:, :-95], outcasts if regenerate else None, latex=True, suptitle=market)"
   ],
   "metadata": {
    "collapsed": false,
    "ExecuteTime": {
     "end_time": "2024-04-15T09:24:16.860553Z",
     "start_time": "2024-04-15T09:24:05.226945Z"
    }
   },
   "id": "2f8f9d3bc9d956bf"
  },
  {
   "cell_type": "code",
   "execution_count": null,
   "outputs": [],
   "source": [
    "fig.savefig(f'../visualization/dynamics/rolling_windows/{market}_rolling_MFHT_peaks_variousthresholds_{VOL_LIMIT}.png', bbox_inches='tight')\n",
    "fig.savefig(f'../visualization/dynamics/rolling_windows/{market}_rolling_MFHT_peaks_variousthresholds_{VOL_LIMIT}.eps', bbox_inches='tight') \n",
    "fig.savefig(f'../visualization/dynamics/rolling_windows/{market}_rolling_MFHT_peaks_variousthresholds_{VOL_LIMIT}.pdf', bbox_inches='tight')"
   ],
   "metadata": {
    "collapsed": false
   },
   "id": "24f6f7ae22eb0cff"
  },
  {
   "cell_type": "markdown",
   "source": [
    "## Save the Most-Stable and Less-Stable Windows\n",
    "### for every Market and every Coefficient"
   ],
   "metadata": {
    "collapsed": false
   },
   "id": "d005bf8ebbb03616"
  },
  {
   "cell_type": "code",
   "execution_count": 112,
   "outputs": [],
   "source": [
    "df_maxs = pd.DataFrame(df_maxs)\n",
    "df_maxs.to_csv(f'../data/processed/dynamics/maxvalues_rolling_MFHT_peaks_variousthresholds_{VOL_LIMIT}.csv', index=False)"
   ],
   "metadata": {
    "collapsed": false,
    "ExecuteTime": {
     "end_time": "2024-04-15T09:54:32.675093Z",
     "start_time": "2024-04-15T09:54:32.661314Z"
    }
   },
   "id": "9b44ce8d0a12387e"
  },
  {
   "cell_type": "code",
   "outputs": [],
   "source": [],
   "metadata": {
    "collapsed": false
   },
   "id": "a9094d40bf7c3961"
  }
 ],
 "metadata": {
  "kernelspec": {
   "display_name": "Python 3",
   "language": "python",
   "name": "python3"
  },
  "language_info": {
   "codemirror_mode": {
    "name": "ipython",
    "version": 2
   },
   "file_extension": ".py",
   "mimetype": "text/x-python",
   "name": "python",
   "nbconvert_exporter": "python",
   "pygments_lexer": "ipython2",
   "version": "2.7.6"
  }
 },
 "nbformat": 4,
 "nbformat_minor": 5
}
