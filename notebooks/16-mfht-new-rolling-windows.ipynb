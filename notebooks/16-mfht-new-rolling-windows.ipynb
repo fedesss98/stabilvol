{
 "cells": [
  {
   "cell_type": "markdown",
   "source": [
    "# MFHT Rolling Windows Plot"
   ],
   "metadata": {
    "collapsed": false
   },
   "id": "c44dddebf3abc6cc"
  },
  {
   "cell_type": "code",
   "execution_count": 1,
   "outputs": [],
   "source": [
    "import sqlite3\n",
    "\n",
    "import matplotlib.pyplot as plt\n",
    "import pandas as pd\n",
    "import numpy as np\n",
    "from tqdm import tqdm\n",
    "import datetime\n",
    "\n",
    "from stabilvol.utility import functions as f\n",
    "\n",
    "DATABASE = '../data/processed/trapezoidal_selection/stabilvol.sqlite'\n",
    "# Connect to the SQLite database\n",
    "conn = sqlite3.connect(DATABASE)\n",
    "cur = conn.cursor()"
   ],
   "metadata": {
    "collapsed": false,
    "ExecuteTime": {
     "end_time": "2024-04-24T07:59:27.187840Z",
     "start_time": "2024-04-24T07:59:27.062308Z"
    }
   },
   "id": "d1674e86e0f257dc"
  },
  {
   "cell_type": "code",
   "execution_count": 2,
   "outputs": [
    {
     "name": "stdout",
     "output_type": "stream",
     "text": [
      "G:\\UNIPA\\ECONOFISICA\\stabilizing_volatility\\notebooks\n"
     ]
    },
    {
     "data": {
      "text/plain": "True"
     },
     "execution_count": 2,
     "metadata": {},
     "output_type": "execute_result"
    }
   ],
   "source": [
    "import os\n",
    "print(os.getcwd())\n",
    "os.path.exists(DATABASE)"
   ],
   "metadata": {
    "collapsed": false,
    "ExecuteTime": {
     "end_time": "2024-04-24T07:59:27.202917Z",
     "start_time": "2024-04-24T07:59:27.188832Z"
    }
   },
   "id": "862facc766c4eaa8"
  },
  {
   "cell_type": "code",
   "execution_count": 3,
   "outputs": [],
   "source": [
    "MARKETS = [\"UN\", \"UW\", \"LN\", \"JT\"]\n",
    "START_DATE = \"1980-01-01\"\n",
    "END_DATE = \"2022-07-01\"\n",
    "\n",
    "START_LEVELS = [-2.0, -1.0, -0.5, -0.2, -0.1, 0.1, 0.2, 0.5, 1.0, 2.0]\n",
    "DELTAS = [2.0, 1.0, 0.5, 0.2, 0.1, -0.1, -0.2, -0.5, -1.0, -2.0]\n",
    "LEVELS = {\n",
    "    (start, round(start+delta, 2)) for start in START_LEVELS for delta in DELTAS\n",
    "}\n",
    "LEVELS = sorted(LEVELS)\n",
    "\n",
    "VOL_LIMIT= 0.5  # Change this will change all the pickle files, remember to re-generate them"
   ],
   "metadata": {
    "collapsed": false,
    "ExecuteTime": {
     "end_time": "2024-04-24T07:59:27.218840Z",
     "start_time": "2024-04-24T07:59:27.203832Z"
    }
   },
   "id": "82bc80ada8b46388"
  },
  {
   "cell_type": "code",
   "execution_count": 4,
   "outputs": [],
   "source": [
    "def select_bins(df, max_n=1000):\n",
    "    nbins = 25\n",
    "    \n",
    "    while True:\n",
    "        # Use qcut to bin 'Volatility' values\n",
    "        df['Bins'] = pd.qcut(df['Volatility'], nbins, duplicates='drop')\n",
    "        \n",
    "        # Group by the bins and calculate the mean and standard error of 'value'\n",
    "        grouped = df.groupby('Bins')['FHT'].agg(['mean', error_on_the_mean, 'size'])\n",
    "        count = grouped['size'].min()\n",
    "        \n",
    "        if count < max_n or nbins > 1000:\n",
    "            break\n",
    "        else:\n",
    "            nbins += 20\n",
    "    return grouped, nbins\n",
    "\n",
    "def error_on_the_mean(values):\n",
    "    return np.std(values)/np.sqrt(len(values))"
   ],
   "metadata": {
    "collapsed": false,
    "ExecuteTime": {
     "end_time": "2024-04-24T07:59:27.233832Z",
     "start_time": "2024-04-24T07:59:27.219832Z"
    }
   },
   "id": "88d2fb62bcaeaccf"
  },
  {
   "cell_type": "code",
   "execution_count": 5,
   "outputs": [],
   "source": [
    "def query_binned_data(market: str, start_date:str, end_date:str = None, vol_limit:float = 0.5, t1_string:str = \"m0p5\", t2_string:str = \"m1p5\"):\n",
    "    grouped_data = None\n",
    "    end_date = '2023-01-01' if end_date is None else end_date\n",
    "    try:            \n",
    "        # Write the SQL query\n",
    "        query = f'''\n",
    "        SELECT *\n",
    "        FROM stabilvol_{t1_string}_{t2_string}\n",
    "        WHERE Volatility < {vol_limit} \n",
    "        AND Market = \"{market}\"\n",
    "        AND start >= \"{start_date}\"\n",
    "        AND end <= \"{end_date}\"    \n",
    "        '''\n",
    "        # Load the FHT data from the database\n",
    "        df = pd.read_sql_query(query, conn)\n",
    "    except pd.errors.DatabaseError:\n",
    "        print(f'No data for market {market} with thresholds {t1_string}-{t2_string}')\n",
    "        nbins = 0\n",
    "    else:\n",
    "        if len(df) > 50:\n",
    "            return  select_bins(df)\n",
    "        else:\n",
    "            raise ValueError(f'Not enough data for market {market} with thresholds {t1_string}-{t2_string} from {start_date} to {end_date}')"
   ],
   "metadata": {
    "collapsed": false,
    "ExecuteTime": {
     "end_time": "2024-04-24T07:59:27.249835Z",
     "start_time": "2024-04-24T07:59:27.234832Z"
    }
   },
   "id": "2e3d85c019d3aa83"
  },
  {
   "cell_type": "code",
   "execution_count": 6,
   "outputs": [],
   "source": [
    "def create_dataset(markets, windows, t1_string, t2_string):\n",
    "    outcasts = {market: [] for market in markets}\n",
    "    df = pd.DataFrame()\n",
    "    for market in markets:\n",
    "        for start_date, end_date in tqdm(windows, desc=market):\n",
    "            try:\n",
    "                mfht, nbins = query_binned_data(market, start_date, end_date, VOL_LIMIT, t1_string=t1_string, t2_string=t2_string)         \n",
    "            except ValueError:\n",
    "                outcasts[market].append((start_date, end_date))\n",
    "            else:\n",
    "                mfht['start'] = start_date\n",
    "                mfht['end'] = end_date\n",
    "                mfht['market'] = market\n",
    "                df = pd.concat([df, mfht.reset_index()])\n",
    "                \n",
    "    return df, outcasts"
   ],
   "metadata": {
    "collapsed": false,
    "ExecuteTime": {
     "end_time": "2024-04-24T07:59:27.265359Z",
     "start_time": "2024-04-24T07:59:27.251344Z"
    }
   },
   "id": "59184695ac0cefb6"
  },
  {
   "cell_type": "code",
   "execution_count": 11,
   "outputs": [],
   "source": [
    "def take_maxs(market, windows, coefficients, regenerate=False):\n",
    "    if regenerate:  \n",
    "        max_values = np.zeros((len(coefficients), len(windows)))\n",
    "        for i, (t1_string, t2_string) in enumerate(coefficients):\n",
    "            df = pd.read_pickle(f'../data/processed/dynamics/{market}_rolling_MFHT_peaks_{t1_string}_{t2_string}_200bins_{VOL_LIMIT}.pickle')\n",
    "            for j, (start_date, end_date) in tqdm(enumerate(windows), desc=market):\n",
    "                mfht = df[(df['start'] == start_date) & (df['end'] == end_date)]       \n",
    "                if not mfht.empty:            \n",
    "                    max_values[i, j] = mfht['mean'].max()\n",
    "                        \n",
    "        np.save(f'../data/processed/dynamics/{market}_rolling_MFHT_peaks_variousthresholds_{VOL_LIMIT}.npy', max_values)\n",
    "    else:\n",
    "        max_values = np.load(f'../data/processed/dynamics/{market}_rolling_MFHT_peaks_variousthresholds_{VOL_LIMIT}.npy')\n",
    "    return max_values"
   ],
   "metadata": {
    "collapsed": false,
    "ExecuteTime": {
     "end_time": "2024-04-24T08:00:02.680372Z",
     "start_time": "2024-04-24T08:00:02.662368Z"
    }
   },
   "id": "9228e1548d39044e"
  },
  {
   "cell_type": "code",
   "execution_count": 12,
   "outputs": [],
   "source": [
    "def generate_quarters(start_date, end_date, freq='Q'):\n",
    "    # Generate all quarters between start and end date\n",
    "    quarters = list(pd.date_range(start_date, end_date, freq=freq))\n",
    "    if quarters[0].date() > start_date.date():\n",
    "        quarters.insert(0, start_date)\n",
    "    if quarters[-1].date() < end_date.date():\n",
    "        quarters.append(pd.to_datetime(end_date))\n",
    "\n",
    "    return pd.to_datetime(quarters)\n",
    "\n",
    "\n",
    "def add_ticks(ax, windows, coeff, outcasts, highlights=True):\n",
    "    label_dates = [start_date for start_date, end_date in windows]\n",
    "    label_dates.append(windows[-1][1])\n",
    "    label_dates = pd.to_datetime(label_dates)\n",
    "    quarters = generate_quarters(label_dates[0], label_dates[-1], 'Y')\n",
    "    tick_coords = []\n",
    "    for qdate in quarters:\n",
    "        if np.where(label_dates == qdate)[0].size > 0:\n",
    "            tick_coords.append(np.where(label_dates == qdate)[0][0])\n",
    "    ax.set_xticks(tick_coords, labels=[label_dates[j].strftime('%Y-%m-%d') for j in tick_coords], minor=False, \n",
    "                  fontsize=11, rotation=90, rotation_mode='anchor', ha='right', va='center_baseline')\n",
    "    ax.set_title(' '.join([r'$\\theta_i$=', f.numerify_threshold(coeff[0]), r'/ $\\theta_f$=', f.numerify_threshold(coeff[1])]), fontsize=12)\n",
    "    # Remove yticks\n",
    "    ax.yaxis.set_ticks([])\n",
    "    \n",
    "    outcast_dates = [(pd.to_datetime(start), pd.to_datetime(end)) for start, end in outcasts]\n",
    "    for outcast in outcast_dates:\n",
    "        # Find the indices of the start and end labels\n",
    "        start_index = np.where(label_dates <= outcast[0])\n",
    "        # Since only the end date is labeled, if the first start date is an outcast, it must be set manually\n",
    "        start_index = start_index[0][-1] if len(start_index[0]) > 0 else 0\n",
    "        end_index = np.where(label_dates >= outcast[1])[0][0]\n",
    "        ax.axvspan(start_index-0.5, end_index-0.5, color='black')\n",
    "    \n",
    "    if highlights:\n",
    "        # Find the indices of the start and end labels\n",
    "        start_index = np.where(label_dates <= pd.to_datetime('2006-12-31'))[0][-1]\n",
    "        end_index = np.where(label_dates >= pd.to_datetime('2008-12-31'))[0][0]\n",
    "    \n",
    "        # Add vertical lines at the start and end of the region\n",
    "        ax.axvline(start_index, color='k', linestyle='--', linewidth=1.5)\n",
    "        ax.axvline(end_index, color='k', linestyle='--', linewidth=1.5)\n",
    "\n",
    "\n",
    "def plot_rolling_heatmap(coefficients, windows, maxs=None, outcasts=None, **kwargs):\n",
    "    if outcasts is None:\n",
    "        outcasts = {(t1, t2): [] for t1, t2 in coefficients}\n",
    "        search_outcasts = True\n",
    "    else:\n",
    "        search_outcasts = False\n",
    "    if kwargs.get('latex', False):    \n",
    "        # Use LaTeX for text rendering\n",
    "        plt.rcParams['text.usetex'] = True\n",
    "        plt.rcParams['font.family'] = 'serif'\n",
    "    \n",
    "    fig, axs = plt.subplots(len(coefficients), figsize=(12, 4.5), sharex=True)\n",
    "    if kwargs.get('suptitle', None) is not None:\n",
    "        fig.suptitle(kwargs.get('suptitle'), fontsize=16)\n",
    "\n",
    "    max_values = np.zeros((len(coefficients), len(windows))) if maxs is None else maxs\n",
    "    \n",
    "\n",
    "    for i, (coeff, ax) in enumerate(zip(coefficients, axs.flatten())):\n",
    "        for j, (start_date, end_date) in enumerate(windows):\n",
    "            if maxs is None:\n",
    "                data = pd.read_pickle(f'../data/processed/dynamics/{market}_rolling_MFHT_peaks_{coeff[0]}_{coeff[1]}_{VOL_LIMIT}.pickle')\n",
    "                # Calculate the peaks\n",
    "                mfht = data[(data['start'] == start_date) & (data['end'] == end_date)]       \n",
    "                if mfht.empty:            \n",
    "                    outcasts[coeff].append((start_date, end_date))\n",
    "                else:\n",
    "                    max_values[i, j] = mfht['mean'].max()\n",
    "            elif search_outcasts:\n",
    "                # See where the max is zero and label it as outcast\n",
    "                if max_values[i, j] == 0:\n",
    "                    outcasts[coeff].append((start_date, end_date))\n",
    "                \n",
    "\n",
    "        im = ax.imshow(max_values[i].reshape(1, -1), cmap='coolwarm', aspect='auto', vmin=max_values[i].min(), vmax=max_values[i].max())\n",
    "        # Add ticks to the plot\n",
    "        add_ticks(ax, windows, coeff, outcasts[coeff])\n",
    "        # Set the colorbar for each plot showing only maximum and minimum values\n",
    "        cbar = fig.colorbar(im, ax=ax, orientation='vertical', pad=0.01, aspect=8)\n",
    "        cbar.set_ticks([max_values[i].min(), max_values[i].mean(), max_values[i].max()])\n",
    "    \n",
    "    # axs[0].text(0.57, 1.1, '2006-12-31', fontsize=11, transform=axs[0].transAxes, horizontalalignment='left')\n",
    "    # axs[0].text(0.73, 1.1, '2008-12-31', fontsize=11, transform=axs[0].transAxes, horizontalalignment='right')\n",
    "    \n",
    "    fig.tight_layout()\n",
    "    \n",
    "    # Add a colorbar\n",
    "    # cbar = fig.colorbar(im, ax=axs.ravel().tolist(), pad=0.01)\n",
    "    # cbar.set_label('Maximum MFHT', rotation=270, labelpad=15)\n",
    "\n",
    "    plt.show()\n",
    "    return fig, outcasts"
   ],
   "metadata": {
    "collapsed": false,
    "ExecuteTime": {
     "end_time": "2024-04-24T08:00:02.835574Z",
     "start_time": "2024-04-24T08:00:02.815564Z"
    }
   },
   "id": "3ec9a6e2381db5bc"
  },
  {
   "cell_type": "markdown",
   "source": [
    "## Rolling Windows"
   ],
   "metadata": {
    "collapsed": false
   },
   "id": "c9c144d9dd5cb4c1"
  },
  {
   "cell_type": "code",
   "execution_count": 13,
   "outputs": [],
   "source": [
    "def roll_windows(duration=90,  start_date=None, end_date=None):\n",
    "    # Define the start and end dates\n",
    "    start_date = datetime.date(1980, 1, 1) if start_date is None else start_date\n",
    "    end_date = datetime.date(2022, 7, 1) if end_date is None else end_date\n",
    "    \n",
    "    start = start_date + pd.to_timedelta(duration/2, 'D')\n",
    "    end = end_date - pd.to_timedelta(duration/2, 'D')\n",
    "    return [(mid - pd.to_timedelta(duration//2, 'D'), mid + pd.to_timedelta(duration//2, 'D')) for mid in pd.date_range(start, end, freq='D')]"
   ],
   "metadata": {
    "collapsed": false,
    "ExecuteTime": {
     "end_time": "2024-04-24T08:00:03.442423Z",
     "start_time": "2024-04-24T08:00:03.427423Z"
    }
   },
   "id": "d719cabbead45107"
  },
  {
   "cell_type": "code",
   "execution_count": 14,
   "outputs": [
    {
     "data": {
      "text/plain": "15342"
     },
     "execution_count": 14,
     "metadata": {},
     "output_type": "execute_result"
    }
   ],
   "source": [
    "windows = roll_windows(365, start_date=datetime.date(1980, 1, 1), end_date=datetime.date(2022, 12, 31))\n",
    "len(windows)"
   ],
   "metadata": {
    "collapsed": false,
    "ExecuteTime": {
     "end_time": "2024-04-24T08:00:03.940074Z",
     "start_time": "2024-04-24T08:00:03.686495Z"
    }
   },
   "id": "46a44323cfea3bf2"
  },
  {
   "cell_type": "code",
   "execution_count": 15,
   "outputs": [],
   "source": [
    "# If change this, remember to re-generate all the max_values (regenerate=True)\n",
    "coefficients = [\n",
    "    # (\"m1p0\", \"m3p0\"), \n",
    "    # (\"m0p5\", \"m1p5\"), \n",
    "    # (\"0p5\", \"m1p5\"), \n",
    "    # (\"0p5\", \"1p0\"),\n",
    "    # (\"1p0\", \"3p0\"),\n",
    "    (\"0p5\", \"1p5\"),\n",
    "]\n",
    "\n",
    "df_maxs = []"
   ],
   "metadata": {
    "collapsed": false,
    "ExecuteTime": {
     "end_time": "2024-04-24T08:00:04.250198Z",
     "start_time": "2024-04-24T08:00:04.232198Z"
    }
   },
   "id": "f0471ab9f498531c"
  },
  {
   "cell_type": "markdown",
   "source": [
    "## UN"
   ],
   "metadata": {
    "collapsed": false
   },
   "id": "5e9912387f0f9117"
  },
  {
   "cell_type": "code",
   "execution_count": 16,
   "outputs": [],
   "source": [
    "market = \"UN\""
   ],
   "metadata": {
    "collapsed": false,
    "ExecuteTime": {
     "end_time": "2024-04-24T08:00:06.819309Z",
     "start_time": "2024-04-24T08:00:06.816309Z"
    }
   },
   "id": "ffe89d8f67dd767"
  },
  {
   "cell_type": "code",
   "execution_count": 17,
   "outputs": [],
   "source": [
    "regenerate = False\n",
    "for t1_string, t2_string in coefficients:\n",
    "    filepath = f'../data/processed/dynamics/{market}_rolling_MFHT_peaks_{t1_string}_{t2_string}_200bins_{VOL_LIMIT}.pickle'\n",
    "    if not os.path.exists(filepath) or regenerate:\n",
    "        print(f\"Generating {market} with thresholds {t1_string}-{t2_string}\")\n",
    "        # Data must be regenerate\n",
    "        df, outcasts = create_dataset([market], windows, t1_string, t2_string)\n",
    "        print(f\"There are {len(outcasts[market])} outcasts\")\n",
    "        # df['thresholds'] = f'{t1_string}_{t2_string}'\n",
    "        df.to_pickle(f'../data/processed/dynamics/{market}_rolling_MFHT_peaks_{t1_string}_{t2_string}_{VOL_LIMIT}.pickle')\n",
    "regenerate = False"
   ],
   "metadata": {
    "collapsed": false,
    "ExecuteTime": {
     "end_time": "2024-04-24T08:00:07.628882Z",
     "start_time": "2024-04-24T08:00:07.613875Z"
    }
   },
   "id": "171d997b92fc2585"
  },
  {
   "cell_type": "code",
   "execution_count": 21,
   "outputs": [
    {
     "name": "stdout",
     "output_type": "stream",
     "text": [
      "(1, 15342)\n",
      "MAX VALUES\n",
      "\tUN 0.5/1.5: 1988-06-22 00:00:00 - 1989-06-21 00:00:00\n",
      "MIN VALUES\n",
      "\tUN 0.5/1.5: 2021-07-03 00:00:00 - 2022-07-02 00:00:00\n"
     ]
    },
    {
     "data": {
      "text/plain": "array([[10.4       ,  9.97142857,  9.72222222, ...,  0.        ,\n         0.        ,  0.        ]])"
     },
     "execution_count": 21,
     "metadata": {},
     "output_type": "execute_result"
    }
   ],
   "source": [
    "max_values = take_maxs(market, windows, coefficients, regenerate=False)\n",
    "print(max_values.shape)\n",
    "print(\"MAX VALUES\")\n",
    "for coeffs, win in zip(coefficients, np.array(windows)[list(max_values.argmax(axis=1))]):\n",
    "    print(f\"\\t{market} {f.numerify_threshold(coeffs[0])}/{f.numerify_threshold(coeffs[1])}: {win[0]} - {win[1]}\")\n",
    "print(\"MIN VALUES\")\n",
    "for coeffs, win in zip(coefficients, np.array(windows)[list(max_values.argmin(axis=1))]):\n",
    "    print(f\"\\t{market} {f.numerify_threshold(coeffs[0])}/{f.numerify_threshold(coeffs[1])}: {win[0]} - {win[1]}\")\n",
    "    \n",
    "maxs = np.array(windows)[max_values.argmax(axis=1)]\n",
    "mins = np.array(windows)[max_values.argmin(axis=1)]\n",
    "for i in range(len(maxs)):\n",
    "    row = {\n",
    "        'market': market,\n",
    "        'thresholds': f'{coefficients[i][0]}_{coefficients[i][1]}',\n",
    "        'start_max': maxs[i][0],\n",
    "        'end_max': maxs[i][1],\n",
    "        'start_min': mins[i][0],\n",
    "        'end_min': mins[i][1],\n",
    "    }\n",
    "    df_maxs.append(row)\n",
    "\n",
    "max_values"
   ],
   "metadata": {
    "collapsed": false,
    "ExecuteTime": {
     "end_time": "2024-04-24T08:02:50.248314Z",
     "start_time": "2024-04-24T08:02:50.081288Z"
    }
   },
   "id": "b07a5fd60f2c9dc4"
  },
  {
   "cell_type": "code",
   "execution_count": 24,
   "outputs": [
    {
     "ename": "AttributeError",
     "evalue": "'Axes' object has no attribute 'flatten'",
     "output_type": "error",
     "traceback": [
      "\u001B[1;31m---------------------------------------------------------------------------\u001B[0m",
      "\u001B[1;31mAttributeError\u001B[0m                            Traceback (most recent call last)",
      "Cell \u001B[1;32mIn [24], line 1\u001B[0m\n\u001B[1;32m----> 1\u001B[0m fig, errors \u001B[38;5;241m=\u001B[39m \u001B[43mplot_rolling_heatmap\u001B[49m\u001B[43m(\u001B[49m\u001B[43mcoefficients\u001B[49m\u001B[43m,\u001B[49m\u001B[43m \u001B[49m\u001B[43mwindows\u001B[49m\u001B[43m[\u001B[49m\u001B[43m:\u001B[49m\u001B[38;5;241;43m-\u001B[39;49m\u001B[38;5;241;43m95\u001B[39;49m\u001B[43m]\u001B[49m\u001B[43m,\u001B[49m\u001B[43m \u001B[49m\u001B[43mmax_values\u001B[49m\u001B[43m[\u001B[49m\u001B[43m:\u001B[49m\u001B[43m,\u001B[49m\u001B[43m \u001B[49m\u001B[43m:\u001B[49m\u001B[38;5;241;43m-\u001B[39;49m\u001B[38;5;241;43m95\u001B[39;49m\u001B[43m]\u001B[49m\u001B[43m,\u001B[49m\u001B[43m \u001B[49m\u001B[43moutcasts\u001B[49m\u001B[43m \u001B[49m\u001B[38;5;28;43;01mif\u001B[39;49;00m\u001B[43m \u001B[49m\u001B[43mregenerate\u001B[49m\u001B[43m \u001B[49m\u001B[38;5;28;43;01melse\u001B[39;49;00m\u001B[43m \u001B[49m\u001B[38;5;28;43;01mNone\u001B[39;49;00m\u001B[43m,\u001B[49m\u001B[43m \u001B[49m\u001B[43mlatex\u001B[49m\u001B[38;5;241;43m=\u001B[39;49m\u001B[38;5;28;43;01mTrue\u001B[39;49;00m\u001B[43m,\u001B[49m\u001B[43m \u001B[49m\u001B[43msuptitle\u001B[49m\u001B[38;5;241;43m=\u001B[39;49m\u001B[43mmarket\u001B[49m\u001B[43m)\u001B[49m\n",
      "Cell \u001B[1;32mIn [8], line 64\u001B[0m, in \u001B[0;36mplot_rolling_heatmap\u001B[1;34m(coefficients, windows, maxs, outcasts, **kwargs)\u001B[0m\n\u001B[0;32m     59\u001B[0m     fig\u001B[38;5;241m.\u001B[39msuptitle(kwargs\u001B[38;5;241m.\u001B[39mget(\u001B[38;5;124m'\u001B[39m\u001B[38;5;124msuptitle\u001B[39m\u001B[38;5;124m'\u001B[39m), fontsize\u001B[38;5;241m=\u001B[39m\u001B[38;5;241m16\u001B[39m)\n\u001B[0;32m     61\u001B[0m max_values \u001B[38;5;241m=\u001B[39m np\u001B[38;5;241m.\u001B[39mzeros((\u001B[38;5;28mlen\u001B[39m(coefficients), \u001B[38;5;28mlen\u001B[39m(windows))) \u001B[38;5;28;01mif\u001B[39;00m maxs \u001B[38;5;129;01mis\u001B[39;00m \u001B[38;5;28;01mNone\u001B[39;00m \u001B[38;5;28;01melse\u001B[39;00m maxs\n\u001B[1;32m---> 64\u001B[0m \u001B[38;5;28;01mfor\u001B[39;00m i, (coeff, ax) \u001B[38;5;129;01min\u001B[39;00m \u001B[38;5;28menumerate\u001B[39m(\u001B[38;5;28mzip\u001B[39m(coefficients, \u001B[43maxs\u001B[49m\u001B[38;5;241;43m.\u001B[39;49m\u001B[43mflatten\u001B[49m())):\n\u001B[0;32m     65\u001B[0m     \u001B[38;5;28;01mfor\u001B[39;00m j, (start_date, end_date) \u001B[38;5;129;01min\u001B[39;00m \u001B[38;5;28menumerate\u001B[39m(windows):\n\u001B[0;32m     66\u001B[0m         \u001B[38;5;28;01mif\u001B[39;00m maxs \u001B[38;5;129;01mis\u001B[39;00m \u001B[38;5;28;01mNone\u001B[39;00m:\n",
      "\u001B[1;31mAttributeError\u001B[0m: 'Axes' object has no attribute 'flatten'"
     ]
    },
    {
     "data": {
      "text/plain": "<Figure size 1200x450 with 1 Axes>",
      "image/png": "[encoded data removed]"
     },
     "metadata": {},
     "output_type": "display_data"
    }
   ],
   "source": [
    "fig, errors = plot_rolling_heatmap(coefficients, windows[:-95], max_values[:, :-95], outcasts if regenerate else None, latex=True, suptitle=market)"
   ],
   "metadata": {
    "collapsed": false,
    "ExecuteTime": {
     "end_time": "2024-04-15T14:55:14.169210Z",
     "start_time": "2024-04-15T14:55:13.223469Z"
    }
   },
   "id": "29aab472b5884f6e"
  },
  {
   "cell_type": "code",
   "execution_count": null,
   "outputs": [],
   "source": [
    "fig.savefig(f'../visualization/dynamics/rolling_windows/{market}_rolling_MFHT_peaks_variousthresholds_{VOL_LIMIT}.png', bbox_inches='tight')\n",
    "fig.savefig(f'../visualization/dynamics/rolling_windows/{market}_rolling_MFHT_peaks_variousthresholds_{VOL_LIMIT}.eps', bbox_inches='tight')\n",
    "fig.savefig(f'../visualization/dynamics/rolling_windows/{market}_rolling_MFHT_peaks_variousthresholds_{VOL_LIMIT}.pdf', bbox_inches='tight')"
   ],
   "metadata": {
    "collapsed": false
   },
   "id": "6089305ab007ab4c"
  },
  {
   "cell_type": "markdown",
   "source": [
    "## UW"
   ],
   "metadata": {
    "collapsed": false
   },
   "id": "5f27b802506f367c"
  },
  {
   "cell_type": "code",
   "execution_count": 30,
   "outputs": [],
   "source": [
    "market = \"UW\""
   ],
   "metadata": {
    "collapsed": false,
    "ExecuteTime": {
     "end_time": "2024-04-15T15:07:27.847220Z",
     "start_time": "2024-04-15T15:07:27.832220Z"
    }
   },
   "id": "86afe12978b29e75"
  },
  {
   "cell_type": "code",
   "execution_count": 101,
   "outputs": [],
   "source": [
    "regenerate = False\n",
    "for t1_string, t2_string in coefficients:\n",
    "    if not os.path.exists(f'../data/processed/dynamics/{market}_rolling_MFHT_peaks_{t1_string}_{t2_string}_{VOL_LIMIT}.pickle') or regenerate:\n",
    "        print(f\"Generating {market} with thresholds {t1_string}-{t2_string}\")\n",
    "        # Data must be regenerate\n",
    "        df, outcasts = create_dataset([market], windows, t1_string, t2_string)\n",
    "        print(f\"There are {len(outcasts[market])} outcasts\")\n",
    "        # df['thresholds'] = f'{t1_string}_{t2_string}'\n",
    "        df.to_pickle(f'../data/processed/dynamics/{market}_rolling_MFHT_peaks_{t1_string}_{t2_string}_{VOL_LIMIT}.pickle')\n",
    "regenerate = False"
   ],
   "metadata": {
    "collapsed": false,
    "ExecuteTime": {
     "end_time": "2024-04-15T09:52:17.094148Z",
     "start_time": "2024-04-15T09:52:17.087148Z"
    }
   },
   "id": "3ad87a51740a2560"
  },
  {
   "cell_type": "code",
   "execution_count": 32,
   "outputs": [
    {
     "name": "stderr",
     "output_type": "stream",
     "text": [
      "UW: 15342it [04:19, 59.03it/s]"
     ]
    },
    {
     "name": "stdout",
     "output_type": "stream",
     "text": [
      "(1, 15342)\n",
      "MAX VALUES\n",
      "\tUW 0.5/1.5: 1984-06-22 00:00:00 - 1985-06-21 00:00:00\n",
      "MIN VALUES\n",
      "\tUW 0.5/1.5: 1980-01-01 00:00:00 - 1980-12-30 00:00:00\n"
     ]
    },
    {
     "name": "stderr",
     "output_type": "stream",
     "text": [
      "\n"
     ]
    }
   ],
   "source": [
    "max_values = take_maxs(market, windows, coefficients, regenerate=True)\n",
    "print(max_values.shape)\n",
    "print(\"MAX VALUES\")\n",
    "for coeffs, win in zip(coefficients, np.array(windows)[list(max_values.argmax(axis=1))]):\n",
    "    print(f\"\\t{market} {f.numerify_threshold(coeffs[0])}/{f.numerify_threshold(coeffs[1])}: {win[0]} - {win[1]}\")\n",
    "print(\"MIN VALUES\")\n",
    "for coeffs, win in zip(coefficients, np.array(windows)[list(max_values.argmin(axis=1))]):\n",
    "    print(f\"\\t{market} {f.numerify_threshold(coeffs[0])}/{f.numerify_threshold(coeffs[1])}: {win[0]} - {win[1]}\")\n",
    "    \n",
    "maxs = np.array(windows)[max_values.argmax(axis=1)]\n",
    "mins = np.array(windows)[max_values.argmin(axis=1)]\n",
    "for i in range(len(maxs)):\n",
    "    row = {\n",
    "        'market': market,\n",
    "        'thresholds': f'{coefficients[i][0]}_{coefficients[i][1]}',\n",
    "        'start_max': maxs[i][0],\n",
    "        'end_max': maxs[i][1],\n",
    "        'start_min': mins[i][0],\n",
    "        'end_min': mins[i][1],\n",
    "    }\n",
    "    df_maxs.append(row)"
   ],
   "metadata": {
    "collapsed": false,
    "ExecuteTime": {
     "end_time": "2024-04-15T15:12:00.598768Z",
     "start_time": "2024-04-15T15:07:40.390339Z"
    }
   },
   "id": "32f1cb4bb3d8e0e8"
  },
  {
   "cell_type": "code",
   "execution_count": 46,
   "outputs": [
    {
     "data": {
      "text/plain": "<Figure size 1200x450 with 8 Axes>",
      "image/png": "[encoded data removed]"
     },
     "metadata": {},
     "output_type": "display_data"
    }
   ],
   "source": [
    "fig, errors = plot_rolling_heatmap(coefficients, windows[:-95], max_values[:, :-95], outcasts if regenerate else None, latex=True, suptitle=market)"
   ],
   "metadata": {
    "collapsed": false,
    "ExecuteTime": {
     "end_time": "2024-04-15T09:24:22.434551Z",
     "start_time": "2024-04-15T09:24:16.941554Z"
    }
   },
   "id": "26db685be3471f49"
  },
  {
   "cell_type": "code",
   "execution_count": null,
   "outputs": [],
   "source": [
    "fig.savefig(f'../visualization/dynamics/rolling_windows/{market}_rolling_MFHT_peaks_variousthresholds_{VOL_LIMIT}.png', bbox_inches='tight')\n",
    "fig.savefig(f'../visualization/dynamics/rolling_windows/{market}_rolling_MFHT_peaks_variousthresholds_{VOL_LIMIT}.eps', bbox_inches='tight')\n",
    "fig.savefig(f'../visualization/dynamics/rolling_windows/{market}_rolling_MFHT_peaks_variousthresholds_{VOL_LIMIT}.pdf', bbox_inches='tight')"
   ],
   "metadata": {
    "collapsed": false
   },
   "id": "32615f7c76a4eed6"
  },
  {
   "cell_type": "markdown",
   "source": [
    "## LN"
   ],
   "metadata": {
    "collapsed": false
   },
   "id": "fc7d086929334459"
  },
  {
   "cell_type": "code",
   "execution_count": 33,
   "outputs": [],
   "source": [
    "market = \"LN\""
   ],
   "metadata": {
    "collapsed": false,
    "ExecuteTime": {
     "end_time": "2024-04-15T15:13:41.321315Z",
     "start_time": "2024-04-15T15:13:41.304315Z"
    }
   },
   "id": "20f94c651cfe135"
  },
  {
   "cell_type": "code",
   "execution_count": 104,
   "outputs": [],
   "source": [
    "regenerate = False\n",
    "for t1_string, t2_string in coefficients:\n",
    "        df = pd.DataFrame()\n",
    "        if not os.path.exists(f'../data/processed/dynamics/{market}_rolling_MFHT_peaks_{t1_string}_{t2_string}_{VOL_LIMIT}.pickle') or regenerate:\n",
    "            print(f\"Generating {market} with thresholds {t1_string}-{t2_string}\")\n",
    "            # Data must be regenerate\n",
    "            df, outcasts = create_dataset([market], windows, t1_string, t2_string)\n",
    "            print(f\"There are {len(outcasts[market])} outcasts\")\n",
    "            # df['thresholds'] = f'{t1_string}_{t2_string}'\n",
    "            df.to_pickle(f'../data/processed/dynamics/{market}_rolling_MFHT_peaks_{t1_string}_{t2_string}_{VOL_LIMIT}.pickle')\n",
    "regenerate = False"
   ],
   "metadata": {
    "collapsed": false,
    "ExecuteTime": {
     "end_time": "2024-04-15T09:52:20.767946Z",
     "start_time": "2024-04-15T09:52:20.758432Z"
    }
   },
   "id": "6c546b5faa12301d"
  },
  {
   "cell_type": "code",
   "execution_count": 34,
   "outputs": [
    {
     "name": "stderr",
     "output_type": "stream",
     "text": [
      "LN: 15342it [03:36, 70.95it/s]\n"
     ]
    },
    {
     "name": "stdout",
     "output_type": "stream",
     "text": [
      "MAX VALUES\n",
      "\tLN 0.5/1.5: 1987-07-11 00:00:00 - 1988-07-09 00:00:00\n",
      "MIN VALUES\n",
      "\tLN 0.5/1.5: 1980-01-01 00:00:00 - 1980-12-30 00:00:00\n"
     ]
    }
   ],
   "source": [
    "max_values = take_maxs(market, windows, coefficients, regenerate=True)\n",
    "print(\"MAX VALUES\")\n",
    "for coeffs, win in zip(coefficients, np.array(windows)[list(max_values.argmax(axis=1))]):\n",
    "    print(f\"\\t{market} {f.numerify_threshold(coeffs[0])}/{f.numerify_threshold(coeffs[1])}: {win[0]} - {win[1]}\")\n",
    "print(\"MIN VALUES\")\n",
    "for coeffs, win in zip(coefficients, np.array(windows)[list(max_values.argmin(axis=1))]):\n",
    "    print(f\"\\t{market} {f.numerify_threshold(coeffs[0])}/{f.numerify_threshold(coeffs[1])}: {win[0]} - {win[1]}\")\n",
    "\n",
    "maxs = np.array(windows)[max_values.argmax(axis=1)]\n",
    "mins = np.array(windows)[max_values.argmin(axis=1)]\n",
    "for i in range(len(maxs)):\n",
    "    row = {\n",
    "        'market': market,\n",
    "        'thresholds': f'{coefficients[i][0]}_{coefficients[i][1]}',\n",
    "        'start_max': maxs[i][0],\n",
    "        'end_max': maxs[i][1],\n",
    "        'start_min': mins[i][0],\n",
    "        'end_min': mins[i][1],\n",
    "    }\n",
    "    df_maxs.append(row)"
   ],
   "metadata": {
    "collapsed": false,
    "ExecuteTime": {
     "end_time": "2024-04-15T15:17:22.485606Z",
     "start_time": "2024-04-15T15:13:45.935986Z"
    }
   },
   "id": "bf5b2c03da661406"
  },
  {
   "cell_type": "code",
   "execution_count": null,
   "outputs": [],
   "source": [
    "fig, errors = plot_rolling_heatmap(coefficients, windows[:-95], max_values[:, :-95], outcasts if regenerate else None, latex=True, suptitle=market)"
   ],
   "metadata": {
    "collapsed": false
   },
   "id": "c4e4e83e8279cce0"
  },
  {
   "cell_type": "code",
   "execution_count": null,
   "outputs": [],
   "source": [
    "fig.savefig(f'../visualization/dynamics/rolling_windows/{market}_rolling_MFHT_peaks_variousthresholds_{VOL_LIMIT}.png', bbox_inches='tight')\n",
    "fig.savefig(f'../visualization/dynamics/rolling_windows/{market}_rolling_MFHT_peaks_variousthresholds_{VOL_LIMIT}.eps', bbox_inches='tight')\n",
    "fig.savefig(f'../visualization/dynamics/rolling_windows/{market}_rolling_MFHT_peaks_variousthresholds_{VOL_LIMIT}.pdf', bbox_inches='tight')"
   ],
   "metadata": {
    "collapsed": false
   },
   "id": "d59577316afd5e18"
  },
  {
   "cell_type": "markdown",
   "source": [
    "## JT"
   ],
   "metadata": {
    "collapsed": false
   },
   "id": "7785b7c49f57db61"
  },
  {
   "cell_type": "code",
   "execution_count": 14,
   "outputs": [],
   "source": [
    "market = \"JT\""
   ],
   "metadata": {
    "collapsed": false,
    "ExecuteTime": {
     "end_time": "2024-04-15T15:22:27.182749Z",
     "start_time": "2024-04-15T15:22:27.164741Z"
    }
   },
   "id": "3a179d57a393c748"
  },
  {
   "cell_type": "code",
   "execution_count": 13,
   "outputs": [
    {
     "name": "stdout",
     "output_type": "stream",
     "text": [
      "Generating JT with thresholds 0p5-1p5\n"
     ]
    },
    {
     "name": "stderr",
     "output_type": "stream",
     "text": [
      "JT:   0%|          | 9/15342 [00:07<3:36:13,  1.18it/s]\n"
     ]
    },
    {
     "ename": "KeyboardInterrupt",
     "evalue": "",
     "output_type": "error",
     "traceback": [
      "\u001B[1;31m---------------------------------------------------------------------------\u001B[0m",
      "\u001B[1;31mKeyboardInterrupt\u001B[0m                         Traceback (most recent call last)",
      "Cell \u001B[1;32mIn [13], line 7\u001B[0m\n\u001B[0;32m      5\u001B[0m \u001B[38;5;28mprint\u001B[39m(\u001B[38;5;124mf\u001B[39m\u001B[38;5;124m\"\u001B[39m\u001B[38;5;124mGenerating \u001B[39m\u001B[38;5;132;01m{\u001B[39;00mmarket\u001B[38;5;132;01m}\u001B[39;00m\u001B[38;5;124m with thresholds \u001B[39m\u001B[38;5;132;01m{\u001B[39;00mt1_string\u001B[38;5;132;01m}\u001B[39;00m\u001B[38;5;124m-\u001B[39m\u001B[38;5;132;01m{\u001B[39;00mt2_string\u001B[38;5;132;01m}\u001B[39;00m\u001B[38;5;124m\"\u001B[39m)\n\u001B[0;32m      6\u001B[0m \u001B[38;5;66;03m# Data must be regenerate\u001B[39;00m\n\u001B[1;32m----> 7\u001B[0m df, outcasts \u001B[38;5;241m=\u001B[39m \u001B[43mcreate_dataset\u001B[49m\u001B[43m(\u001B[49m\u001B[43m[\u001B[49m\u001B[43mmarket\u001B[49m\u001B[43m]\u001B[49m\u001B[43m,\u001B[49m\u001B[43m \u001B[49m\u001B[43mwindows\u001B[49m\u001B[43m,\u001B[49m\u001B[43m \u001B[49m\u001B[43mt1_string\u001B[49m\u001B[43m,\u001B[49m\u001B[43m \u001B[49m\u001B[43mt2_string\u001B[49m\u001B[43m)\u001B[49m\n\u001B[0;32m      8\u001B[0m \u001B[38;5;28mprint\u001B[39m(\u001B[38;5;124mf\u001B[39m\u001B[38;5;124m\"\u001B[39m\u001B[38;5;124mThere are \u001B[39m\u001B[38;5;132;01m{\u001B[39;00m\u001B[38;5;28mlen\u001B[39m(outcasts[market])\u001B[38;5;132;01m}\u001B[39;00m\u001B[38;5;124m outcasts\u001B[39m\u001B[38;5;124m\"\u001B[39m)\n\u001B[0;32m      9\u001B[0m \u001B[38;5;66;03m# df['thresholds'] = f'{t1_string}_{t2_string}'\u001B[39;00m\n",
      "Cell \u001B[1;32mIn [6], line 7\u001B[0m, in \u001B[0;36mcreate_dataset\u001B[1;34m(markets, windows, t1_string, t2_string)\u001B[0m\n\u001B[0;32m      5\u001B[0m \u001B[38;5;28;01mfor\u001B[39;00m start_date, end_date \u001B[38;5;129;01min\u001B[39;00m tqdm(windows, desc\u001B[38;5;241m=\u001B[39mmarket):\n\u001B[0;32m      6\u001B[0m     \u001B[38;5;28;01mtry\u001B[39;00m:\n\u001B[1;32m----> 7\u001B[0m         mfht, nbins \u001B[38;5;241m=\u001B[39m \u001B[43mquery_binned_data\u001B[49m\u001B[43m(\u001B[49m\u001B[43mmarket\u001B[49m\u001B[43m,\u001B[49m\u001B[43m \u001B[49m\u001B[43mstart_date\u001B[49m\u001B[43m,\u001B[49m\u001B[43m \u001B[49m\u001B[43mend_date\u001B[49m\u001B[43m,\u001B[49m\u001B[43m \u001B[49m\u001B[43mVOL_LIMIT\u001B[49m\u001B[43m,\u001B[49m\u001B[43m \u001B[49m\u001B[43mt1_string\u001B[49m\u001B[38;5;241;43m=\u001B[39;49m\u001B[43mt1_string\u001B[49m\u001B[43m,\u001B[49m\u001B[43m \u001B[49m\u001B[43mt2_string\u001B[49m\u001B[38;5;241;43m=\u001B[39;49m\u001B[43mt2_string\u001B[49m\u001B[43m)\u001B[49m         \n\u001B[0;32m      8\u001B[0m     \u001B[38;5;28;01mexcept\u001B[39;00m \u001B[38;5;167;01mValueError\u001B[39;00m:\n\u001B[0;32m      9\u001B[0m         outcasts[market]\u001B[38;5;241m.\u001B[39mappend((start_date, end_date))\n",
      "Cell \u001B[1;32mIn [5], line 15\u001B[0m, in \u001B[0;36mquery_binned_data\u001B[1;34m(market, start_date, end_date, vol_limit, t1_string, t2_string)\u001B[0m\n\u001B[0;32m      6\u001B[0m     query \u001B[38;5;241m=\u001B[39m \u001B[38;5;124mf\u001B[39m\u001B[38;5;124m'''\u001B[39m\n\u001B[0;32m      7\u001B[0m \u001B[38;5;124m    SELECT *\u001B[39m\n\u001B[0;32m      8\u001B[0m \u001B[38;5;124m    FROM stabilvol_\u001B[39m\u001B[38;5;132;01m{\u001B[39;00mt1_string\u001B[38;5;132;01m}\u001B[39;00m\u001B[38;5;124m_\u001B[39m\u001B[38;5;132;01m{\u001B[39;00mt2_string\u001B[38;5;132;01m}\u001B[39;00m\n\u001B[1;32m   (...)\u001B[0m\n\u001B[0;32m     12\u001B[0m \u001B[38;5;124m    AND end <= \u001B[39m\u001B[38;5;124m\"\u001B[39m\u001B[38;5;132;01m{\u001B[39;00mend_date\u001B[38;5;132;01m}\u001B[39;00m\u001B[38;5;124m\"\u001B[39m\u001B[38;5;124m    \u001B[39m\n\u001B[0;32m     13\u001B[0m \u001B[38;5;124m    \u001B[39m\u001B[38;5;124m'''\u001B[39m\n\u001B[0;32m     14\u001B[0m     \u001B[38;5;66;03m# Load the FHT data from the database\u001B[39;00m\n\u001B[1;32m---> 15\u001B[0m     df \u001B[38;5;241m=\u001B[39m \u001B[43mpd\u001B[49m\u001B[38;5;241;43m.\u001B[39;49m\u001B[43mread_sql_query\u001B[49m\u001B[43m(\u001B[49m\u001B[43mquery\u001B[49m\u001B[43m,\u001B[49m\u001B[43m \u001B[49m\u001B[43mconn\u001B[49m\u001B[43m)\u001B[49m\n\u001B[0;32m     16\u001B[0m \u001B[38;5;28;01mexcept\u001B[39;00m pd\u001B[38;5;241m.\u001B[39merrors\u001B[38;5;241m.\u001B[39mDatabaseError:\n\u001B[0;32m     17\u001B[0m     \u001B[38;5;28mprint\u001B[39m(\u001B[38;5;124mf\u001B[39m\u001B[38;5;124m'\u001B[39m\u001B[38;5;124mNo data for market \u001B[39m\u001B[38;5;132;01m{\u001B[39;00mmarket\u001B[38;5;132;01m}\u001B[39;00m\u001B[38;5;124m with thresholds \u001B[39m\u001B[38;5;132;01m{\u001B[39;00mt1_string\u001B[38;5;132;01m}\u001B[39;00m\u001B[38;5;124m-\u001B[39m\u001B[38;5;132;01m{\u001B[39;00mt2_string\u001B[38;5;132;01m}\u001B[39;00m\u001B[38;5;124m'\u001B[39m)\n",
      "File \u001B[1;32m~\\anaconda3\\envs\\stabilvol\\lib\\site-packages\\pandas\\io\\sql.py:397\u001B[0m, in \u001B[0;36mread_sql_query\u001B[1;34m(sql, con, index_col, coerce_float, params, parse_dates, chunksize, dtype)\u001B[0m\n\u001B[0;32m    339\u001B[0m \u001B[38;5;124;03m\"\"\"\u001B[39;00m\n\u001B[0;32m    340\u001B[0m \u001B[38;5;124;03mRead SQL query into a DataFrame.\u001B[39;00m\n\u001B[0;32m    341\u001B[0m \n\u001B[1;32m   (...)\u001B[0m\n\u001B[0;32m    394\u001B[0m \u001B[38;5;124;03mparameter will be converted to UTC.\u001B[39;00m\n\u001B[0;32m    395\u001B[0m \u001B[38;5;124;03m\"\"\"\u001B[39;00m\n\u001B[0;32m    396\u001B[0m pandas_sql \u001B[38;5;241m=\u001B[39m pandasSQL_builder(con)\n\u001B[1;32m--> 397\u001B[0m \u001B[38;5;28;01mreturn\u001B[39;00m \u001B[43mpandas_sql\u001B[49m\u001B[38;5;241;43m.\u001B[39;49m\u001B[43mread_query\u001B[49m\u001B[43m(\u001B[49m\n\u001B[0;32m    398\u001B[0m \u001B[43m    \u001B[49m\u001B[43msql\u001B[49m\u001B[43m,\u001B[49m\n\u001B[0;32m    399\u001B[0m \u001B[43m    \u001B[49m\u001B[43mindex_col\u001B[49m\u001B[38;5;241;43m=\u001B[39;49m\u001B[43mindex_col\u001B[49m\u001B[43m,\u001B[49m\n\u001B[0;32m    400\u001B[0m \u001B[43m    \u001B[49m\u001B[43mparams\u001B[49m\u001B[38;5;241;43m=\u001B[39;49m\u001B[43mparams\u001B[49m\u001B[43m,\u001B[49m\n\u001B[0;32m    401\u001B[0m \u001B[43m    \u001B[49m\u001B[43mcoerce_float\u001B[49m\u001B[38;5;241;43m=\u001B[39;49m\u001B[43mcoerce_float\u001B[49m\u001B[43m,\u001B[49m\n\u001B[0;32m    402\u001B[0m \u001B[43m    \u001B[49m\u001B[43mparse_dates\u001B[49m\u001B[38;5;241;43m=\u001B[39;49m\u001B[43mparse_dates\u001B[49m\u001B[43m,\u001B[49m\n\u001B[0;32m    403\u001B[0m \u001B[43m    \u001B[49m\u001B[43mchunksize\u001B[49m\u001B[38;5;241;43m=\u001B[39;49m\u001B[43mchunksize\u001B[49m\u001B[43m,\u001B[49m\n\u001B[0;32m    404\u001B[0m \u001B[43m    \u001B[49m\u001B[43mdtype\u001B[49m\u001B[38;5;241;43m=\u001B[39;49m\u001B[43mdtype\u001B[49m\u001B[43m,\u001B[49m\n\u001B[0;32m    405\u001B[0m \u001B[43m\u001B[49m\u001B[43m)\u001B[49m\n",
      "File \u001B[1;32m~\\anaconda3\\envs\\stabilvol\\lib\\site-packages\\pandas\\io\\sql.py:2092\u001B[0m, in \u001B[0;36mSQLiteDatabase.read_query\u001B[1;34m(self, sql, index_col, coerce_float, params, parse_dates, chunksize, dtype)\u001B[0m\n\u001B[0;32m   2082\u001B[0m     \u001B[38;5;28;01mreturn\u001B[39;00m \u001B[38;5;28mself\u001B[39m\u001B[38;5;241m.\u001B[39m_query_iterator(\n\u001B[0;32m   2083\u001B[0m         cursor,\n\u001B[0;32m   2084\u001B[0m         chunksize,\n\u001B[1;32m   (...)\u001B[0m\n\u001B[0;32m   2089\u001B[0m         dtype\u001B[38;5;241m=\u001B[39mdtype,\n\u001B[0;32m   2090\u001B[0m     )\n\u001B[0;32m   2091\u001B[0m \u001B[38;5;28;01melse\u001B[39;00m:\n\u001B[1;32m-> 2092\u001B[0m     data \u001B[38;5;241m=\u001B[39m \u001B[38;5;28;43mself\u001B[39;49m\u001B[38;5;241;43m.\u001B[39;49m\u001B[43m_fetchall_as_list\u001B[49m\u001B[43m(\u001B[49m\u001B[43mcursor\u001B[49m\u001B[43m)\u001B[49m\n\u001B[0;32m   2093\u001B[0m     cursor\u001B[38;5;241m.\u001B[39mclose()\n\u001B[0;32m   2095\u001B[0m     frame \u001B[38;5;241m=\u001B[39m _wrap_result(\n\u001B[0;32m   2096\u001B[0m         data,\n\u001B[0;32m   2097\u001B[0m         columns,\n\u001B[1;32m   (...)\u001B[0m\n\u001B[0;32m   2101\u001B[0m         dtype\u001B[38;5;241m=\u001B[39mdtype,\n\u001B[0;32m   2102\u001B[0m     )\n",
      "File \u001B[1;32m~\\anaconda3\\envs\\stabilvol\\lib\\site-packages\\pandas\\io\\sql.py:2106\u001B[0m, in \u001B[0;36mSQLiteDatabase._fetchall_as_list\u001B[1;34m(self, cur)\u001B[0m\n\u001B[0;32m   2105\u001B[0m \u001B[38;5;28;01mdef\u001B[39;00m \u001B[38;5;21m_fetchall_as_list\u001B[39m(\u001B[38;5;28mself\u001B[39m, cur):\n\u001B[1;32m-> 2106\u001B[0m     result \u001B[38;5;241m=\u001B[39m \u001B[43mcur\u001B[49m\u001B[38;5;241;43m.\u001B[39;49m\u001B[43mfetchall\u001B[49m\u001B[43m(\u001B[49m\u001B[43m)\u001B[49m\n\u001B[0;32m   2107\u001B[0m     \u001B[38;5;28;01mif\u001B[39;00m \u001B[38;5;129;01mnot\u001B[39;00m \u001B[38;5;28misinstance\u001B[39m(result, \u001B[38;5;28mlist\u001B[39m):\n\u001B[0;32m   2108\u001B[0m         result \u001B[38;5;241m=\u001B[39m \u001B[38;5;28mlist\u001B[39m(result)\n",
      "\u001B[1;31mKeyboardInterrupt\u001B[0m: "
     ]
    }
   ],
   "source": [
    "regenerate = False\n",
    "for t1_string, t2_string in coefficients:\n",
    "    df = pd.DataFrame()\n",
    "    if not os.path.exists(f'../data/processed/dynamics/{market}_rolling_MFHT_peaks_{t1_string}_{t2_string}_{VOL_LIMIT}.pickle') or regenerate:\n",
    "        print(f\"Generating {market} with thresholds {t1_string}-{t2_string}\")\n",
    "        # Data must be regenerate\n",
    "        df, outcasts = create_dataset([market], windows, t1_string, t2_string)\n",
    "        print(f\"There are {len(outcasts[market])} outcasts\")\n",
    "        # df['thresholds'] = f'{t1_string}_{t2_string}'\n",
    "        df.to_pickle(f'../data/processed/dynamics/{market}_rolling_MFHT_peaks_{t1_string}_{t2_string}_{VOL_LIMIT}.pickle')\n",
    "regenerate = False"
   ],
   "metadata": {
    "collapsed": false,
    "ExecuteTime": {
     "end_time": "2024-04-15T15:22:23.359159Z",
     "start_time": "2024-04-15T15:22:14.897058Z"
    }
   },
   "id": "716433c105fa3593"
  },
  {
   "cell_type": "code",
   "execution_count": 15,
   "outputs": [
    {
     "name": "stderr",
     "output_type": "stream",
     "text": [
      "JT: 15342it [04:31, 56.44it/s]\n"
     ]
    },
    {
     "name": "stdout",
     "output_type": "stream",
     "text": [
      "MAX VALUES\n",
      "\tJT 0.5/1.5: 1980-07-30 00:00:00 - 1981-07-29 00:00:00\n",
      "MIN VALUES\n",
      "\tJT 0.5/1.5: 2021-07-03 00:00:00 - 2022-07-02 00:00:00\n"
     ]
    }
   ],
   "source": [
    "max_values = take_maxs(market, windows, coefficients, regenerate=True)\n",
    "print(\"MAX VALUES\")\n",
    "for coeffs, win in zip(coefficients, np.array(windows)[list(max_values.argmax(axis=1))]):\n",
    "    print(f\"\\t{market} {f.numerify_threshold(coeffs[0])}/{f.numerify_threshold(coeffs[1])}: {win[0]} - {win[1]}\")\n",
    "print(\"MIN VALUES\")\n",
    "for coeffs, win in zip(coefficients, np.array(windows)[list(max_values.argmin(axis=1))]):\n",
    "    print(f\"\\t{market} {f.numerify_threshold(coeffs[0])}/{f.numerify_threshold(coeffs[1])}: {win[0]} - {win[1]}\")\n",
    "        \n",
    "maxs = np.array(windows)[max_values.argmax(axis=1)]\n",
    "mins = np.array(windows)[max_values.argmin(axis=1)]\n",
    "for i in range(len(maxs)):\n",
    "    row = {\n",
    "        'market': market,\n",
    "        'thresholds': f'{coefficients[i][0]}_{coefficients[i][1]}',\n",
    "        'start_max': maxs[i][0],\n",
    "        'end_max': maxs[i][1],\n",
    "        'start_min': mins[i][0],\n",
    "        'end_min': mins[i][1],\n",
    "    }\n",
    "    df_maxs.append(row)"
   ],
   "metadata": {
    "collapsed": false,
    "ExecuteTime": {
     "end_time": "2024-04-15T15:27:03.443877Z",
     "start_time": "2024-04-15T15:22:31.339567Z"
    }
   },
   "id": "3519682d41252120"
  },
  {
   "cell_type": "code",
   "execution_count": 42,
   "outputs": [
    {
     "data": {
      "text/plain": "<Figure size 1200x450 with 8 Axes>",
      "image/png": "[encoded data removed]"
     },
     "metadata": {},
     "output_type": "display_data"
    }
   ],
   "source": [
    "fig, errors = plot_rolling_heatmap(coefficients, windows[:-95], max_values[:, :-95], outcasts if regenerate else None, latex=True, suptitle=market)"
   ],
   "metadata": {
    "collapsed": false,
    "ExecuteTime": {
     "end_time": "2024-04-15T09:24:16.860553Z",
     "start_time": "2024-04-15T09:24:05.226945Z"
    }
   },
   "id": "2f8f9d3bc9d956bf"
  },
  {
   "cell_type": "code",
   "execution_count": null,
   "outputs": [],
   "source": [
    "fig.savefig(f'../visualization/dynamics/rolling_windows/{market}_rolling_MFHT_peaks_variousthresholds_{VOL_LIMIT}.png', bbox_inches='tight')\n",
    "fig.savefig(f'../visualization/dynamics/rolling_windows/{market}_rolling_MFHT_peaks_variousthresholds_{VOL_LIMIT}.eps', bbox_inches='tight') \n",
    "fig.savefig(f'../visualization/dynamics/rolling_windows/{market}_rolling_MFHT_peaks_variousthresholds_{VOL_LIMIT}.pdf', bbox_inches='tight')"
   ],
   "metadata": {
    "collapsed": false
   },
   "id": "24f6f7ae22eb0cff"
  },
  {
   "cell_type": "markdown",
   "source": [
    "## Save the Most-Stable and Less-Stable Windows\n",
    "### for every Market and every Coefficient"
   ],
   "metadata": {
    "collapsed": false
   },
   "id": "d005bf8ebbb03616"
  },
  {
   "cell_type": "code",
   "execution_count": 112,
   "outputs": [],
   "source": [
    "df_maxs = pd.DataFrame(df_maxs)\n",
    "df_maxs.to_csv(f'../data/processed/dynamics/maxvalues_rolling_MFHT_peaks_variousthresholds_{VOL_LIMIT}.csv', index=False)"
   ],
   "metadata": {
    "collapsed": false,
    "ExecuteTime": {
     "end_time": "2024-04-15T09:54:32.675093Z",
     "start_time": "2024-04-15T09:54:32.661314Z"
    }
   },
   "id": "9b44ce8d0a12387e"
  },
  {
   "cell_type": "code",
   "outputs": [],
   "source": [],
   "metadata": {
    "collapsed": false
   },
   "id": "a9094d40bf7c3961"
  }
 ],
 "metadata": {
  "kernelspec": {
   "display_name": "Python 3",
   "language": "python",
   "name": "python3"
  },
  "language_info": {
   "codemirror_mode": {
    "name": "ipython",
    "version": 2
   },
   "file_extension": ".py",
   "mimetype": "text/x-python",
   "name": "python",
   "nbconvert_exporter": "python",
   "pygments_lexer": "ipython2",
   "version": "2.7.6"
  }
 },
 "nbformat": 4,
 "nbformat_minor": 5
}
