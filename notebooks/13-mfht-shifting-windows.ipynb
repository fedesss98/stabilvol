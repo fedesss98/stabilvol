{
 "cells": [
  {
   "cell_type": "markdown",
   "source": [
    "# MFHT Grid Plot\n",
    "plt.close('all')"
   ],
   "metadata": {
    "collapsed": false
   },
   "id": "c44dddebf3abc6cc"
  },
  {
   "cell_type": "code",
   "execution_count": null,
   "outputs": [],
   "source": [
    "import sqlite3\n",
    "\n",
    "import matplotlib.pyplot as plt\n",
    "import pandas as pd\n",
    "import numpy as np\n",
    "from tqdm import tqdm\n",
    "import datetime\n",
    "\n",
    "from stabilvol.utility import functions as f\n",
    "\n",
    "DATABASE = '../data/processed/trapezoidal_selection/stabilvol.sqlite'\n",
    "# Connect to the SQLite database\n",
    "conn = sqlite3.connect(DATABASE)\n",
    "cur = conn.cursor()"
   ],
   "metadata": {
    "collapsed": false
   },
   "id": "d1674e86e0f257dc"
  },
  {
   "cell_type": "code",
   "execution_count": null,
   "outputs": [],
   "source": [
    "import os\n",
    "print(os.getcwd())\n",
    "os.path.exists(DATABASE)"
   ],
   "metadata": {
    "collapsed": false
   },
   "id": "862facc766c4eaa8"
  },
  {
   "cell_type": "code",
   "execution_count": null,
   "outputs": [],
   "source": [
    "MARKETS = [\"UN\", \"UW\", \"LN\", \"JT\"]\n",
    "START_DATE = \"1980-01-01\"\n",
    "END_DATE = \"2022-07-01\"\n",
    "\n",
    "T1_STRING = \"m0p5\"\n",
    "T2_STRING = \"m1p5\"\n",
    "\n",
    "START_LEVELS = [-2.0, -1.0, -0.5, -0.2, -0.1, 0.1, 0.2, 0.5, 1.0, 2.0]\n",
    "DELTAS = [2.0, 1.0, 0.5, 0.2, 0.1, -0.1, -0.2, -0.5, -1.0, -2.0]\n",
    "LEVELS = {\n",
    "    (start, round(start+delta, 2)) for start in START_LEVELS for delta in DELTAS\n",
    "}\n",
    "LEVELS = sorted(LEVELS)\n",
    "\n",
    "VOL_LIMIT= 0.5  # Change this will change all the pickle files, remember to re-generate them"
   ],
   "metadata": {
    "collapsed": false
   },
   "id": "82bc80ada8b46388"
  },
  {
   "cell_type": "code",
   "execution_count": null,
   "outputs": [],
   "source": [
    "def select_bins(df, max_n=1000):\n",
    "    nbins = 25\n",
    "    \n",
    "    while True:\n",
    "        # Use qcut to bin 'Volatility' values\n",
    "        df['Bins'] = pd.qcut(df['Volatility'], nbins, duplicates='drop')\n",
    "        \n",
    "        # Group by the bins and calculate the mean and standard error of 'value'\n",
    "        grouped = df.groupby('Bins')['FHT'].agg(['mean', error_on_the_mean, 'size'])\n",
    "        count = grouped['size'].min()\n",
    "        \n",
    "        if count < max_n or nbins > 1000:\n",
    "            break\n",
    "        else:\n",
    "            nbins += 20\n",
    "    return grouped, nbins\n",
    "\n",
    "def error_on_the_mean(values):\n",
    "    return np.std(values)/np.sqrt(len(values))"
   ],
   "metadata": {
    "collapsed": false
   },
   "id": "88d2fb62bcaeaccf"
  },
  {
   "cell_type": "code",
   "execution_count": null,
   "outputs": [],
   "source": [
    "def query_binned_data(market: str, start_date:str, end_date:str = None, vol_limit:float = 0.5, t1_string:str = \"m0p5\", t2_string:str = \"m1p5\"):\n",
    "    grouped_data = None\n",
    "    end_date = '2023-01-01' if end_date is None else end_date\n",
    "    try:            \n",
    "        # Write the SQL query\n",
    "        query = f'''\n",
    "        SELECT *\n",
    "        FROM stabilvol_{t1_string}_{t2_string}\n",
    "        WHERE Volatility < {vol_limit} \n",
    "        AND Market = \"{market}\"\n",
    "        AND start >= \"{start_date}\"\n",
    "        AND end <= \"{end_date}\"    \n",
    "        '''\n",
    "        # Load the FHT data from the database\n",
    "        df = pd.read_sql_query(query, conn)\n",
    "    except pd.errors.DatabaseError:\n",
    "        print(f'No data for market {market} with thresholds {t1_string}-{t2_string}')\n",
    "        nbins = 0\n",
    "    else:\n",
    "        if len(df) > 50:\n",
    "            return  select_bins(df)\n",
    "        else:\n",
    "            raise ValueError(f'Not enough data for market {market} with thresholds {t1_string}-{t2_string} from {start_date} to {end_date}')"
   ],
   "metadata": {
    "collapsed": false
   },
   "id": "2e3d85c019d3aa83"
  },
  {
   "cell_type": "markdown",
   "source": [
    "## Sliding Windows\n",
    "We divide the entire period into N windows and compare the stabilizing volatilites there"
   ],
   "metadata": {
    "collapsed": false
   },
   "id": "89c5172728c54360"
  },
  {
   "cell_type": "code",
   "execution_count": null,
   "outputs": [],
   "source": [
    "def create_windows(nwindows=20, duration=None,  start_date=None, end_date=None):\n",
    "    # Define the start and end dates\n",
    "    start_date = datetime.date(1980, 1, 1) if start_date is None else start_date\n",
    "    end_date = datetime.date(2022, 7, 1) if end_date is None else end_date\n",
    "    \n",
    "    # Calculate the number of days between the start and end dates\n",
    "    total_duration = (end_date - start_date).days \n",
    "    if duration is None:\n",
    "        # Calculate the duration of each window in days\n",
    "        window_duration = total_duration // nwindows\n",
    "    else:\n",
    "        window_duration = duration\n",
    "        nwindows = total_duration // duration\n",
    "    \n",
    "    # Generate the windows\n",
    "    return [(start_date + pd.to_timedelta(i * window_duration, 'D'),\n",
    "            start_date + pd.to_timedelta((i + 1) * window_duration, 'D'))\n",
    "           for i in range(nwindows)]"
   ],
   "metadata": {
    "collapsed": false
   },
   "id": "5c4da850bbd7cdd3"
  },
  {
   "cell_type": "code",
   "execution_count": null,
   "outputs": [],
   "source": [
    "import matplotlib.colors as mcolors\n",
    "\n",
    "def desaturate_color(color):\n",
    "    # Convert RGB to HLS\n",
    "    rgb = mcolors.to_rgb(color)\n",
    "    h, s, v = mcolors.rgb_to_hsv(rgb)\n",
    "\n",
    "    # Decrease the saturation by 50% to get a desaturated color\n",
    "    return mcolors.hsv_to_rgb((h, s/4, v))\n",
    "\n",
    "\n",
    "def plot_mfhts(market, mfht, ax, **kwargs):\n",
    "    x = mfht.index.categories.left.values\n",
    "    # Renormalize the first value\n",
    "    x[0] = 0\n",
    "    y = mfht['mean'].values\n",
    "    \n",
    "    if kwargs.get('color', False):\n",
    "        line, = ax.plot(x, y, color=kwargs.get('color'), label=kwargs.get('label', None))\n",
    "    else:\n",
    "        line, = ax.plot(x, y, label=kwargs.get('label', None))\n",
    "    \n",
    "    if kwargs.get('error', True):\n",
    "        y_err = mfht['error_on_the_mean'].values     \n",
    "        ax.fill_between(x, y - y_err, y + y_err, color=desaturate_color(line.get_color()))\n",
    "\n",
    "    ax.set_title(r\"\\emph{\" + market + r\"}\", fontsize=18)\n",
    "    \n",
    "    ax.set_xlim(kwargs.get('xlim', (-0.001, 0.08)))\n",
    "    \n",
    "    ax.set_yscale(kwargs.get('yscale', 'linear'))\n",
    "    \n",
    "    ax.grid(True)\n",
    "    return ax\n",
    "\n",
    "from mpl_toolkits.axes_grid1.inset_locator import inset_axes\n",
    "\n",
    "def plot_inset(mfht, inset_ax):\n",
    "    mfht.dropna(inplace=True)    \n",
    "    x = [cat.left for cat in mfht.index.tolist()]\n",
    "    y = mfht['mean'].values\n",
    "    \n",
    "    # Now you can plot on the inset axes\n",
    "    inset_ax.plot(x, y)\n",
    "    return inset_ax"
   ],
   "metadata": {
    "collapsed": false
   },
   "id": "604e6a1bd88b5f4c"
  },
  {
   "cell_type": "code",
   "execution_count": null,
   "outputs": [],
   "source": [
    "def plot_shiftingmfht(windows, vol_limit = VOL_LIMIT, **kwargs):\n",
    "    toosmallwindows = 0\n",
    "    # Use LaTeX for text rendering\n",
    "    plt.rcParams['text.usetex'] = True\n",
    "    plt.rcParams['font.family'] = 'serif'\n",
    "    \n",
    "    fig, axs = plt.subplots(2, 2, figsize=(12, 8), sharey=True, sharex=True)\n",
    "    \n",
    "    axs[0, 0].set_ylabel('MFHT', y=-0.1 ,fontsize=16)\n",
    "    axs[1, 0].set_xlabel('Volatility', x=1.1, fontsize=16)\n",
    "    \n",
    "    for i, (market, ax) in enumerate(zip(MARKETS, axs.flatten())):\n",
    "\n",
    "        for start_date, end_date in tqdm(windows, desc=market):\n",
    "\n",
    "            try:\n",
    "                mfht, nbins = query_binned_data(market, start_date, end_date, vol_limit)         \n",
    "            except ValueError:\n",
    "                toosmallwindows += 1\n",
    "            else:\n",
    "                ax = plot_mfhts(market, mfht, ax, label=start_date.strftime('%Y-%m-%d'), **kwargs)\n",
    "    \n",
    "    # Add common legend on top\n",
    "    handles, labels = axs[0, 0].get_legend_handles_labels()  # get the handles and labels from any subplot\n",
    "    fig.legend(handles, labels, loc='upper center', bbox_to_anchor=(0.5, 1.05), ncol=4)  # place the legend outside the plot area\n",
    "    \n",
    "    fig.tight_layout()\n",
    "\n",
    "    plt.show()\n",
    "    return toosmallwindows"
   ],
   "metadata": {
    "collapsed": false
   },
   "id": "518cfeb98a42759b"
  },
  {
   "cell_type": "code",
   "execution_count": null,
   "outputs": [],
   "source": [
    "windows = create_windows(22, start_date=datetime.date(1985, 1, 1))\n",
    "\n",
    "errors = plot_shiftingmfht(windows, error=False, yscale='log')\n",
    "print(f'There are {errors} windows with too few data points')"
   ],
   "metadata": {
    "collapsed": false
   },
   "id": "9f9ee04f080af696"
  },
  {
   "cell_type": "code",
   "execution_count": null,
   "outputs": [],
   "source": [
    "errors = plot_shiftingmfht(windows, error=False, yscale='linear')\n",
    "print(f'There are {errors} windows with too few data points')"
   ],
   "metadata": {
    "collapsed": false
   },
   "id": "af718e9785ecad9f"
  },
  {
   "cell_type": "markdown",
   "source": [
    "## Highlight the 2008-crisis "
   ],
   "metadata": {
    "collapsed": false
   },
   "id": "78171954fa17259c"
  },
  {
   "cell_type": "code",
   "execution_count": null,
   "outputs": [],
   "source": [
    "def plot_shiftingmfht_crisis(windows, vol_limit = VOL_LIMIT, **kwargs):\n",
    "    toosmallwindows = 0\n",
    "    # Use LaTeX for text rendering\n",
    "    plt.rcParams['text.usetex'] = True\n",
    "    plt.rcParams['font.family'] = 'serif'\n",
    "    \n",
    "    fig, axs = plt.subplots(2, 2, figsize=(12, 8), sharey=True, sharex=True)\n",
    "    \n",
    "    axs[0, 0].set_ylabel('MFHT', y=-0.1 ,fontsize=16)\n",
    "    axs[1, 0].set_xlabel('Volatility', x=1.1, fontsize=16)\n",
    "    \n",
    "    for i, (market, ax) in enumerate(zip(MARKETS, axs.flatten())):\n",
    "\n",
    "        for start_date, end_date in tqdm(windows, desc=market):\n",
    "\n",
    "            try:\n",
    "                mfht, nbins = query_binned_data(market, start_date, end_date, vol_limit)         \n",
    "            except ValueError:\n",
    "                toosmallwindows += 1\n",
    "            else:\n",
    "                if start_date > datetime.date(2007, 1, 1) and end_date < datetime.date(2009, 1, 1):\n",
    "                    x = mfht.index.categories.left.values\n",
    "                    # Renormalize the first value\n",
    "                    x[0] = 0\n",
    "                    y = mfht['mean'].values\n",
    "                    \n",
    "                    ax.plot(x, y, label=start_date.strftime('%Y-%m-%d'), zorder=10, linewidth=2)\n",
    "                else:\n",
    "                    ax = plot_mfhts(market, mfht, ax, color='lightblue', **kwargs)\n",
    "    \n",
    "    # Add common legend on top\n",
    "    handles, labels = axs[0, 0].get_legend_handles_labels()  # get the handles and labels from any subplot\n",
    "    fig.legend(handles, labels, loc='upper center', bbox_to_anchor=(0.5, 1.05), ncol=4)  # place the legend outside the plot area\n",
    "    \n",
    "    fig.tight_layout()\n",
    "\n",
    "    plt.show()\n",
    "    return toosmallwindows"
   ],
   "metadata": {
    "collapsed": false
   },
   "id": "7419d44cd16e4de7"
  },
  {
   "cell_type": "code",
   "execution_count": null,
   "outputs": [],
   "source": [
    "windows = create_windows(duration=365//4, start_date=datetime.date(1990, 1, 1))\n",
    "plot_shiftingmfht_crisis(windows, error=False, yscale='log')"
   ],
   "metadata": {
    "collapsed": false
   },
   "id": "372f31556e593d6b"
  },
  {
   "cell_type": "markdown",
   "source": [
    "## Heatmap Plots of the Sliding Windows"
   ],
   "metadata": {
    "collapsed": false
   },
   "id": "a039666ea75f9c09"
  },
  {
   "cell_type": "code",
   "execution_count": null,
   "outputs": [],
   "source": [
    "def create_dataset(windows):\n",
    "    outcasts = {market: [] for market in MARKETS}\n",
    "    df = pd.DataFrame()\n",
    "    for market in MARKETS:\n",
    "        for start_date, end_date in tqdm(windows, desc=market):\n",
    "            try:\n",
    "                mfht, nbins = query_binned_data(market, start_date, end_date, VOL_LIMIT, t1_string=T1_STRING, t2_string=T2_STRING)         \n",
    "            except ValueError:\n",
    "                outcasts[market].append((start_date, end_date))\n",
    "            else:\n",
    "                mfht['start'] = start_date\n",
    "                mfht['end'] = end_date\n",
    "                mfht['market'] = market\n",
    "                df = pd.concat([df, mfht.reset_index()])\n",
    "                \n",
    "    return df, outcasts"
   ],
   "metadata": {
    "collapsed": false
   },
   "id": "5780bf279f67a805"
  },
  {
   "cell_type": "code",
   "execution_count": null,
   "outputs": [],
   "source": [
    "from matplotlib.patches import ConnectionPatch\n",
    "def add_ticks(ax, market, labels, outcasts, highlights=True):\n",
    "    ax.set_xticks(np.arange(0.5, len(windows), 1)[::4], minor=False, labels=labels[::4], fontsize=11, rotation=90, ha='right', rotation_mode='anchor')\n",
    "    ax.set_ylabel(market, fontsize=16)\n",
    "    # Remove xticks\n",
    "    ax.yaxis.set_ticks([])\n",
    "    \n",
    "    # Convert labels to Timestamps\n",
    "    label_dates = pd.to_datetime(labels)\n",
    "    outcast_dates = [(pd.to_datetime(start), pd.to_datetime(end)) for start, end in outcasts]\n",
    "    for outcast in outcast_dates:\n",
    "        # Find the indices of the start and end labels\n",
    "        start_index = np.where(label_dates <= outcast[0])\n",
    "        # Since only the end date is labeled, if the first start date is an outcast, it must be set manually\n",
    "        start_index = start_index[0][-1] if len(start_index[0]) > 0 else 0\n",
    "        end_index = np.where(label_dates >= outcast[1])[0][0]\n",
    "        ax.axvspan(start_index-0.5, end_index-0.5, color='black')\n",
    "    \n",
    "    if highlights:\n",
    "        # Find the indices of the start and end labels\n",
    "        start_index = np.where(label_dates < pd.to_datetime('2007-01-01'))[0][-1]\n",
    "        end_index = np.where(label_dates > pd.to_datetime('2009-01-01'))[0][0]\n",
    "    \n",
    "        # Add vertical lines at the start and end of the region\n",
    "        ax.axvline(start_index-0.5, color='k', linestyle='--', linewidth=1.5)\n",
    "        ax.axvline(end_index-0.5, color='k', linestyle='--', linewidth=1.5)\n",
    "\n",
    "\n",
    "def plot_shiftingmfht_heatmap(data, windows, maxs=None, outcasts=None, **kwargs):\n",
    "    toosmallwindows = 0\n",
    "    outcasts = {market: [] for market in MARKETS} if maxs is None else outcasts\n",
    "    if kwargs.get('latex', False):    \n",
    "        # Use LaTeX for text rendering\n",
    "        plt.rcParams['text.usetex'] = True\n",
    "        plt.rcParams['font.family'] = 'serif'\n",
    "    \n",
    "    fig, axs = plt.subplots(4, figsize=(12, 4), sharex=True)\n",
    "    \n",
    "    max_values = np.zeros((len(MARKETS), len(windows))) if maxs is None else maxs\n",
    "    \n",
    "\n",
    "    for i, (market, ax) in enumerate(zip(MARKETS, axs.flatten())):\n",
    "        if maxs is None:\n",
    "            # Calculate the peaks\n",
    "            for j, (start_date, end_date) in enumerate(windows):\n",
    "                mfht = data[(data['market'] == market) & (data['start'] == start_date) & (data['end'] == end_date)]       \n",
    "                if mfht.empty:            \n",
    "                    outcasts[market].append((start_date, end_date))\n",
    "                else:\n",
    "                    max_values[i, j] = mfht['mean'].max()\n",
    "\n",
    "        im = ax.imshow(max_values[i].reshape(1, -1), cmap='coolwarm', aspect='auto', vmin=max_values[i].min(), vmax=max_values[i].max())\n",
    "         # Show ticks four by four and label them with the respective list entries\n",
    "        labels = [end_date.strftime('%Y-%m-%d') for start_date, end_date in windows]\n",
    "        add_ticks(ax, market, labels, outcasts[market])\n",
    "    \n",
    "    axs[0].text(0.47, 1.1, '2007-01-01', fontsize=11, transform=axs[0].transAxes, horizontalalignment='left')\n",
    "    axs[0].text(0.63, 1.1, '2009-01-01', fontsize=11, transform=axs[0].transAxes, horizontalalignment='right')\n",
    "    \n",
    "    fig.tight_layout()\n",
    "\n",
    "    # Add a colorbar\n",
    "    cbar = fig.colorbar(im, ax=axs.ravel().tolist(), pad=0.01)\n",
    "    cbar.set_label('Maximum MFHT', rotation=270, labelpad=15)\n",
    "\n",
    "    plt.show()\n",
    "    return fig, toosmallwindows"
   ],
   "metadata": {
    "collapsed": false
   },
   "id": "c0e420c3d4bc561b"
  },
  {
   "cell_type": "code",
   "execution_count": null,
   "outputs": [],
   "source": [
    "windows = create_windows(duration=90, start_date=datetime.date(1990, 1, 1))\n",
    "len(windows)"
   ],
   "metadata": {
    "collapsed": false
   },
   "id": "41eed3cbe6a636e4"
  },
  {
   "cell_type": "code",
   "execution_count": null,
   "outputs": [],
   "source": [
    "df, outcasts = create_dataset(windows)"
   ],
   "metadata": {
    "collapsed": false
   },
   "id": "51623e00fe80066b"
  },
  {
   "cell_type": "code",
   "execution_count": null,
   "outputs": [],
   "source": [
    "fig, errors = plot_shiftingmfht_heatmap(df, windows, latex=True)"
   ],
   "metadata": {
    "collapsed": false
   },
   "id": "efe70c6ca31b26ef"
  },
  {
   "cell_type": "code",
   "execution_count": null,
   "outputs": [],
   "source": [
    "fig.savefig(f'../visualization/dynamics/shifting_windows/shifting_MFHT_peaks.png', bbox_inches='tight')\n",
    "fig.savefig(f'../visualization/dynamics/shifting_windows/shifting_MFHT_peaks.eps', bbox_inches='tight')\n",
    "fig.savefig(f'../visualization/dynamics/shifting_windows/shifting_MFHT_peaks.pdf', bbox_inches='tight')"
   ],
   "metadata": {
    "collapsed": false
   },
   "id": "1d7db90482745d39"
  },
  {
   "cell_type": "markdown",
   "source": [
    "## Rolling Windows"
   ],
   "metadata": {
    "collapsed": false
   },
   "id": "c9c144d9dd5cb4c1"
  },
  {
   "cell_type": "code",
   "execution_count": null,
   "outputs": [],
   "source": [
    "def roll_windows(duration=90,  start_date=None, end_date=None):\n",
    "    # Define the start and end dates\n",
    "    start_date = datetime.date(1980, 1, 1) if start_date is None else start_date\n",
    "    end_date = datetime.date(2022, 7, 1) if end_date is None else end_date\n",
    "    \n",
    "    start = start_date + pd.to_timedelta(duration/2, 'D')\n",
    "    end = end_date - pd.to_timedelta(duration/2, 'D')\n",
    "    return [(mid - pd.to_timedelta(duration//2, 'D'), mid + pd.to_timedelta(duration//2, 'D')) for mid in pd.date_range(start, end, freq='D')]"
   ],
   "metadata": {
    "collapsed": false
   },
   "id": "d719cabbead45107"
  },
  {
   "cell_type": "code",
   "execution_count": null,
   "outputs": [],
   "source": [
    "windows = roll_windows(90, start_date=datetime.date(2000, 1, 1), end_date=datetime.date(2010, 1, 1))\n",
    "len(windows)"
   ],
   "metadata": {
    "collapsed": false
   },
   "id": "46a44323cfea3bf2"
  },
  {
   "cell_type": "code",
   "execution_count": null,
   "outputs": [],
   "source": [
    "df, outcasts = create_dataset(windows)\n",
    "print(f\"There are {len(outcasts)} outcasts\")\n",
    "outcasts"
   ],
   "metadata": {
    "collapsed": false
   },
   "id": "171d997b92fc2585"
  },
  {
   "cell_type": "markdown",
   "source": [
    "It may be better to first save peaks data and then plot them"
   ],
   "metadata": {
    "collapsed": false
   },
   "id": "9c5589c6e851ed46"
  },
  {
   "cell_type": "code",
   "execution_count": null,
   "outputs": [],
   "source": [
    "data = df.copy()\n",
    "max_values = np.zeros((len(MARKETS), len(windows)))\n",
    "for i, market in enumerate(MARKETS):\n",
    "        for j, (start_date, end_date) in tqdm(enumerate(windows), desc=market):\n",
    "\n",
    "            mfht = data[(data['market'] == market) & (data['start'] == start_date) & (data['end'] == end_date)]       \n",
    "            if not mfht.empty:            \n",
    "                max_values[i, j] = mfht['mean'].max()\n",
    "                \n",
    "np.save(f'../data/processed/dynamics/rolling_MFHT_peaks_{T1_STRING}_{T2_STRING}_{VOL_LIMIT}.npy', max_values)"
   ],
   "metadata": {
    "collapsed": false
   },
   "id": "b07a5fd60f2c9dc4"
  },
  {
   "cell_type": "code",
   "execution_count": null,
   "outputs": [],
   "source": [
    "def add_ticks(ax, market, labels, outcasts, highlights=True):\n",
    "    ax.set_xticks(np.arange(0.5, len(windows), 1)[::90], minor=False, labels=labels[::90], fontsize=11, rotation=90, ha='right', rotation_mode='anchor')\n",
    "    ax.set_ylabel(market, fontsize=16)\n",
    "    # Remove xticks\n",
    "    ax.yaxis.set_ticks([])\n",
    "    \n",
    "    # Convert labels to Timestamps\n",
    "    label_dates = pd.to_datetime(labels)\n",
    "    outcast_dates = [(pd.to_datetime(start), pd.to_datetime(end)) for start, end in outcasts]\n",
    "    for outcast in outcast_dates:\n",
    "        # Find the indices of the start and end labels\n",
    "        start_index = np.where(label_dates <= outcast[0])\n",
    "        # Since only the end date is labeled, if the first start date is an outcast, it must be set manually\n",
    "        start_index = start_index[0][-1] if len(start_index[0]) > 0 else 0\n",
    "        end_index = np.where(label_dates >= outcast[1])[0][0]\n",
    "        ax.axvspan(start_index-0.5, end_index-0.5, color='black')\n",
    "    \n",
    "    if highlights:\n",
    "        # Find the indices of the start and end labels\n",
    "        start_index = np.where(label_dates < pd.to_datetime('2007-01-01'))[0][-1]\n",
    "        end_index = np.where(label_dates > pd.to_datetime('2009-01-01'))[0][0]\n",
    "    \n",
    "        # Add vertical lines at the start and end of the region\n",
    "        ax.axvline(start_index-0.5, color='k', linestyle='--', linewidth=1.5)\n",
    "        ax.axvline(end_index-0.5, color='k', linestyle='--', linewidth=1.5)\n",
    "\n",
    "\n",
    "def plot_rolling_heatmap(data, windows, maxs=None, outcasts=None, **kwargs):\n",
    "    toosmallwindows = 0\n",
    "    outcasts = {market: [] for market in MARKETS} if maxs is None else outcasts\n",
    "    if kwargs.get('latex', False):    \n",
    "        # Use LaTeX for text rendering\n",
    "        plt.rcParams['text.usetex'] = True\n",
    "        plt.rcParams['font.family'] = 'serif'\n",
    "    \n",
    "    fig, axs = plt.subplots(4, figsize=(12, 4), sharex=True)\n",
    "    \n",
    "    max_values = np.zeros((len(MARKETS), len(windows))) if maxs is None else maxs\n",
    "    \n",
    "\n",
    "    for i, (market, ax) in enumerate(zip(MARKETS, axs.flatten())):\n",
    "        if maxs is None:\n",
    "            # Calculate the peaks\n",
    "            for j, (start_date, end_date) in enumerate(windows):\n",
    "                mfht = data[(data['market'] == market) & (data['start'] == start_date) & (data['end'] == end_date)]       \n",
    "                if mfht.empty:            \n",
    "                    outcasts[market].append((start_date, end_date))\n",
    "                else:\n",
    "                    max_values[i, j] = mfht['mean'].max()\n",
    "\n",
    "        im = ax.imshow(max_values[i].reshape(1, -1), cmap='coolwarm', aspect='auto', vmin=max_values[i].min(), vmax=max_values[i].max())\n",
    "         # Show ticks four by four and label them with the respective list entries\n",
    "        labels = [end_date.strftime('%Y-%m-%d') for start_date, end_date in windows]\n",
    "        add_ticks(ax, market, labels, outcasts[market])\n",
    "    \n",
    "    axs[0].text(0.66, 1.1, '2007-01-01', fontsize=11, transform=axs[0].transAxes, horizontalalignment='left')\n",
    "    axs[0].text(0.92, 1.1, '2009-01-01', fontsize=11, transform=axs[0].transAxes, horizontalalignment='right')\n",
    "    \n",
    "    fig.tight_layout()\n",
    "\n",
    "    # Add a colorbar\n",
    "    cbar = fig.colorbar(im, ax=axs.ravel().tolist(), pad=0.01)\n",
    "    cbar.set_label('Maximum MFHT', rotation=270, labelpad=15)\n",
    "\n",
    "    plt.show()\n",
    "    return fig, toosmallwindows"
   ],
   "metadata": {
    "collapsed": false
   },
   "id": "4ce2cb8a05e10556"
  },
  {
   "cell_type": "code",
   "execution_count": null,
   "outputs": [],
   "source": [
    "fig, errors = plot_rolling_heatmap(df, windows, max_values, outcasts, latex=True)"
   ],
   "metadata": {
    "collapsed": false
   },
   "id": "29aab472b5884f6e"
  },
  {
   "cell_type": "code",
   "execution_count": null,
   "outputs": [],
   "source": [
    "fig.savefig(f'../visualization/dynamics/rolling_windows/rolling_MFHT_peaks.png', bbox_inches='tight')\n",
    "fig.savefig(f'../visualization/dynamics/rolling_windows/rolling_MFHT_peaks.eps', bbox_inches='tight')\n",
    "fig.savefig(f'../visualization/dynamics/rolling_windows/rolling_MFHT_peaks.pdf', bbox_inches='tight')"
   ],
   "metadata": {
    "collapsed": false
   },
   "id": "6089305ab007ab4c"
  },
  {
   "cell_type": "code",
   "execution_count": null,
   "outputs": [],
   "source": [],
   "metadata": {
    "collapsed": false
   },
   "id": "3f3cb6f72eac1d6b"
  }
 ],
 "metadata": {
  "kernelspec": {
   "display_name": "Python 3",
   "language": "python",
   "name": "python3"
  },
  "language_info": {
   "codemirror_mode": {
    "name": "ipython",
    "version": 2
   },
   "file_extension": ".py",
   "mimetype": "text/x-python",
   "name": "python",
   "nbconvert_exporter": "python",
   "pygments_lexer": "ipython2",
   "version": "2.7.6"
  }
 },
 "nbformat": 4,
 "nbformat_minor": 5
}
