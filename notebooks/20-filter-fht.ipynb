{
 "cells": [
  {
   "cell_type": "markdown",
   "id": "acfd353f",
   "metadata": {},
   "source": [
    "# Analyse Divergencies\n",
    "The divergence level is the outer threshold after which returns shouldn't go for a count to be valid"
   ]
  },
  {
   "cell_type": "code",
   "execution_count": 11,
   "id": "edb28f8e",
   "metadata": {},
   "outputs": [],
   "source": [
    "import matplotlib.pyplot as plt\n",
    "import pandas as pd\n",
    "import numpy as np\n",
    "\n",
    "import os\n",
    "from pathlib import Path\n",
    "\n",
    "os.sys.path.append(\"../stabilvol\")\n",
    "\n",
    "# from stabilvol.utility.classes.data_extraction import DataExtractor\n",
    "\n",
    "MARKETS = [\n",
    "    'UW', 'UN', 'LN', 'JT'\n",
    "]\n",
    "DATABASE = Path(\"../data/interim\")"
   ]
  },
  {
   "cell_type": "code",
   "execution_count": 17,
   "id": "032c3df8",
   "metadata": {},
   "outputs": [
    {
     "data": {
      "text/plain": [
       "array([4.32300015, 2.50372043, 3.12060666, 3.61878071])"
      ]
     },
     "execution_count": 17,
     "metadata": {},
     "output_type": "execute_result"
    }
   ],
   "source": [
    "standard_deviations = []\n",
    "for market in MARKETS:\n",
    "    df = pd.read_pickle(DATABASE / f\"{market}.pickle\")\n",
    "    standard_deviations.append(df.std().sum() / len(df.std()))\n",
    "\n",
    "np.array(standard_deviations) * 100"
   ]
  }
 ],
 "metadata": {
  "kernelspec": {
   "display_name": "phaseonium",
   "language": "python",
   "name": "python3"
  },
  "language_info": {
   "codemirror_mode": {
    "name": "ipython",
    "version": 3
   },
   "file_extension": ".py",
   "mimetype": "text/x-python",
   "name": "python",
   "nbconvert_exporter": "python",
   "pygments_lexer": "ipython3",
   "version": "3.11.9"
  }
 },
 "nbformat": 4,
 "nbformat_minor": 5
}
