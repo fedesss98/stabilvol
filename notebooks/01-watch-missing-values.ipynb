{
 "cells": [
  {
   "cell_type": "code",
   "execution_count": null,
   "metadata": {
    "collapsed": false
   },
   "outputs": [],
   "source": [
    "import matplotlib.pyplot as plt\n",
    "%matplotlib inline\n",
    "\n",
    "import plotly.express as px\n",
    "\n",
    "from pandas.tseries.holiday import USFederalHolidayCalendar\n",
    "\n",
    "import numpy as np\n",
    "import pandas as pd\n",
    "import seaborn as sns\n",
    "from pathlib import Path\n",
    "\n",
    "ROOT = Path('../../stabilizing_volatility')\n",
    "DATA = Path('G:/UNIPA/ECONOFISICA/DATA/BLOOMBERG')"
   ]
  },
  {
   "cell_type": "code",
   "execution_count": null,
   "metadata": {
    "collapsed": false
   },
   "outputs": [],
   "source": [
    "def read_raw_data(market):\n",
    "    raw_data = DATA / f'{market}.csv'\n",
    "    df = pd.read_csv(raw_data,\n",
    "                     index_col=0,\n",
    "                     skiprows=[1],\n",
    "                     sep=';',\n",
    "                     decimal=',',\n",
    "                     parse_dates=True,\n",
    "                     infer_datetime_format=True,\n",
    "                     na_values=['#N/D'])\n",
    "    df.rename(columns=lambda x: x.replace(f' {market} Equity', ''), inplace=True)\n",
    "    df.index.name = 'Day'\n",
    "    # Order columns by number of values\n",
    "    ordered_columns_list = df.isnull().sum().sort_values().index\n",
    "    df = df.loc[:, ordered_columns_list]\n",
    "    return df\n",
    "\n",
    "def manipulate_dataframe(df, holidays=True, simple_index=False):\n",
    "    # Order columns by number of values\n",
    "    ordered_columns_list = df.isnull().sum().sort_values().index\n",
    "    df = df.loc[:, ordered_columns_list]\n",
    "    # Select business days\n",
    "    if not holidays:\n",
    "        business_days = pd.bdate_range(df.index[0], df.index[-1])\n",
    "        df = df.loc[business_days]\n",
    "    # Convert index format for easier visualization\n",
    "    if simple_index:\n",
    "        df.index = pd.to_datetime(df.index).strftime(\"%Y\")\n",
    "    return df\n",
    "\n",
    "def make_plot(df, market):\n",
    "    fig, ax = plt.subplots(figsize=(16, 8))\n",
    "    sns.heatmap(df.isnull().T,\n",
    "                yticklabels=False,\n",
    "                xticklabels=365,\n",
    "                cmap='gray',\n",
    "                cbar=False,\n",
    "                ax=ax)\n",
    "    ax.set_title(f'Missing data in {market} market', fontsize=24)\n",
    "    ax.set_ylabel('Stocks', fontsize=24)\n",
    "    ax.set_xlabel('Days', fontsize=24)\n",
    "    ax.grid(visible=True, ls='--')\n",
    "    return ax\n",
    "\n",
    "\n",
    "def make_miniplot(df):\n",
    "    fig, ax = plt.subplots(figsize=(16, 4))\n",
    "    sns.heatmap(df.isnull().T,\n",
    "                xticklabels=365,\n",
    "                cmap='gray',\n",
    "                cbar=False,\n",
    "                ax=ax)\n",
    "    ax.grid(visible=True, ls='--')\n",
    "    return ax\n",
    "\n",
    "def normalize_data(df):\n",
    "    return df / df.max()"
   ]
  },
  {
   "cell_type": "markdown",
   "metadata": {},
   "source": [
    "## GF"
   ]
  },
  {
   "cell_type": "code",
   "execution_count": null,
   "metadata": {
    "collapsed": false
   },
   "outputs": [],
   "source": [
    "market = 'GF'\n",
    "df = read_raw_data(market)\n",
    "df = manipulate_dataframe(df)\n",
    "display(df.index[0])\n",
    "display(df.index[-1])\n",
    "display(df.shape)\n",
    "\n",
    "df_w_holidays = manipulate_dataframe(df, holidays=True, simple_index=True)\n",
    "df_wout_holidays = manipulate_dataframe(df, holidays=False, simple_index=True)\n",
    "\n",
    "# make_plot(df_w_holidays, market)\n",
    "make_plot(df_wout_holidays, market)"
   ]
  },
  {
   "cell_type": "markdown",
   "metadata": {},
   "source": [
    "## JT"
   ]
  },
  {
   "cell_type": "code",
   "execution_count": null,
   "metadata": {},
   "outputs": [],
   "source": [
    "market = 'JT'\n",
    "df = read_raw_data(market)\n",
    "df = manipulate_dataframe(df)\n",
    "display(df.index[0])\n",
    "display(df.index[-1])\n",
    "display(df.shape)\n",
    "\n",
    "df_w_holidays = manipulate_dataframe(df, holidays=True, simple_index=True)\n",
    "df_wout_holidays = manipulate_dataframe(df, holidays=False, simple_index=True)\n",
    "\n",
    "# make_plot(df_w_holidays, market)\n",
    "make_plot(df_wout_holidays, market)"
   ]
  },
  {
   "cell_type": "markdown",
   "metadata": {},
   "source": [
    "## LN"
   ]
  },
  {
   "cell_type": "code",
   "execution_count": null,
   "metadata": {},
   "outputs": [],
   "source": [
    "market = 'LN'\n",
    "df = read_raw_data(market)\n",
    "df = manipulate_dataframe(df)\n",
    "display(df.index[0])\n",
    "display(df.index[-1])\n",
    "display(df.shape)\n",
    "\n",
    "df_w_holidays = manipulate_dataframe(df, holidays=True, simple_index=True)\n",
    "df_wout_holidays = manipulate_dataframe(df, holidays=False, simple_index=True)\n",
    "\n",
    "# make_plot(df_w_holidays, market)\n",
    "make_plot(df_wout_holidays, market)"
   ]
  },
  {
   "cell_type": "markdown",
   "metadata": {},
   "source": [
    "## UN"
   ]
  },
  {
   "cell_type": "code",
   "execution_count": null,
   "metadata": {},
   "outputs": [],
   "source": [
    "market = 'UN'\n",
    "df = read_raw_data(market)\n",
    "df = manipulate_dataframe(df)\n",
    "display(df.index[0])\n",
    "display(df.index[-1])\n",
    "display(df.shape)\n",
    "\n",
    "df_w_holidays = manipulate_dataframe(df, holidays=True, simple_index=True)\n",
    "df_wout_holidays = manipulate_dataframe(df, holidays=False, simple_index=True)\n",
    "\n",
    "# make_plot(df_w_holidays, market)\n",
    "make_plot(df_wout_holidays, market)"
   ]
  },
  {
   "cell_type": "markdown",
   "metadata": {},
   "source": [
    "## UW"
   ]
  },
  {
   "cell_type": "code",
   "execution_count": null,
   "metadata": {
    "collapsed": false
   },
   "outputs": [],
   "source": [
    "market = 'UW'\n",
    "df = read_raw_data(market)\n",
    "df = manipulate_dataframe(df)\n",
    "display(df.index[0])\n",
    "display(df.index[-1])\n",
    "display(df.shape)\n",
    "\n",
    "df_w_holidays = manipulate_dataframe(df, holidays=True, simple_index=True)\n",
    "df_wout_holidays = manipulate_dataframe(df, holidays=False, simple_index=True)\n",
    "\n",
    "# make_plot(df_w_holidays, market)\n",
    "make_plot(df_wout_holidays, market)"
   ]
  }
 ],
 "metadata": {
  "kernelspec": {
   "display_name": "Python 3 (ipykernel)",
   "language": "python",
   "name": "python3"
  },
  "language_info": {
   "codemirror_mode": {
    "name": "ipython",
    "version": 3
   },
   "file_extension": ".py",
   "mimetype": "text/x-python",
   "name": "python",
   "nbconvert_exporter": "python",
   "pygments_lexer": "ipython3",
   "version": "3.10.6"
  }
 },
 "nbformat": 4,
 "nbformat_minor": 4
}
