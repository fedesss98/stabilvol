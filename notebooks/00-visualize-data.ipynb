{
 "cells": [
  {
   "cell_type": "code",
   "execution_count": null,
   "metadata": {
    "tags": []
   },
   "outputs": [],
   "source": [
    "import matplotlib.pyplot as plt\n",
    "%matplotlib inline\n",
    "\n",
    "import pandas as pd\n",
    "import seaborn as sns\n",
    "from pathlib import Path\n",
    "\n",
    "import plotly.express as px\n",
    "\n",
    "ROOT = Path('../../stabilizing_volatility')\n",
    "DATA = Path('G:/UNIPA/ECONOFISICA/DATA/BLOOMBERG')\n",
    "print(DATA)\n",
    "for dir in DATA.iterdir():\n",
    "    print(dir)"
   ]
  },
  {
   "cell_type": "code",
   "execution_count": null,
   "metadata": {},
   "outputs": [],
   "source": [
    "def read_raw_data(market):\n",
    "    raw_data = DATA / f'{market}.csv'\n",
    "    df = pd.read_csv(raw_data,\n",
    "                     index_col=0,\n",
    "                     skiprows=[1],\n",
    "                     sep=';',\n",
    "                     decimal=',',\n",
    "                     parse_dates=True,\n",
    "                     infer_datetime_format=True,\n",
    "                     na_values=['#N/D'])\n",
    "    df.rename(columns=lambda x: x.replace(f' {market} Equity', ''), inplace=True)\n",
    "    df.index.name = 'Day'\n",
    "    # Order columns by number of values\n",
    "    ordered_columns_list = df.isnull().sum().sort_values().index\n",
    "    df = df.loc[:, ordered_columns_list]\n",
    "    return df\n",
    "\n",
    "def manipulate_dataframe(df):\n",
    "    # Order columns by number of values\n",
    "    ordered_columns_list = df.isnull().sum().sort_values().index\n",
    "    df = df.loc[:, ordered_columns_list]\n",
    "    # Convert index format for easier visualization\n",
    "    df.index = pd.to_datetime(df.index).strftime(\"%Y\")\n",
    "    return df\n",
    "\n",
    "def make_plot(df, market):\n",
    "    fig, ax = plt.subplots(figsize=(16, 8))\n",
    "    sns.heatmap(df.isnull().T,\n",
    "                yticklabels=False,\n",
    "                xticklabels=365,\n",
    "                cmap='gray',\n",
    "                cbar=False,\n",
    "                ax=ax)\n",
    "    ax.set_title(f'Missing data in {market} market', fontsize=24)\n",
    "    ax.set_ylabel('Stocks', fontsize=24)\n",
    "    ax.set_xlabel('Days', fontsize=24)\n",
    "    ax.grid(visible=True, ls='--')\n",
    "    return ax"
   ]
  },
  {
   "cell_type": "markdown",
   "metadata": {},
   "source": [
    "# Markets analysis"
   ]
  },
  {
   "cell_type": "markdown",
   "metadata": {},
   "source": [
    "## UW"
   ]
  },
  {
   "cell_type": "code",
   "execution_count": null,
   "metadata": {},
   "outputs": [],
   "source": [
    "market = 'UW'\n",
    "df = read_raw_data(market)\n",
    "display(df.index[0])\n",
    "display(df.index[-1])\n",
    "display(df.shape)\n",
    "df = manipulate_dataframe(df)\n",
    "make_plot(df, market)"
   ]
  },
  {
   "cell_type": "markdown",
   "metadata": {},
   "source": [
    "## GF"
   ]
  },
  {
   "cell_type": "code",
   "execution_count": null,
   "metadata": {},
   "outputs": [],
   "source": [
    "market = 'GF'\n",
    "df = read_raw_data(market)\n",
    "display(df.index[0])\n",
    "display(df.index[-1])\n",
    "display(df.shape)\n",
    "df = manipulate_dataframe(df)\n",
    "make_plot(df, market)"
   ]
  },
  {
   "cell_type": "markdown",
   "metadata": {},
   "source": [
    "## JT"
   ]
  },
  {
   "cell_type": "code",
   "execution_count": null,
   "metadata": {},
   "outputs": [],
   "source": [
    "market = 'JT'\n",
    "df = read_raw_data(market)\n",
    "display(df.index[0])\n",
    "display(df.index[-1])\n",
    "display(df.shape)\n",
    "df = manipulate_dataframe(df)\n",
    "make_plot(df, market)"
   ]
  },
  {
   "cell_type": "markdown",
   "metadata": {},
   "source": [
    "## LN"
   ]
  },
  {
   "cell_type": "code",
   "execution_count": null,
   "metadata": {},
   "outputs": [],
   "source": [
    "market = 'LN'\n",
    "df = read_raw_data(market)\n",
    "display(df.index[0])\n",
    "display(df.index[-1])\n",
    "display(df.shape)\n",
    "df = manipulate_dataframe(df)\n",
    "make_plot(df, market)"
   ]
  },
  {
   "cell_type": "markdown",
   "metadata": {},
   "source": [
    "## UN Market"
   ]
  },
  {
   "cell_type": "code",
   "execution_count": null,
   "metadata": {},
   "outputs": [],
   "source": [
    "market = 'UN'\n",
    "df = read_raw_data(market)\n",
    "display(df.index[0])\n",
    "display(df.index[-1])\n",
    "display(df.shape)\n",
    "df = manipulate_dataframe(df)\n",
    "make_plot(df, market)"
   ]
  },
  {
   "cell_type": "code",
   "execution_count": null,
   "metadata": {},
   "outputs": [],
   "source": [
    "df = pd.read_pickle(ROOT/'data/raw/UW.pickle').reset_index()\n",
    "mini = df.loc[14000:, ['AAPL', 'INTC']].dropna()\n",
    "mini = (mini - mini.mean())/mini.std()\n",
    "mini.plot(grid=False, figsize=(8, 4))"
   ]
  },
  {
   "cell_type": "code",
   "execution_count": null,
   "metadata": {},
   "outputs": [],
   "source": [
    "px.line(mini['INTC'])"
   ]
  },
  {
   "cell_type": "code",
   "execution_count": null,
   "metadata": {},
   "outputs": [],
   "source": []
  }
 ],
 "metadata": {
  "kernelspec": {
   "display_name": "Python 3 (ipykernel)",
   "language": "python",
   "name": "python3"
  },
  "language_info": {
   "codemirror_mode": {
    "name": "ipython",
    "version": 3
   },
   "file_extension": ".py",
   "mimetype": "text/x-python",
   "name": "python",
   "nbconvert_exporter": "python",
   "pygments_lexer": "ipython3",
   "version": "3.10.6"
  }
 },
 "nbformat": 4,
 "nbformat_minor": 4
}
