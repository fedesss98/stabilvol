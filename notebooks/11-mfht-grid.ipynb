{
 "cells": [
  {
   "cell_type": "markdown",
   "source": [
    "# MFHT Grid Plot\n",
    "plt.close('all')"
   ],
   "metadata": {
    "collapsed": false
   },
   "id": "8e1d34117b5da66b"
  },
  {
   "cell_type": "code",
   "execution_count": null,
   "outputs": [],
   "source": [
    "import sqlite3\n",
    "\n",
    "import matplotlib.pyplot as plt\n",
    "import pandas as pd\n",
    "import numpy as np\n",
    "from tqdm import tqdm\n",
    "\n",
    "from scipy.optimize import curve_fit\n",
    "\n",
    "from stabilvol.utility import functions as f\n",
    "\n",
    "DATABASE = '../data/processed/trapezoidal_selection/stabilvol.sqlite'\n",
    "# Connect to the SQLite database\n",
    "conn = sqlite3.connect(DATABASE)\n",
    "cur = conn.cursor()"
   ],
   "metadata": {
    "collapsed": false
   },
   "id": "4f98d3f100f8486b"
  },
  {
   "cell_type": "code",
   "execution_count": null,
   "outputs": [],
   "source": [
    "import os\n",
    "print(os.getcwd())\n",
    "os.path.exists(DATABASE)"
   ],
   "metadata": {
    "collapsed": false
   },
   "id": "657b84a856634b31"
  },
  {
   "cell_type": "code",
   "execution_count": null,
   "outputs": [],
   "source": [
    "start_date = '2010-01-01'\n",
    "end_date = '2022-07-01'\n",
    "t1_string = \"m0p5\"\n",
    "t2_string = \"m1p5\"\n",
    "vol_limit = 0.5\n",
    "market = \"UN\"\n",
    "# Write the SQL query\n",
    "query = f'''\n",
    "SELECT *\n",
    "FROM stabilvol_{t1_string}_{t2_string}\n",
    "WHERE Volatility < {vol_limit} \n",
    "AND Market = \"{market}\"\n",
    "AND start > \"{start_date}\"\n",
    "AND end < \"{end_date}\"    \n",
    "'''\n",
    "df = pd.read_sql_query(query, conn)\n",
    "df"
   ],
   "metadata": {
    "collapsed": false
   },
   "id": "33cf7c90f77f9358"
  },
  {
   "cell_type": "code",
   "execution_count": null,
   "outputs": [],
   "source": [
    "def select_bins(df, max_n=1000):\n",
    "    nbins = 50\n",
    "    \n",
    "    while True:\n",
    "        # Use qcut to bin 'Volatility' values\n",
    "        df['Bins'] = pd.qcut(df['Volatility'], nbins, duplicates='drop')\n",
    "        \n",
    "        # Group by the bins and calculate the mean and standard error of 'value'\n",
    "        grouped = df.groupby('Bins')['FHT'].agg(['mean', error_on_the_mean, 'size'])\n",
    "        count = grouped['size'].min()\n",
    "        \n",
    "        if count < max_n or nbins > 1000:\n",
    "            break\n",
    "        else:\n",
    "            nbins += 50\n",
    "    return grouped, nbins\n",
    "\n",
    "def error_on_the_mean(values):\n",
    "    return np.std(values)/np.sqrt(len(values))"
   ],
   "metadata": {
    "collapsed": false
   },
   "id": "b00d70814b026b5"
  },
  {
   "cell_type": "code",
   "execution_count": null,
   "outputs": [],
   "source": [
    "MARKETS = [\"UN\", \"UW\", \"LN\", \"JT\"]\n",
    "START_LEVELS = [-2.0, -1.0, -0.5, -0.2, -0.1, 0.1, 0.2, 0.5, 1.0, 2.0]\n",
    "DELTAS = [2.0, 1.0, 0.5, 0.2, 0.1, -0.1, -0.2, -0.5, -1.0, -2.0]\n",
    "LEVELS = {\n",
    "    (start, round(start+delta, 2)) for start in START_LEVELS for delta in DELTAS\n",
    "}\n",
    "LEVELS = sorted(LEVELS)\n",
    "\n",
    "VOL_LIMIT= 0.5  # Change this will change all the pickle files, remember to re-generate them\n",
    "LEVELS"
   ],
   "metadata": {
    "collapsed": false
   },
   "id": "3757fa07548c69dd"
  },
  {
   "cell_type": "code",
   "execution_count": null,
   "outputs": [],
   "source": [
    "def query_binned_data(market: str, t1_string: str, t2_string: str, vol_limit: float):\n",
    "    grouped_data = None\n",
    "    try:            \n",
    "        # Write the SQL query\n",
    "        query = f'''\n",
    "        SELECT *\n",
    "        FROM stabilvol_{t1_string}_{t2_string}\n",
    "        WHERE Volatility < {vol_limit} AND Market = \"{market}\"\n",
    "        '''\n",
    "        # Load the FHT data from the database\n",
    "        df = pd.read_sql_query(query, conn)\n",
    "    except pd.errors.DatabaseError:\n",
    "        print(f'No data for market {market} with thresholds {t1_string}-{t2_string}')\n",
    "        nbins = 0\n",
    "    else:\n",
    "        grouped_data, nbins = select_bins(df)\n",
    "    return grouped_data, nbins\n",
    "\n",
    "def save_all_mfhts(market, save=True):\n",
    "    bins_dict = {}\n",
    "    for t1, t2 in tqdm(LEVELS):\n",
    "        # Create the strings for the threshold values\n",
    "        t1_string = f.stringify_threshold(t1)\n",
    "        t2_string = f.stringify_threshold(t2)\n",
    "        # Filename for the MFHT data\n",
    "        filename = f'../data/processed/trapezoidal_selection/mfht_{market}_{t1_string}_{t2_string}.pkl'\n",
    "           \n",
    "        if save and not os.path.exists(filename):\n",
    "            # Load the dataframe from the database if it exists\n",
    "            grouped_data, nbins = query_binned_data(market, t1_string, t2_string, VOL_LIMIT)\n",
    "            grouped_data.to_pickle(filename)\n",
    "        else:\n",
    "            print(f\"File '{filename}' already exists\")\n",
    "            nbins = 0\n",
    "        bins_dict[(t1, t2)] = nbins  \n",
    "            \n",
    "    return bins_dict"
   ],
   "metadata": {
    "collapsed": false
   },
   "id": "4103d7af7b94c473"
  },
  {
   "cell_type": "code",
   "execution_count": null,
   "outputs": [],
   "source": [
    "market = \"UN\"\n",
    "nbins_un = save_all_mfhts(market)"
   ],
   "metadata": {
    "collapsed": false
   },
   "id": "e3636669aec6be7e"
  },
  {
   "cell_type": "code",
   "execution_count": null,
   "outputs": [],
   "source": [
    "market = \"UW\"\n",
    "nbins_uw = save_all_mfhts(market)"
   ],
   "metadata": {
    "collapsed": false
   },
   "id": "44dea21fc9706a40"
  },
  {
   "cell_type": "code",
   "execution_count": null,
   "outputs": [],
   "source": [
    "market = \"LN\"\n",
    "nbins_ln = save_all_mfhts(market)"
   ],
   "metadata": {
    "collapsed": false
   },
   "id": "558a939f0178bf57"
  },
  {
   "cell_type": "code",
   "execution_count": null,
   "outputs": [],
   "source": [
    "market = \"JT\"\n",
    "nbins_jt = save_all_mfhts(market)"
   ],
   "metadata": {
    "collapsed": false
   },
   "id": "41298f6eb3945fb4"
  },
  {
   "cell_type": "code",
   "execution_count": null,
   "outputs": [],
   "source": [
    "def get_thresholds(market):\n",
    "    for filename in os.listdir('../data/processed/trapezoidal_selection/'):\n",
    "        if filename.startswith(f'mfht_{market}_'):\n",
    "            t1, t2 = filename.replace(\".pkl\", \"\").split('_')[2:4]\n",
    "            t1 = f.numerify_threshold(t1)\n",
    "            t2 = f.numerify_threshold(t2)\n",
    "            yield (t1, t2)"
   ],
   "metadata": {
    "collapsed": false
   },
   "id": "7aaf2120703971e3"
  },
  {
   "cell_type": "code",
   "execution_count": null,
   "outputs": [],
   "source": [
    "from IPython.display import display, Markdown\n",
    "\n",
    "# Create a dictionary where keys are the unique first elements and values are lists of corresponding second elements\n",
    "table_dict = {}\n",
    "\n",
    "thresholds_table = [[t1, t2] for t1, t2 in sorted(get_thresholds(\"UN\"), key=lambda x: float(x[0]), reverse=False)]\n",
    "for item in thresholds_table:\n",
    "    if item[0] not in table_dict:\n",
    "        table_dict[item[0]] = [item[1]]\n",
    "    else:\n",
    "        table_dict[item[0]].append(item[1])\n",
    "\n",
    "# Create the markdown table\n",
    "markdown_table = f\"| Start Threshold {'| End |'*1} |\\n{'|:-------:|'*1}\\n\"\n",
    "for key, values in table_dict.items():\n",
    "    values = sorted(values, key=lambda x: float(x))\n",
    "    markdown_table += f\"| {key} | {'| '.join([str(s) for s in values])} |\\n\"\n",
    "\n",
    "# Display the markdown table\n",
    "display(Markdown(markdown_table))"
   ],
   "metadata": {
    "collapsed": false
   },
   "id": "8dea636594bd008e"
  },
  {
   "cell_type": "code",
   "execution_count": null,
   "outputs": [],
   "source": [
    "import matplotlib.colors as mcolors\n",
    "\n",
    "def desaturate_color(color):\n",
    "    # Convert RGB to HLS\n",
    "    rgb = mcolors.to_rgb(color)\n",
    "    h, s, v = mcolors.rgb_to_hsv(rgb)\n",
    "\n",
    "    # Decrease the saturation by 50% to get a desaturated color\n",
    "    return mcolors.hsv_to_rgb((h, s/2, v))\n",
    "\n",
    "def plot_mfht_grid(markets, plotsscale='', show=False):\n",
    "    if not isinstance(markets, list):\n",
    "        markets = [markets]\n",
    "    if plotsscale not in ['', 'log', 'logx', 'logy']:\n",
    "        raise ValueError(\"plotsscale must be either '' or 'log'\")\n",
    "    \n",
    "    n_rows = 10\n",
    "    n_cols = 10\n",
    "    \n",
    "    # Create a grid of subplots\n",
    "    fig, axs = plt.subplots(n_rows, n_cols, figsize=(16, 18))\n",
    "    \n",
    "    # Flatten the array of axes\n",
    "    axs = axs.flatten()\n",
    "    \n",
    "    # Iterate over the indices and axes\n",
    "    for i, ((t1, t2), ax) in enumerate(zip(LEVELS, axs)):\n",
    "        # Create the strings for the threshold values\n",
    "        t1_string = f.stringify_threshold(t1)\n",
    "        t2_string = f.stringify_threshold(t2)\n",
    "        \n",
    "        for market in markets:\n",
    "            # Load the dataframe from the database if it exists\n",
    "            try:\n",
    "                df = pd.read_pickle(f'../data/processed/trapezoidal_selection/mfht_{market}_{t1_string}_{t2_string}.pkl')\n",
    "            except FileNotFoundError as e:\n",
    "                print(f\"File 'mfht_{market}_{t1_string}_{t2_string}.pkl' not found\")\n",
    "                continue\n",
    "            else:\n",
    "                \n",
    "                x = df.index.categories.left.values\n",
    "                y = df['mean'].values\n",
    "                \n",
    "                y_err = df['error_on_the_mean'].values\n",
    "                \n",
    "                line, = ax.plot(x, y, label=market if i==0 else \"\")\n",
    "                \n",
    "                ax.fill_between(x, y - y_err, y + y_err, color=desaturate_color(line.get_color()))\n",
    "            \n",
    "            if plotsscale == 'logx':\n",
    "                ax.set_xscale('log')\n",
    "            elif plotsscale == 'logy':\n",
    "                ax.set_yscale('log')\n",
    "            elif plotsscale == 'log':\n",
    "                ax.set_xscale('log')\n",
    "                ax.set_yscale('log')\n",
    "            \n",
    "            # If this is the first column, set the y-label\n",
    "            if i % n_cols == 0:\n",
    "                ax.set_ylabel(f\"$\\\\theta_i = {t1}$\", fontsize=16)\n",
    "            # Always set the title with the final threshold value\n",
    "            ax.set_title(f\"$\\\\theta_f = {t2}$\", fontsize=16)\n",
    "    \n",
    "    fig.tight_layout()\n",
    "    plt.subplots_adjust(wspace=0.5)\n",
    "    \n",
    "    # Place a legend above the subplots\n",
    "    legend = fig.legend(loc='upper center', bbox_to_anchor=(0.5, -0.008), ncol=4)\n",
    "    \n",
    "    # Increase the font size\n",
    "    plt.setp(legend.get_texts(), fontsize=18)\n",
    "    \n",
    "    # Increase the linewidth\n",
    "    plt.setp(legend.get_lines(), linewidth=3)\n",
    "    \n",
    "    if show:\n",
    "        plt.show()\n",
    "    \n",
    "    marketsname = ''.join(markets) \n",
    "    fig.savefig(f'../visualization/mfhts/{marketsname}_FHT_threshold_{plotsscale}grid.png', bbox_inches='tight')\n",
    "    fig.savefig(f'../visualization/mfhts/{marketsname}_FHT_threshold_{plotsscale}grid.eps', bbox_inches='tight')"
   ],
   "metadata": {
    "collapsed": false
   },
   "id": "57b6d4e0d485cdb5"
  },
  {
   "cell_type": "code",
   "execution_count": null,
   "outputs": [],
   "source": [
    "plt.close('all')\n",
    "# plot_mfht_grid([\"UN\", \"UW\", \"LN\", \"JT\"], plotsscale='logx')\n",
    "plot_mfht_grid([\"UN\", \"UW\", \"LN\", \"JT\"], plotsscale='')"
   ],
   "metadata": {
    "collapsed": false
   },
   "id": "e62130c2e352f7dc"
  },
  {
   "cell_type": "code",
   "execution_count": null,
   "outputs": [],
   "source": [
    "n_rows = 10\n",
    "n_cols = 10\n",
    "\n",
    "# Create a grid of subplots\n",
    "fig, axs = plt.subplots(n_rows, n_cols, figsize=(16, 16))\n",
    "\n",
    "# Flatten the array of axes\n",
    "axs = axs.flatten()\n",
    "\n",
    "for i, ((t1, t2), ax) in enumerate(zip(LEVELS, axs)):\n",
    "    ax.text(0.5, 0.5, \n",
    "            f\"UN:{nbins_un[(t1, t2)]}\\nUW:{nbins_uw[(t1, t2)]}\\nLN:{nbins_ln[(t1, t2)]}\\nJT:{nbins_jt[(t1, t2)]}\", \n",
    "            ha='center', va='center')"
   ],
   "metadata": {
    "collapsed": false
   },
   "id": "4b803b05489c619f"
  },
  {
   "cell_type": "markdown",
   "source": [
    "for market in [\"UN\", \"UW\", \"LN\", \"JT\"]:\n",
    "    plot_mfht_grid(market)"
   ],
   "metadata": {
    "collapsed": false
   },
   "id": "b1be5fb1adf99604"
  },
  {
   "cell_type": "code",
   "execution_count": null,
   "outputs": [],
   "source": [
    "def get_max_values(market):\n",
    "    maxs = np.zeros(100)\n",
    "    # Iterate over the indices and axes\n",
    "    for i, (t1, t2) in enumerate(LEVELS):\n",
    "        # Create the strings for the threshold values\n",
    "        t1_string = f.stringify_threshold(t1)\n",
    "        t2_string = f.stringify_threshold(t2)\n",
    "\n",
    "        # Load the dataframe from the database if it exists\n",
    "        try:\n",
    "            df = pd.read_pickle(f'../data/processed/trapezoidal_selection/mfht_{market}_{t1_string}_{t2_string}.pkl')\n",
    "        except FileNotFoundError as e:\n",
    "            print(f\"File 'mfht_{market}_{t1_string}_{t2_string}.pkl' not found\")\n",
    "            continue\n",
    "        else:\n",
    "            maxs[i] = df['mean'].max()\n",
    "            \n",
    "    maxs = maxs.reshape((10, 10))\n",
    "    return maxs\n",
    "\n",
    "\n",
    "def truncate_colormap(cmap, minval=0.0, maxval=1.0, n=100):\n",
    "    new_cmap = mcolors.LinearSegmentedColormap.from_list(\n",
    "        'trunc({n},{a:.2f},{b:.2f})'.format(n=cmap.name, a=minval, b=maxval),\n",
    "        cmap(np.linspace(minval, maxval, n)))\n",
    "    return new_cmap\n",
    "\n",
    "\n",
    "def add_annotations(ax, peaks):\n",
    "    for i in range(10):\n",
    "        for j in range(10):\n",
    "            text = ax.text(j, i, round(peaks[i, j],1), \n",
    "                           ha=\"center\", va=\"center\", color=\"white\", fontsize=9)\n",
    "    return text\n",
    "\n",
    "\n",
    "def plot_mfht_peaks(market, peaks, min_value, max_value, ax=None, annotations=True):\n",
    "\n",
    "    if ax is None:\n",
    "        fig, ax = plt.subplots(figsize=(16, 18))\n",
    "        \n",
    "    ax.set_title(r\"\\emph{\" +  market + r\"}\", fontsize=18)\n",
    "        \n",
    "    im = ax.imshow(peaks, cmap=truncate_colormap(plt.get_cmap('inferno'), 0.1, 1.0), \n",
    "                   norm = mcolors.LogNorm(vmin=min_value, vmax=max_value)\n",
    "                   )\n",
    "    \n",
    "    # Show all ticks and label them with the respective list entries\n",
    "    ax.set_xticks(np.arange(10), labels=reversed(DELTAS), fontsize=11, rotation=45, ha='right', rotation_mode='anchor')\n",
    "    ax.set_yticks(np.arange(10), labels=START_LEVELS, fontsize=11)\n",
    "    \n",
    "    # Set the grid\n",
    "    ax.set_xticks(np.arange(-.5, 10, 1), minor=True)\n",
    "    ax.set_yticks(np.arange(-.5, 10, 1), minor=True)\n",
    "        \n",
    "    # Remove the grid lines in the middle of the cells\n",
    "    ax.grid(False)\n",
    "    ax.grid(which='minor', color='w', linestyle='-', linewidth=1)\n",
    "    \n",
    "    # Loop over data dimensions and create text annotations.\n",
    "    if annotations:\n",
    "        annotations_text = add_annotations(ax, peaks)\n",
    "                    \n",
    "    if ax is None:\n",
    "        plt.show()\n",
    "    else:\n",
    "        return ax, im"
   ],
   "metadata": {
    "collapsed": false
   },
   "id": "48c00e86c6e6e43a"
  },
  {
   "cell_type": "code",
   "execution_count": null,
   "outputs": [],
   "source": [
    "# Use LaTeX for text rendering\n",
    "plt.rcParams['text.usetex'] = True\n",
    "plt.rcParams['font.family'] = 'serif'\n",
    "\n",
    "peaks = {market: get_max_values(market) for market in [\"UN\", \"UW\", \"LN\", \"JT\"]}\n",
    "max_value, min_value = max(v.max() for v in peaks.values()), min(v.min() for v in peaks.values())\n",
    "print(max_value, min_value)\n",
    "\n",
    "fig, axs = plt.subplots(1, 4, figsize=(16, 3.5))\n",
    "\n",
    "for market, ax in zip(MARKETS, axs.flatten()):\n",
    "    ax, im = plot_mfht_peaks(market, peaks[market], min_value, max_value, ax, annotations=False)\n",
    "\n",
    "# Add the y-axis and x-axis labels\n",
    "axs[0].set_ylabel(r\"$\\theta_i$\", fontsize=16)\n",
    "axs[0].set_xlabel(r\"$d$\", fontsize=16, x=-0.2, labelpad=-20)\n",
    "\n",
    "# Add a colorbar\n",
    "cbar = fig.colorbar(im, ax=axs.ravel().tolist(), pad=0.01)\n",
    "cbar.set_label('Maximum MFHT', rotation=270, labelpad=15)\n",
    "\n",
    "# fig.tight_layout()\n",
    "\n",
    "plt.show()"
   ],
   "metadata": {
    "collapsed": false
   },
   "id": "16a189be439473d8"
  },
  {
   "cell_type": "code",
   "execution_count": null,
   "outputs": [],
   "source": [
    "fig.savefig(f'../visualization/mfhts/max_MFHT_comparison.png', bbox_inches='tight')\n",
    "fig.savefig(f'../visualization/mfhts/max_MFHT_comparison.eps', bbox_inches='tight')\n",
    "fig.savefig(f'../visualization/mfhts/max_MFHT_comparison.pdf', bbox_inches='tight')"
   ],
   "metadata": {
    "collapsed": false
   },
   "id": "312303c1151d8a1a"
  },
  {
   "cell_type": "code",
   "execution_count": null,
   "outputs": [],
   "source": [],
   "metadata": {
    "collapsed": false
   },
   "id": "f0667fe367cf7c53"
  }
 ],
 "metadata": {
  "kernelspec": {
   "display_name": "Python 3",
   "language": "python",
   "name": "python3"
  },
  "language_info": {
   "codemirror_mode": {
    "name": "ipython",
    "version": 2
   },
   "file_extension": ".py",
   "mimetype": "text/x-python",
   "name": "python",
   "nbconvert_exporter": "python",
   "pygments_lexer": "ipython2",
   "version": "2.7.6"
  }
 },
 "nbformat": 4,
 "nbformat_minor": 5
}
