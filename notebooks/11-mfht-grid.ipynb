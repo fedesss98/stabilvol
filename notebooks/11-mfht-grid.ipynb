{
 "cells": [
  {
   "cell_type": "markdown",
   "source": [
    "# MFHT Grid Plot"
   ],
   "metadata": {
    "collapsed": false
   },
   "id": "8e1d34117b5da66b"
  },
  {
   "cell_type": "code",
   "execution_count": null,
   "outputs": [],
   "source": [
    "import sqlite3\n",
    "\n",
    "import matplotlib.pyplot as plt\n",
    "import pandas as pd\n",
    "import numpy as np\n",
    "from tqdm import tqdm\n",
    "\n",
    "from scipy.optimize import curve_fit\n",
    "\n",
    "from stabilvol.utility import functions as f\n",
    "\n",
    "DATABASE = '../data/processed/trapezoidal_selection/stabilvol.sqlite'\n",
    "# Connect to the SQLite database\n",
    "conn = sqlite3.connect(DATABASE)\n",
    "cur = conn.cursor()"
   ],
   "metadata": {
    "collapsed": false
   },
   "id": "4f98d3f100f8486b"
  },
  {
   "cell_type": "code",
   "execution_count": null,
   "outputs": [],
   "source": [
    "import os\n",
    "print(os.getcwd())\n",
    "os.path.exists(DATABASE)"
   ],
   "metadata": {
    "collapsed": false
   },
   "id": "657b84a856634b31"
  },
  {
   "cell_type": "code",
   "execution_count": null,
   "outputs": [],
   "source": [
    "def select_bins(df, max_n=1000):\n",
    "    nbins = 50\n",
    "    \n",
    "    while True:\n",
    "        # Use qcut to bin 'Volatility' values\n",
    "        df['Bins'] = pd.qcut(df['Volatility'], nbins, duplicates='drop')\n",
    "        \n",
    "        # Group by the bins and calculate the mean and standard error of 'value'\n",
    "        grouped = df.groupby('Bins')['FHT'].agg(['mean', error_on_the_mean, 'size'])\n",
    "        count = grouped['size'].min()\n",
    "        \n",
    "        if count < max_n or nbins > 1000:\n",
    "            break\n",
    "        else:\n",
    "            nbins += 50\n",
    "    return grouped\n",
    "\n",
    "def error_on_the_mean(values):\n",
    "    return np.std(values)/np.sqrt(len(values))"
   ],
   "metadata": {
    "collapsed": false
   },
   "id": "b00d70814b026b5"
  },
  {
   "cell_type": "code",
   "execution_count": null,
   "outputs": [],
   "source": [
    "START_LEVELS = [-2.0, -1.0, -0.5, -0.2, -0.1, 0.1, 0.2, 0.5, 1.0, 2.0]\n",
    "DELTAS = [2.0, 1.0, 0.5, 0.2, 0.1, -0.1, -0.2, -0.5, -1.0, -2.0]\n",
    "LEVELS = {\n",
    "    (start, round(start+delta, 2)) for start in START_LEVELS for delta in DELTAS\n",
    "}\n",
    "\n",
    "VOL_LIMIT=0.05  # Change this will change all the pickle files, remember to re-generate them"
   ],
   "metadata": {
    "collapsed": false
   },
   "id": "3757fa07548c69dd"
  },
  {
   "cell_type": "code",
   "execution_count": null,
   "outputs": [],
   "source": [
    "def query_binned_data(market: str, t1_string: str, t2_string: str, vol_limit: float):\n",
    "    grouped_data = None\n",
    "    try:            \n",
    "        # Write the SQL query\n",
    "        query = f'''\n",
    "        SELECT *\n",
    "        FROM stabilvol_{t1_string}_{t2_string}\n",
    "        WHERE Volatility < {vol_limit} AND Market = \"{market}\"\n",
    "        '''\n",
    "        # Load the FHT data from the database\n",
    "        df = pd.read_sql_query(query, conn)\n",
    "    except pd.errors.DatabaseError:\n",
    "        print(f'No data for market {market} with thresholds {t1_string}-{t2_string}')\n",
    "    else:\n",
    "        grouped_data = select_bins(df)\n",
    "    return grouped_data\n",
    "\n",
    "def make_megadataframe(market, save=True):\n",
    "    df_dict = {}\n",
    "    for t1, t2 in tqdm(LEVELS):\n",
    "        # Create the strings for the threshold values\n",
    "        t1_string = f.stringify_threshold(t1)\n",
    "        t2_string = f.stringify_threshold(t2)\n",
    "        # Filename for the MFHT data\n",
    "        filename = f'../data/processed/trapezoidal_selection/mfht_{market}_{t1_string}_{t2_string}.pkl'\n",
    "        if os.path.exists(filename):\n",
    "            print(f\"File '{filename}' already exists\")\n",
    "        elif save:\n",
    "            # Load the dataframe from the database if it exists\n",
    "            grouped_data = query_binned_data(market, t1_string, t2_string, VOL_LIMIT)\n",
    "            grouped_data.to_pickle(filename)\n",
    "        else:\n",
    "            grouped_data = query_binned_data(market, t1_string, t2_string, VOL_LIMIT)\n",
    "            df_dict[(t1, t2)] = grouped_data  \n",
    "            \n",
    "    return df_dict"
   ],
   "metadata": {
    "collapsed": false
   },
   "id": "4103d7af7b94c473"
  },
  {
   "cell_type": "code",
   "execution_count": null,
   "outputs": [],
   "source": [
    "market = \"UN\"\n",
    "megaframe = make_megadataframe(market)"
   ],
   "metadata": {
    "collapsed": false
   },
   "id": "e3636669aec6be7e"
  },
  {
   "cell_type": "code",
   "execution_count": null,
   "outputs": [],
   "source": [
    "market = \"UW\"\n",
    "megaframe = make_megadataframe(market)"
   ],
   "metadata": {
    "collapsed": false
   },
   "id": "44dea21fc9706a40"
  },
  {
   "cell_type": "code",
   "execution_count": null,
   "outputs": [],
   "source": [
    "market = \"LN\"\n",
    "megaframe = make_megadataframe(market)"
   ],
   "metadata": {
    "collapsed": false
   },
   "id": "558a939f0178bf57"
  },
  {
   "cell_type": "code",
   "execution_count": null,
   "outputs": [],
   "source": [
    "market = \"JT\"\n",
    "megaframe = make_megadataframe(market)"
   ],
   "metadata": {
    "collapsed": false
   },
   "id": "41298f6eb3945fb4"
  },
  {
   "cell_type": "code",
   "execution_count": null,
   "outputs": [],
   "source": [
    "def get_thresholds(market):\n",
    "    for filename in os.listdir('../data/processed/trapezoidal_selection/'):\n",
    "        if filename.startswith(f'mfht_{market}_'):\n",
    "            t1, t2 = filename.replace(\".pkl\", \"\").split('_')[2:4]\n",
    "            t1 = f.numerify_threshold(t1)\n",
    "            t2 = f.numerify_threshold(t2)\n",
    "            yield (t1, t2)"
   ],
   "metadata": {
    "collapsed": false
   },
   "id": "7aaf2120703971e3"
  },
  {
   "cell_type": "code",
   "execution_count": null,
   "outputs": [],
   "source": [
    "from IPython.display import display, Markdown\n",
    "\n",
    "# Create a dictionary where keys are the unique first elements and values are lists of corresponding second elements\n",
    "table_dict = {}\n",
    "\n",
    "thresholds_table = [[t1, t2] for t1, t2 in sorted(get_thresholds(\"UN\"), key=lambda x: float(x[0]), reverse=False)]\n",
    "for item in thresholds_table:\n",
    "    if item[0] not in table_dict:\n",
    "        table_dict[item[0]] = [item[1]]\n",
    "    else:\n",
    "        table_dict[item[0]].append(item[1])\n",
    "\n",
    "# Create the markdown table\n",
    "markdown_table = f\"| Start Threshold {'| End |'*1} |\\n{'|:-------:|'*1}\\n\"\n",
    "for key, values in table_dict.items():\n",
    "    values = sorted(values, key=lambda x: float(x))\n",
    "    markdown_table += f\"| {key} | {'| '.join([str(s) for s in values])} |\\n\"\n",
    "\n",
    "# Display the markdown table\n",
    "display(Markdown(markdown_table))"
   ],
   "metadata": {
    "collapsed": false
   },
   "id": "8dea636594bd008e"
  },
  {
   "cell_type": "code",
   "execution_count": null,
   "outputs": [],
   "source": [
    "def plot_mfht_grid(markets, plotsscale='', show=False):\n",
    "    if not isinstance(markets, list):\n",
    "        markets = [markets]\n",
    "    if plotsscale not in ['', 'log']:\n",
    "        raise ValueError(\"plotsscale must be either '' or 'log'\")\n",
    "    \n",
    "    n_rows = 10\n",
    "    n_cols = 10\n",
    "    \n",
    "    # Create a grid of subplots\n",
    "    fig, axs = plt.subplots(n_rows, n_cols, figsize=(16, 16))\n",
    "    \n",
    "    # Flatten the array of axes\n",
    "    axs = axs.flatten()\n",
    "    \n",
    "    # Iterate over the indices and axes\n",
    "    for i, ((t1, t2), ax) in enumerate(zip(LEVELS, axs)):\n",
    "        # Create the strings for the threshold values\n",
    "        t1_string = f.stringify_threshold(t1)\n",
    "        t2_string = f.stringify_threshold(t2)\n",
    "        \n",
    "        for market in markets:\n",
    "            # Load the dataframe from the database if it exists\n",
    "            try:\n",
    "                df = pd.read_pickle(f'../data/processed/trapezoidal_selection/mfht_{market}_{t1_string}_{t2_string}.pkl')\n",
    "            except FileNotFoundError as e:\n",
    "                print(f\"File 'mfht_{market}_{t1_string}_{t2_string}.pkl' not found\")\n",
    "                continue\n",
    "            else:\n",
    "                \n",
    "                x = df.index.categories.left.values\n",
    "                y = df['mean'].values\n",
    "                \n",
    "                y_err = df['error_on_the_mean'].values\n",
    "                \n",
    "                ax.plot(x, y, label=market if i==0 else \"\")\n",
    "                ax.fill_between(x, y - y_err, y + y_err, alpha=0.2)\n",
    "            \n",
    "            if plotsscale == 'log':\n",
    "                # ax.set_xscale('log')\n",
    "                ax.set_yscale('log')\n",
    "            \n",
    "            # If this is the first column, set the y-label\n",
    "            if i % n_cols == 0:\n",
    "                ax.set_ylabel(f\"$\\\\theta_i = {t1}$\")\n",
    "            # Always set the title with the final threshold value\n",
    "            ax.set_title(f\"$\\\\theta_f = {t2}$\")\n",
    "            \n",
    "            # ax.set_xlim(0, 1)\n",
    "    # Place a legend above the subplots\n",
    "    fig.legend(loc='upper center', bbox_to_anchor=(0.5, -0.008), ncol=4)\n",
    "    \n",
    "    plt.tight_layout()\n",
    "    if show:\n",
    "        plt.show()\n",
    "    \n",
    "    marketsname = ''.join(markets) \n",
    "    fig.savefig(f'../visualization/mfhts/{marketsname}_FHT_threshold_{plotsscale}grid.png')\n",
    "    fig.savefig(f'../visualization/mfhts/{marketsname}_FHT_threshold_{plotsscale}grid.eps')"
   ],
   "metadata": {
    "collapsed": false
   },
   "id": "57b6d4e0d485cdb5"
  },
  {
   "cell_type": "code",
   "execution_count": null,
   "outputs": [],
   "source": [
    "plt.close('all')\n",
    "plot_mfht_grid([\"UN\", \"UW\", \"LN\", \"JT\"])\n",
    "plot_mfht_grid([\"UN\", \"UW\", \"LN\", \"JT\"], plotsscale='log')\n"
   ],
   "metadata": {
    "collapsed": false
   },
   "id": "e62130c2e352f7dc"
  },
  {
   "cell_type": "code",
   "execution_count": null,
   "outputs": [],
   "source": [
    "plt.close('all')\n",
    "for market in [\"UN\", \"UW\", \"LN\", \"JT\"]:\n",
    "    plot_mfht_grid(market)"
   ],
   "metadata": {
    "collapsed": false
   },
   "id": "e90676b55b880bb8"
  },
  {
   "cell_type": "code",
   "execution_count": null,
   "outputs": [],
   "source": [
    "un_01_00 = query_binned_data(\"UN\", \"0p1\", \"0p0\", 10)"
   ],
   "metadata": {
    "collapsed": false
   },
   "id": "48c00e86c6e6e43a"
  },
  {
   "cell_type": "code",
   "execution_count": null,
   "outputs": [],
   "source": [
    "un_01_00.plot(y='mean', yerr='error_on_the_mean', figsize=(16, 9), logy=True)"
   ],
   "metadata": {
    "collapsed": false
   },
   "id": "16a189be439473d8"
  },
  {
   "cell_type": "code",
   "execution_count": null,
   "outputs": [],
   "source": [
    "# Assuming you have 4 datasets\n",
    "A = np.random.rand(10, 100)\n",
    "B = np.random.rand(10, 100)\n",
    "C = np.random.rand(10, 100)\n",
    "D = np.random.rand(10, 100)\n",
    "\n",
    "fig, axs = plt.subplots(10, 10, figsize=(15, 15))\n",
    "\n",
    "for i in range(10):\n",
    "    for j in range(10):\n",
    "        axs[i, j].plot(A[i], label='')\n",
    "        axs[i, j].plot(B[i], label='')\n",
    "        axs[i, j].plot(C[i], label='')\n",
    "        axs[i, j].plot(D[i], label='')\n",
    "\n",
    "# Place a legend above the subplots\n",
    "fig.legend(loc='upper center', bbox_to_anchor=(0.5, 1.05), ncol=4)\n",
    "\n",
    "plt.tight_layout()\n",
    "plt.show()"
   ],
   "metadata": {
    "collapsed": false
   },
   "id": "2ae5a7794556c376"
  },
  {
   "cell_type": "code",
   "execution_count": null,
   "outputs": [],
   "source": [],
   "metadata": {
    "collapsed": false
   },
   "id": "312303c1151d8a1a"
  }
 ],
 "metadata": {
  "kernelspec": {
   "display_name": "Python 3",
   "language": "python",
   "name": "python3"
  },
  "language_info": {
   "codemirror_mode": {
    "name": "ipython",
    "version": 2
   },
   "file_extension": ".py",
   "mimetype": "text/x-python",
   "name": "python",
   "nbconvert_exporter": "python",
   "pygments_lexer": "ipython2",
   "version": "2.7.6"
  }
 },
 "nbformat": 4,
 "nbformat_minor": 5
}
