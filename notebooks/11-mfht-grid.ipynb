{
 "cells": [
  {
   "cell_type": "markdown",
   "source": [
    "# MFHT Grid Plot"
   ],
   "metadata": {
    "collapsed": false
   },
   "id": "8e1d34117b5da66b"
  },
  {
   "cell_type": "code",
   "execution_count": null,
   "outputs": [],
   "source": [
    "import sqlite3\n",
    "\n",
    "import matplotlib.pyplot as plt\n",
    "import pandas as pd\n",
    "import numpy as np\n",
    "from scipy.optimize import curve_fit\n",
    "\n",
    "from stabilvol.utility import functions as f\n",
    "\n",
    "DATABASE = 'data/processed/trapezoidal_selection/stabilvol.sqlite'\n",
    "# Connect to the SQLite database\n",
    "conn = sqlite3.connect(DATABASE)\n",
    "cur = conn.cursor()"
   ],
   "metadata": {
    "collapsed": false
   },
   "id": "4f98d3f100f8486b"
  },
  {
   "cell_type": "code",
   "execution_count": null,
   "outputs": [],
   "source": [
    "import os\n",
    "print(os.getcwd())\n",
    "os.path.exists(DATABASE)"
   ],
   "metadata": {
    "collapsed": false
   },
   "id": "657b84a856634b31"
  },
  {
   "cell_type": "code",
   "execution_count": null,
   "outputs": [],
   "source": [
    "def select_bins(df, max_n=1000):\n",
    "    nbins = 50\n",
    "    \n",
    "    while True:\n",
    "        # Use qcut to bin 'Volatility' values\n",
    "        df['Bins'] = pd.qcut(df['Volatility'], nbins, duplicates='drop')\n",
    "        \n",
    "        # Group by the bins and calculate the mean and standard error of 'value'\n",
    "        grouped = df.groupby('Bins')['FHT'].agg(['mean', error_on_the_mean, 'size'])\n",
    "        count = grouped['size'].min()\n",
    "        \n",
    "        if count < max_n or nbins > 1000:\n",
    "            break\n",
    "        else:\n",
    "            nbins += 50\n",
    "    return grouped\n",
    "\n",
    "def error_on_the_mean(values):\n",
    "    return np.std(values)/np.sqrt(len(values))"
   ],
   "metadata": {
    "collapsed": false
   },
   "id": "b00d70814b026b5"
  },
  {
   "cell_type": "code",
   "execution_count": null,
   "outputs": [],
   "source": [
    "START_LEVELS = [-2.0, -1.0, -0.5, -0.2, -0.1, 0.1, 0.2, 0.5, 1.0, 2.0]\n",
    "DELTAS = [2.0, 1.0, 0.5, 0.2, 0.1, -0.1, -0.2, -0.5, -1.0, -2.0]\n",
    "LEVELS = {\n",
    "    (start, round(start+delta, 2)) for start in START_LEVELS for delta in DELTAS\n",
    "}\n",
    "\n",
    "VOL_LIMIT=0.05\n",
    "MARKET='UW'\n",
    "LEVELS"
   ],
   "metadata": {
    "collapsed": false
   },
   "id": "3757fa07548c69dd"
  },
  {
   "cell_type": "code",
   "execution_count": null,
   "outputs": [],
   "source": [
    "def make_megadataframe(market):\n",
    "    df_dict = {}\n",
    "    for t1, t2 in LEVELS:\n",
    "        # Create the strings for the threshold values\n",
    "        t1_string = f.stringify_threshold(t1)\n",
    "        t2_string = f.stringify_threshold(t2)\n",
    "        # Load the dataframe from the database if it exists\n",
    "        try:            \n",
    "            # Write the SQL query\n",
    "            query = f'''\n",
    "            SELECT *\n",
    "            FROM stabilvol_{t1_string}_{t2_string}\n",
    "            WHERE Volatility < {VOL_LIMIT} AND Market = \"{market}\"\n",
    "            '''\n",
    "            # Load the data from the database\n",
    "            df = pd.read_sql_query(query, conn)\n",
    "        except pd.errors.DatabaseError:\n",
    "            print(f'No data for market {market} with thresholds {t1_string}-{t2_string}')\n",
    "        else:\n",
    "            grouped_data = select_bins(df)\n",
    "            df_dict[(t1, t2)] = grouped_data\n",
    "    return df_dict"
   ],
   "metadata": {
    "collapsed": false
   },
   "id": "4103d7af7b94c473"
  },
  {
   "cell_type": "code",
   "execution_count": null,
   "outputs": [],
   "source": [
    "market = \"UN\"\n",
    "megaframe = make_megadataframe(market)\n",
    "\n",
    "thresholds_table = []\n",
    "\n",
    "for (t1, t2), data in megaframe.items():\n",
    "    t1_string = f.stringify_threshold(t1)\n",
    "    t2_string = f.stringify_threshold(t2)\n",
    "    # data.to_pickle(f'data/processed/trapezoidal_selection/mfht_{market}_{t1_string}_{t2_string}.pkl')\n",
    "    thresholds_table.append([t1, t2])\n",
    "    \n",
    "del megaframe\n",
    "del data"
   ],
   "metadata": {
    "collapsed": false
   },
   "id": "e3636669aec6be7e"
  },
  {
   "cell_type": "code",
   "execution_count": null,
   "outputs": [],
   "source": [
    "market = \"UW\"\n",
    "megaframe = make_megadataframe(market)\n",
    "\n",
    "thresholds_table = []\n",
    "\n",
    "for (t1, t2), data in megaframe.items():\n",
    "    t1_string = f.stringify_threshold(t1)\n",
    "    t2_string = f.stringify_threshold(t2)\n",
    "    # data.to_pickle(f'data/processed/trapezoidal_selection/mfht_{market}_{t1_string}_{t2_string}.pkl')\n",
    "    thresholds_table.append([t1, t2])\n",
    "    \n",
    "del megaframe\n",
    "del data"
   ],
   "metadata": {
    "collapsed": false
   },
   "id": "44dea21fc9706a40"
  },
  {
   "cell_type": "code",
   "execution_count": null,
   "outputs": [],
   "source": [
    "market = \"LN\"\n",
    "megaframe = make_megadataframe(market)\n",
    "\n",
    "thresholds_table = []\n",
    "\n",
    "for (t1, t2), data in megaframe.items():\n",
    "    t1_string = f.stringify_threshold(t1)\n",
    "    t2_string = f.stringify_threshold(t2)\n",
    "    # data.to_pickle(f'data/processed/trapezoidal_selection/mfht_{market}_{t1_string}_{t2_string}.pkl')\n",
    "    thresholds_table.append([t1, t2])\n",
    "    \n",
    "del megaframe\n",
    "del data"
   ],
   "metadata": {
    "collapsed": false
   },
   "id": "47a07956731b7ca8"
  },
  {
   "cell_type": "code",
   "execution_count": null,
   "outputs": [],
   "source": [
    "from IPython.display import display, Markdown\n",
    "\n",
    "# Create a dictionary where keys are the unique first elements and values are lists of corresponding second elements\n",
    "table_dict = {}\n",
    "\n",
    "thresholds_table = [[t1, t2] for t1, t2 in sorted(thresholds_table, key=lambda x: float(x[0]), reverse=False)]\n",
    "for item in thresholds_table:\n",
    "    if item[0] not in table_dict:\n",
    "        table_dict[item[0]] = [item[1]]\n",
    "    else:\n",
    "        table_dict[item[0]].append(item[1])\n",
    "\n",
    "# Create the markdown table\n",
    "markdown_table = f\"| Start Threshold {'| End |'*1} |\\n{'|:-------:|'*1}\\n\"\n",
    "for key, values in table_dict.items():\n",
    "    markdown_table += f\"| {key} | {'| '.join(sorted(values, key=lambda x: float(x)))} |\\n\"\n",
    "\n",
    "# Display the markdown table\n",
    "display(Markdown(markdown_table))"
   ],
   "metadata": {
    "collapsed": false
   },
   "id": "8dea636594bd008e"
  },
  {
   "cell_type": "code",
   "execution_count": null,
   "outputs": [],
   "source": [
    "market = \"UN\"\n",
    "n_rows = 10\n",
    "n_cols = 10\n",
    "\n",
    "# Create a grid of subplots\n",
    "fig, axs = plt.subplots(n_rows, n_cols, layout='constrained', figsize=(16, 16))\n",
    "\n",
    "# Flatten the array of axes\n",
    "axs = axs.flatten()\n",
    "\n",
    "# Iterate over the indices and axes\n",
    "for i, ((t1, t2), ax) in enumerate(zip(LEVELS, axs)):\n",
    "    # Create the strings for the threshold values\n",
    "    t1_string = f.stringify_threshold(t1)\n",
    "    t2_string = f.stringify_threshold(t2)\n",
    "    \n",
    "    # Load the dataframe from the database if it exists\n",
    "    try:\n",
    "        df = pd.read_pickle(f'data/processed/trapezoidal_selection/mfht_{market}_{t1_string}_{t2_string}.pkl')\n",
    "    except FileNotFoundError:\n",
    "        continue\n",
    "    else:\n",
    "        \n",
    "        x = df.index.categories.left.values\n",
    "        y = df['mean'].values\n",
    "        \n",
    "        y_err = df['error_on_the_mean'].values\n",
    "        \n",
    "        ax.plot(x, y)\n",
    "        ax.fill_between(x, y - y_err, y + y_err, alpha=0.2)\n",
    "        \n",
    "        # If this is the first column, set the y-label\n",
    "        if i % n_cols == 0:\n",
    "            ax.set_ylabel(f\"$\\\\theta_i = {t1}$\")\n",
    "        # Always set the title with the final threshold value\n",
    "        ax.set_title(f\"$\\\\theta_f = {t2}$\")\n",
    "        \n",
    "        # ax.set_xlim(0, 1)\n",
    "\n",
    "plt.show()\n",
    "fig.savefig('data/processed/trapezoidal_selection/grid.png')"
   ],
   "metadata": {
    "collapsed": false
   },
   "id": "57b6d4e0d485cdb5"
  },
  {
   "cell_type": "code",
   "execution_count": null,
   "outputs": [],
   "source": [],
   "metadata": {
    "collapsed": false
   },
   "id": "869c425431a7d643"
  },
  {
   "cell_type": "code",
   "execution_count": null,
   "outputs": [],
   "source": [],
   "metadata": {
    "collapsed": false
   },
   "id": "154f54de5c62f7ff"
  }
 ],
 "metadata": {
  "kernelspec": {
   "display_name": "Python 3",
   "language": "python",
   "name": "python3"
  },
  "language_info": {
   "codemirror_mode": {
    "name": "ipython",
    "version": 2
   },
   "file_extension": ".py",
   "mimetype": "text/x-python",
   "name": "python",
   "nbconvert_exporter": "python",
   "pygments_lexer": "ipython2",
   "version": "2.7.6"
  }
 },
 "nbformat": 4,
 "nbformat_minor": 5
}
