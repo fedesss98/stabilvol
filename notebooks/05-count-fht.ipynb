{
 "cells": [
  {
   "cell_type": "code",
   "execution_count": null,
   "outputs": [],
   "source": [
    "%matplotlib inline\n",
    "import matplotlib.pyplot as plt\n",
    "import pandas as pd\n",
    "import numpy as np\n",
    "import seaborn as sns\n",
    "import time\n",
    "\n",
    "from stabilvol.utility.classes.data_extraction import DataExtractor"
   ],
   "metadata": {
    "collapsed": false
   }
  },
  {
   "cell_type": "code",
   "execution_count": null,
   "outputs": [],
   "source": [
    "filename = '../data/interim/JT.pickle'\n",
    "extractor = DataExtractor(start_date='2002-01-01', duration=12, criterion_value=10)\n",
    "gf = extractor.extract_data(filename)\n",
    "gf"
   ],
   "metadata": {
    "collapsed": false
   }
  },
  {
   "cell_type": "code",
   "execution_count": null,
   "outputs": [],
   "source": [
    "total_std = gf.std().mean()\n",
    "start = -0.1 * total_std\n",
    "end = -1.5 * total_std\n",
    "print(total_std, start, end, sep='\\n')"
   ],
   "metadata": {
    "collapsed": false
   }
  },
  {
   "cell_type": "code",
   "execution_count": null,
   "outputs": [],
   "source": [
    "def set_states(series):\n",
    "    series_iterator = np.nditer(series, flags=['c_index'])\n",
    "    X = np.zeros(series.shape, dtype=np.int8)\n",
    "    counting = False\n",
    "    for x in series_iterator:\n",
    "        i = series_iterator.index\n",
    "        if x > start and not counting:\n",
    "            X[i] = 1\n",
    "            counting = True\n",
    "        elif x < end and counting:\n",
    "            X[i] = -1\n",
    "            counting = False\n",
    "    return X"
   ],
   "metadata": {
    "collapsed": false
   }
  },
  {
   "cell_type": "code",
   "execution_count": null,
   "outputs": [],
   "source": [
    "start_time = time.time()\n",
    "gf_states = gf2.apply(set_states, raw=True)\n",
    "print(f'Execution time: {time.time() - start_time}')\n",
    "gf_states"
   ],
   "metadata": {
    "collapsed": false
   }
  },
  {
   "cell_type": "code",
   "execution_count": null,
   "outputs": [],
   "source": [
    "sns.heatmap(gf_states.T, cmap='coolwarm')"
   ],
   "metadata": {
    "collapsed": false
   }
  },
  {
   "cell_type": "code",
   "execution_count": null,
   "outputs": [],
   "source": [
    "def select_date_ranges(series):\n",
    "    date_ranges = []\n",
    "    counting = False\n",
    "    for i, x in series.items():\n",
    "        if x > start and not counting:\n",
    "            start_index = i\n",
    "            counting = True\n",
    "        elif x < end and counting:\n",
    "            end_index = i\n",
    "            date_ranges.append((start_index, end_index))\n",
    "            counting = False\n",
    "    return date_ranges\n",
    "\n",
    "date_ranges = gf2.apply(select_date_ranges)\n",
    "date_ranges"
   ],
   "metadata": {
    "collapsed": false
   }
  },
  {
   "cell_type": "code",
   "execution_count": null,
   "outputs": [],
   "source": [
    "start_time = time.time()\n",
    "stabilvol = []\n",
    "for stock, series in gf2.items():\n",
    "    for interval in date_ranges[stock]:\n",
    "        chunck = series.loc[interval[0]: interval[1]]\n",
    "        volatility = chunck.std()\n",
    "        fht = len(chunck)\n",
    "        stabilvol.append((volatility, fht))\n",
    "end_time = time.time()\n",
    "print(f'Execution time: {end_time - start_time}')"
   ],
   "metadata": {
    "collapsed": false
   }
  }
 ],
 "metadata": {
  "kernelspec": {
   "display_name": "Python 3",
   "language": "python",
   "name": "python3"
  },
  "language_info": {
   "codemirror_mode": {
    "name": "ipython",
    "version": 2
   },
   "file_extension": ".py",
   "mimetype": "text/x-python",
   "name": "python",
   "nbconvert_exporter": "python",
   "pygments_lexer": "ipython2",
   "version": "2.7.6"
  }
 },
 "nbformat": 4,
 "nbformat_minor": 0
}
