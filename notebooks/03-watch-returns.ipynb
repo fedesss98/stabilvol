{
 "cells": [
  {
   "cell_type": "code",
   "execution_count": null,
   "metadata": {
    "collapsed": true
   },
   "outputs": [],
   "source": [
    "%matplotlib inline\n",
    "import matplotlib.pyplot as plt\n",
    "import pandas as pd\n",
    "import numpy as np\n",
    "import seaborn as sns\n",
    "import time\n",
    "\n",
    "from stabilvol.utility.classes.data_extraction import DataExtractor"
   ]
  },
  {
   "cell_type": "markdown",
   "source": [
    "# How to make Returns"
   ],
   "metadata": {
    "collapsed": false
   }
  },
  {
   "cell_type": "markdown",
   "source": [
    "## Watch Prices"
   ],
   "metadata": {
    "collapsed": false
   }
  },
  {
   "cell_type": "code",
   "execution_count": null,
   "outputs": [],
   "source": [
    "market = 'GF'\n",
    "df = pd.read_pickle(f'../data/raw/{market}.pickle')\n",
    "df.head()"
   ],
   "metadata": {
    "collapsed": false
   }
  },
  {
   "cell_type": "code",
   "execution_count": null,
   "outputs": [],
   "source": [
    "Y1 = [np.nan, np.nan, np.nan, 9, 6, 6, 1, 2, 6, 4, 6, 10, 10]\n",
    "Y2 = [np.nan, np.nan, np.nan, 1, np.nan, 6, 3, np.nan, 6, 1, 4, np.nan, 7]\n",
    "Y3 = [np.nan, np.nan, np.nan, 1, 2, np.nan, 10, 2, 6, 7, 4, 6, 10]\n",
    "Y4 = [np.nan, np.nan, np.nan, np.nan, 6, 5, 5, 7, 6, np.nan, 9, 8, np.nan]\n",
    "Y5 = [np.nan, np.nan, np.nan, np.nan, np.nan, np.nan, np.nan, 7, 6, 7, 9, 8, 7]\n",
    "fk = pd.DataFrame(np.array([Y1, Y2, Y3, Y4, Y5]).T,\n",
    "                  columns=['y1', 'y2', 'y3', 'y4', 'y5'],\n",
    "                  index=pd.date_range('2002-01-01', periods=13))\n",
    "fig, ax = plt.subplots(figsize=(10, 4))\n",
    "g = sns.heatmap(fk.T, linewidths=1, linecolor='white', cbar=False, ax=ax)"
   ],
   "metadata": {
    "collapsed": false
   }
  },
  {
   "cell_type": "code",
   "execution_count": null,
   "outputs": [],
   "source": [
    "returns = fk.pct_change(fill_method=None)\n",
    "pd.merge(returns['y2'], fk['y2'], left_index=True, right_index=True)"
   ],
   "metadata": {
    "collapsed": false
   }
  },
  {
   "cell_type": "code",
   "execution_count": null,
   "outputs": [],
   "source": [
    "filename = '../data/interim/GF.pickle'\n",
    "alldata = pd.read_pickle(filename).loc['2002':'2014']\n",
    "extractor = DataExtractor(start_date='2002-01-01', duration=12, criterion_value=6)\n",
    "selected = extractor.extract_data(filename)\n",
    "selected"
   ],
   "metadata": {
    "collapsed": false
   }
  },
  {
   "cell_type": "code",
   "execution_count": null,
   "outputs": [],
   "source": [
    "total_std = selected.std().mean()\n",
    "start = -0.1 * total_std\n",
    "end = -1.5 * total_std\n",
    "print(total_std, start, end, sep='\\n')"
   ],
   "metadata": {
    "collapsed": false
   }
  },
  {
   "cell_type": "code",
   "execution_count": null,
   "outputs": [],
   "source": [
    "ax = sns.heatmap(alldata.T,\n",
    "                 vmin=alldata.min().mean(),\n",
    "                 vmax=alldata.max().mean())"
   ],
   "metadata": {
    "collapsed": false
   }
  },
  {
   "cell_type": "code",
   "execution_count": null,
   "outputs": [],
   "source": [
    "ax = sns.heatmap(selected.T,\n",
    "                 vmin=selected.min().median(),\n",
    "                 vmax=selected.max().median())"
   ],
   "metadata": {
    "collapsed": false
   }
  },
  {
   "cell_type": "code",
   "execution_count": null,
   "outputs": [],
   "source": [
    "selected.describe(percentiles=[]).T.describe(percentiles=[])"
   ],
   "metadata": {
    "collapsed": false
   }
  },
  {
   "cell_type": "code",
   "execution_count": null,
   "outputs": [],
   "source": [],
   "metadata": {
    "collapsed": false
   }
  }
 ],
 "metadata": {
  "kernelspec": {
   "display_name": "Python 3",
   "language": "python",
   "name": "python3"
  },
  "language_info": {
   "codemirror_mode": {
    "name": "ipython",
    "version": 2
   },
   "file_extension": ".py",
   "mimetype": "text/x-python",
   "name": "python",
   "nbconvert_exporter": "python",
   "pygments_lexer": "ipython2",
   "version": "2.7.6"
  }
 },
 "nbformat": 4,
 "nbformat_minor": 0
}
