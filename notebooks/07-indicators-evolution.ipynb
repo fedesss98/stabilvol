{
 "cells": [
  {
   "cell_type": "code",
   "execution_count": null,
   "metadata": {
    "collapsed": true
   },
   "outputs": [],
   "source": [
    "from utility.classes.data_extraction import DataExtractor\n",
    "from utility.classes.stability_analysis import StabilVolter, MeanFirstHittingTimes\n",
    "\n",
    "import matplotlib.pyplot as plt\n",
    "from time import time\n",
    "from tqdm import tqdm\n",
    "from pathlib import Path\n",
    "import pandas as pd\n",
    "\n",
    "DATABASE = Path('../data/interim')\n",
    "\n",
    "MARKET = 'UN'\n",
    "CRITERION = 'percentage'\n",
    "VALUE = 0.8\n",
    "\n",
    "START_LEVEL = -0.1\n",
    "END_LEVEL = -1.5\n",
    "TAU_MAX = 1e6\n",
    "NBINS = 1000"
   ]
  },
  {
   "cell_type": "code",
   "execution_count": null,
   "outputs": [],
   "source": [
    "def print_indicators_table(header, indicators):\n",
    "    print(header)\n",
    "    keys = list(indicators.keys())\n",
    "    values = list(indicators.values())\n",
    "    keys_width = max(len(key) for key in keys)\n",
    "    values_width = max(len(str(value)) for value in values)\n",
    "    table_width = keys_width + values_width + 5\n",
    "    print(f\"{'-' * table_width}\")\n",
    "    print(f\"|{'Key':^{keys_width}}|{'Value':^{values_width}}|\")\n",
    "    print(f\"{'-' * table_width}\")\n",
    "    for key, value in indicators.items():\n",
    "        value_str = str(value) if not isinstance(value, tuple) else ', '.join(map(str, value))\n",
    "        print(f\"|{key:<{keys_width}}|{value_str:^{values_width}}|\")\n",
    "    print(f\"{'-' * table_width}\")\n",
    "\n",
    "def analyze_and_plot_mfht(start_date, end_date, plot=True, visible=True):\n",
    "    accountant = DataExtractor(\n",
    "            start_date=start_date,\n",
    "            end_date=end_date,\n",
    "            criterion=CRITERION,\n",
    "            criterion_value=VALUE,\n",
    "            sigma_range=(1e-5, 1e5)\n",
    "    )\n",
    "    data = accountant.extract_data(DATABASE / f'{MARKET}.pickle')\n",
    "\n",
    "    analyst = StabilVolter(\n",
    "        start_level=START_LEVEL,\n",
    "        end_level=END_LEVEL,\n",
    "        tau_max=TAU_MAX)\n",
    "    analysis_info = {\n",
    "        'Market': MARKET,\n",
    "        'Start date': accountant.start_date.strftime(\"%Y-%m-%d\"),\n",
    "        'Window length': int(accountant.window.length.days / 365.2425)\n",
    "    }\n",
    "    start_time = time()\n",
    "    stabilvol = analyst.get_stabilvol(data, 'multi', **analysis_info)\n",
    "    end_time = time()\n",
    "    mfht = MeanFirstHittingTimes(stabilvol, nbins=NBINS, max_volatility=0.2)\n",
    "    if plot:\n",
    "        if visible:\n",
    "            ax = mfht.plot(edit=True, indicators=False)\n",
    "            ax.set_ylim(0, 55)\n",
    "            ax.set_xlim(0, 0.2)\n",
    "            plt.savefig(f'../visualization/dynamics/mfht_naked.png', dpi=300, transparent=False)\n",
    "            plt.show()\n",
    "            ax = mfht.plot(edit=True)\n",
    "            ax.set_ylim(0, 55)\n",
    "            ax.set_xlim(0, 0.2)\n",
    "            plt.savefig(f'../visualization/dynamics/mfht.png', dpi=300, transparent=False)\n",
    "            plt.show()\n",
    "        ax = mfht.plot(invisible=True, edit=True)\n",
    "        ax.set_ylim(0, 55)\n",
    "        ax.set_xlim(0, 0.2)\n",
    "        plt.savefig(f'../visualization/dynamics/mfht_indicators_0.png', dpi=300, transparent=True)\n",
    "        plt.show()\n",
    "    return mfht.indicators"
   ],
   "metadata": {
    "collapsed": false
   }
  },
  {
   "cell_type": "code",
   "execution_count": null,
   "outputs": [],
   "source": [
    "start_date = '1990-01-01'\n",
    "end_date = '1995'\n",
    "\n",
    "analyze_and_plot_mfht(start_date, end_date, visible=True)"
   ],
   "metadata": {
    "collapsed": false
   }
  },
  {
   "cell_type": "code",
   "execution_count": null,
   "outputs": [],
   "source": [
    "dates = pd.date_range(start='1990-01-01', end='2000-01-01', freq='4MS').to_list()\n",
    "indicators = []\n",
    "for start_date in tqdm(dates):\n",
    "    end_date = start_date + pd.DateOffset(years=5)\n",
    "    mfht_indicators = analyze_and_plot_mfht(start_date, end_date, plot=False, visible=False)\n",
    "    indicators.append(mfht_indicators)"
   ],
   "metadata": {
    "collapsed": false
   }
  },
  {
   "cell_type": "code",
   "execution_count": null,
   "outputs": [],
   "source": [
    "indicators_df = pd.DataFrame(indicators)\n",
    "indicators_df.index = dates\n",
    "indicators_df.plot(subplots=True)\n",
    "indicators_df.max()"
   ],
   "metadata": {
    "collapsed": false
   }
  },
  {
   "cell_type": "code",
   "execution_count": null,
   "outputs": [],
   "source": [
    "params = {\"ytick.color\" : \"w\", \"xtick.color\" : \"w\", \"axes.labelcolor\" : \"w\", \"axes.edgecolor\" : \"w\"}\n",
    "plt.rcParams.update(params)\n",
    "for start_date in tqdm(dates):\n",
    "    fig, ax = plt.subplots(figsize=(10, 6))\n",
    "    fig.suptitle('Mean First Hitting Times', color='white')\n",
    "    # Set the figure background color to black\n",
    "    ax.set_facecolor('black')\n",
    "    ax.set_title(f'{NBINS} bins', color='white')\n",
    "    index = pd.Timestamp(start_date)\n",
    "    y = indicators_df.loc[start_date, 'Max']\n",
    "    x = indicators_df.loc[start_date, 'Peak']\n",
    "    fwhm = indicators_df.loc[start_date, 'FWHM']\n",
    "    # Max Point\n",
    "    ax.axhline(y=y, ls='--', c='r')\n",
    "    ax.axvline(x=x, ls='--', c='r')\n",
    "    ax.scatter(x=x, y=y, c='r')\n",
    "    # Width\n",
    "    left_range = x - fwhm / 2\n",
    "    right_range = x + fwhm / 2\n",
    "    ax.axvspan(left_range, right_range, color='r', alpha=0.2)\n",
    "    # Set limits\n",
    "    ax.set_ylim(0, 55)\n",
    "    ax.set_xlim(0, 0.2)\n",
    "    ax.tick_params(axis='x', colors='white')\n",
    "    ax.tick_params(axis='y', colors='white')\n",
    "    # Save\n",
    "    start_date_string = start_date.strftime(\"%Y_%m_%d\")\n",
    "    plt.savefig(f'../visualization/dynamics/indicators_evolution/mfht_indicators_{start_date_string}.png',\n",
    "                dpi=300, facecolor='black')\n",
    "    # Show\n",
    "    # plt.show()\n",
    "    plt.close()"
   ],
   "metadata": {
    "collapsed": false
   }
  },
  {
   "cell_type": "code",
   "execution_count": null,
   "outputs": [],
   "source": [
    "import os\n",
    "from PIL import Image\n",
    "\n",
    "# Create the frames\n",
    "frames = []\n",
    "path = \"../visualization/dynamics/indicators_evolution\"\n",
    "for frame in os.listdir(path):\n",
    "    new_frame = Image.open(path + \"/\" + frame)\n",
    "    frames.append(new_frame)\n",
    "\n",
    "# Save into a GIF file\n",
    "frames[0].save(\"../visualization/dynamics/output/animation.gif\", format='GIF', append_images=frames[1:], save_all=True, duration=240, loop=0)"
   ],
   "metadata": {
    "collapsed": false
   }
  },
  {
   "cell_type": "code",
   "execution_count": null,
   "outputs": [],
   "source": [],
   "metadata": {
    "collapsed": false
   }
  }
 ],
 "metadata": {
  "kernelspec": {
   "display_name": "Python 3",
   "language": "python",
   "name": "python3"
  },
  "language_info": {
   "codemirror_mode": {
    "name": "ipython",
    "version": 2
   },
   "file_extension": ".py",
   "mimetype": "text/x-python",
   "name": "python",
   "nbconvert_exporter": "python",
   "pygments_lexer": "ipython2",
   "version": "2.7.6"
  }
 },
 "nbformat": 4,
 "nbformat_minor": 0
}
