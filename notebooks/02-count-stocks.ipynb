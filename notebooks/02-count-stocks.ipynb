{
 "cells": [
  {
   "cell_type": "markdown",
   "id": "b89559b2-bd20-4c26-a509-602002c88b24",
   "metadata": {},
   "source": [
    "# Stocks Number Analysis"
   ]
  },
  {
   "cell_type": "code",
   "execution_count": null,
   "id": "19775c66-c5d2-4f74-89f4-5a0f660b6111",
   "metadata": {},
   "outputs": [],
   "source": [
    "import matplotlib.pyplot as plt\n",
    "from matplotlib.patches import Rectangle\n",
    "%matplotlib inline\n",
    "\n",
    "import plotly.express as px\n",
    "\n",
    "from pandas.tseries.holiday import USFederalHolidayCalendar\n",
    "\n",
    "import numpy as np\n",
    "import pandas as pd\n",
    "import seaborn as sns\n",
    "from pathlib import Path\n",
    "\n",
    "ROOT = Path('../../stabilizing_volatility')\n",
    "DATA = Path('G:/UNIPA/ECONOFISICA/DATA/BLOOMBERG')"
   ]
  },
  {
   "cell_type": "code",
   "execution_count": null,
   "id": "3f935ee4-7b76-46fa-844b-d5f589fb016e",
   "metadata": {},
   "outputs": [],
   "source": [
    "def read_raw_data(market):\n",
    "    raw_data = DATA / f'{market}.csv'\n",
    "    df = pd.read_csv(raw_data,\n",
    "                     index_col=0,\n",
    "                     skiprows=[1],\n",
    "                     sep=';',\n",
    "                     decimal=',',\n",
    "                     parse_dates=True,\n",
    "                     infer_datetime_format=True,\n",
    "                     na_values=['#N/D'])\n",
    "    df.rename(columns=lambda x: x.replace(f' {market} Equity', ''), inplace=True)\n",
    "    df.index.name = 'Day'\n",
    "    # Order columns by number of values\n",
    "    ordered_columns_list = df.isnull().sum().sort_values().index\n",
    "    df = df.loc[:, ordered_columns_list]\n",
    "    return df\n",
    "\n",
    "def manipulate_dataframe(df, simple_index=False):\n",
    "    # Order columns by number of values\n",
    "    ordered_columns_list = df.isnull().sum().sort_values().index\n",
    "    df = df.loc[:, ordered_columns_list]\n",
    "    # Select business days\n",
    "    business_days = pd.bdate_range(df.index[0], df.index[-1])\n",
    "    df = df.loc[business_days]\n",
    "    # Convert index format for easier visualization\n",
    "    if simple_index:\n",
    "        df.index = pd.to_datetime(df.index).strftime(\"%Y\")\n",
    "    return df\n",
    "\n",
    "def make_plot(df, market):\n",
    "    fig, ax = plt.subplots(figsize=(16, 8))\n",
    "    sns.heatmap(df.isnull().T,\n",
    "                yticklabels=False,\n",
    "                xticklabels=365,\n",
    "                cmap='gray',\n",
    "                cbar=False,\n",
    "                ax=ax)\n",
    "    ax.set_title(f'Missing data in {market} market', fontsize=24)\n",
    "    ax.set_ylabel('Stocks', fontsize=24)\n",
    "    ax.set_xlabel('Days', fontsize=24)\n",
    "    ax.grid(visible=True, ls='--')\n",
    "    return ax\n",
    "\n",
    "def make_miniplot(df, height=4):\n",
    "    df_to_plot = df.copy()\n",
    "    df_to_plot.index = pd.to_datetime(df_to_plot.index).strftime(\"%Y\")\n",
    "    fig, ax = plt.subplots(figsize=(16, height))\n",
    "    sns.heatmap(df_to_plot.isnull().T,\n",
    "                xticklabels=365,\n",
    "                cmap='gray',\n",
    "                cbar=False,\n",
    "                ax=ax)\n",
    "    ax.grid(visible=True, ls='--')\n",
    "    return ax\n",
    "\n",
    "def normalize_data(df):\n",
    "    return df / df.max()"
   ]
  },
  {
   "cell_type": "code",
   "execution_count": null,
   "id": "f9c5e9ca-60d4-4ed4-8bb7-b9c9631c46a2",
   "metadata": {},
   "outputs": [],
   "source": [
    "market = 'GF'\n",
    "df = read_raw_data(market)\n",
    "df = manipulate_dataframe(df)\n",
    "display(df.index[0])\n",
    "display(df.index[-1])\n",
    "display(df.shape)\n",
    "\n",
    "make_plot(manipulate_dataframe(df), market)"
   ]
  },
  {
   "cell_type": "code",
   "execution_count": null,
   "id": "4598dab8",
   "metadata": {},
   "outputs": [],
   "source": [
    "dummy = normalize_data(df.iloc[-10000:-400, :100])\n",
    "make_miniplot(dummy)"
   ]
  },
  {
   "cell_type": "markdown",
   "id": "69d448a2",
   "metadata": {},
   "source": [
    "## Create a Ten-Year-Long Window"
   ]
  },
  {
   "cell_type": "code",
   "execution_count": null,
   "id": "b719c1b5",
   "metadata": {},
   "outputs": [],
   "source": [
    "window_delta = pd.tseries.offsets.DateOffset(years=10)\n",
    "window_start = dummy.first_valid_index()\n",
    "window_end = window_start + window_delta\n",
    "window = pd.Interval(window_start, window_end)\n",
    "window"
   ]
  },
  {
   "cell_type": "code",
   "execution_count": null,
   "id": "c3dc179f-3efa-41eb-9458-b07348dcb517",
   "metadata": {},
   "outputs": [],
   "source": [
    "ax = make_miniplot(dummy, height=8)\n",
    "ax.add_patch(Rectangle((4000, -10), 3200, 115,\n",
    "                       edgecolor = 'red',\n",
    "                       facecolor = 'red',\n",
    "                       fill=True,\n",
    "                       alpha=0.2,\n",
    "                       lw=2))"
   ]
  },
  {
   "cell_type": "markdown",
   "id": "4bbf9819",
   "metadata": {},
   "source": [
    "## Slide the Window and Count Stocks"
   ]
  },
  {
   "cell_type": "code",
   "execution_count": null,
   "id": "19926ad2",
   "metadata": {},
   "outputs": [],
   "source": [
    "slide = window\n",
    "shift = pd.Timedelta('30d')\n",
    "stock_count = dict()\n",
    "count = 0\n",
    "while slide.right < dummy.last_valid_index():\n",
    "    slide = slide + shift\n",
    "    sliced_stocks = dummy.loc[slide.left : slide.right]\n",
    "    prc_data = sliced_stocks.count() / len(sliced_stocks)\n",
    "    # Select and count stocks with more than 90% of data in slide\n",
    "    selected_stocks = sliced_stocks.loc[:, prc_data > 0.9].columns\n",
    "    if len(selected_stocks) != count:\n",
    "        count = len(selected_stocks)\n",
    "        stock_count[slide] = count, selected_stocks.values\n",
    "stock_count = pd.DataFrame.from_dict(stock_count, orient='index', columns=['Count', 'Stocks'])\n",
    "stock_count"
   ]
  },
  {
   "cell_type": "code",
   "execution_count": null,
   "id": "12438f49",
   "metadata": {
    "scrolled": false
   },
   "outputs": [],
   "source": [
    "for interval, stocks in stock_count.iloc[-5: ].iterrows():\n",
    "    fig = px.imshow(dummy.isnull().T.astype(int),\n",
    "                    aspect=\"auto\",\n",
    "                    color_continuous_scale='PuBu_r',\n",
    "                    title=f'N = {stocks[\"Count\"]}')\n",
    "    fig.add_vrect(x0=interval.left, x1=interval.right,\n",
    "                  fillcolor=\"red\", opacity=0.5,\n",
    "                  line_width=0)\n",
    "    for column in stocks['Stocks']:\n",
    "        y = dummy.columns.get_loc(column)\n",
    "        fig.add_shape(type=\"rect\",\n",
    "                      x0 = interval.left, x1 = interval.right,\n",
    "                      y0 = y - 0.5, y1 = y + 0.5,\n",
    "                      fillcolor=\"yellow\", opacity=0.5,\n",
    "                      line_width = 0)\n",
    "    fig.show()"
   ]
  },
  {
   "cell_type": "code",
   "execution_count": null,
   "id": "c49e82c8",
   "metadata": {},
   "outputs": [],
   "source": [
    "slide = window\n",
    "shift = pd.Timedelta('30d')\n",
    "stock_count = dict()\n",
    "count = 0\n",
    "delta = pd.Timedelta('5d')\n",
    "while slide.right < dummy.last_valid_index():\n",
    "    slide = slide + shift\n",
    "    sliced_stocks = dummy.loc[slide.left : slide.right]\n",
    "    left_distance = sliced_stocks.apply(pd.Series.first_valid_index) - slide.left\n",
    "    right_distance = slide.right - sliced_stocks.apply(pd.Series.last_valid_index)\n",
    "    selected_stocks = sliced_stocks.loc[:, (left_distance < delta) & (right_distance < delta)].columns\n",
    "    if len(selected_stocks) != count:\n",
    "        count = len(selected_stocks)\n",
    "        stock_count[slide] = count, selected_stocks.values\n",
    "stock_count = pd.DataFrame.from_dict(stock_count, orient='index', columns=['Count', 'Stocks'])\n",
    "stock_count"
   ]
  },
  {
   "cell_type": "code",
   "execution_count": null,
   "id": "ae1c1c21",
   "metadata": {},
   "outputs": [],
   "source": [
    "for interval, stocks in stock_count.iloc[138:].iterrows():\n",
    "    fig = px.imshow(dummy.isnull().T.astype(int),\n",
    "                    aspect=\"auto\",\n",
    "                    color_continuous_scale='PuBu_r',\n",
    "                    title=f'N = {stocks[\"Count\"]}')\n",
    "    fig.add_vrect(x0=interval.left, x1=interval.right,\n",
    "                  fillcolor=\"red\", opacity=0.5,\n",
    "                  line_width=0)\n",
    "    for column in stocks['Stocks']:\n",
    "        y = dummy.columns.get_loc(column)\n",
    "        fig.add_shape(type=\"rect\",\n",
    "                      x0 = interval.left, x1 = interval.right,\n",
    "                      y0 = y - 0.5, y1 = y + 0.5,\n",
    "                      fillcolor=\"yellow\", opacity=0.5,\n",
    "                      line_width = 0)\n",
    "    fig.show()"
   ]
  },
  {
   "cell_type": "code",
   "execution_count": null,
   "id": "9e5b8ad9",
   "metadata": {},
   "outputs": [],
   "source": []
  }
 ],
 "metadata": {
  "kernelspec": {
   "display_name": "Python 3 (ipykernel)",
   "language": "python",
   "name": "python3"
  },
  "language_info": {
   "codemirror_mode": {
    "name": "ipython",
    "version": 3
   },
   "file_extension": ".py",
   "mimetype": "text/x-python",
   "name": "python",
   "nbconvert_exporter": "python",
   "pygments_lexer": "ipython3",
   "version": "3.10.6"
  }
 },
 "nbformat": 4,
 "nbformat_minor": 5
}
